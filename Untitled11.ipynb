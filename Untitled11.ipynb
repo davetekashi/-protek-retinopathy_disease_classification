{
  "cells": [
    {
      "cell_type": "code",
      "execution_count": 2,
      "metadata": {
        "id": "I6LOsI1QTbvh"
      },
      "outputs": [],
      "source": [
        "import os\n",
        "import random\n",
        "import pandas as pd \n",
        "import numpy as np \n",
        "import matplotlib.pyplot as plt\n",
        "import cv2\n",
        "from tensorflow import keras\n",
        "import tensorflow as tf\n",
        "import keras.backend as K\n",
        "from sklearn.neighbors import KNeighborsClassifier\n",
        "from skimage import feature   \n",
        "from itertools import chain\n",
        "import argparse\n",
        "from tensorflow.keras.preprocessing.image import ImageDataGenerator\n",
        "from tensorflow.keras.models import Sequential\n",
        "from tensorflow.keras.layers import InputLayer, BatchNormalization, Dropout, Flatten, Dense, Activation, MaxPool2D, Conv2D\n",
        "from tensorflow.keras.layers import Conv2D, Dense, Flatten, Dropout, Activation, SimpleRNN\n",
        "from tensorflow.keras.layers import BatchNormalization, Reshape, MaxPooling2D, GlobalAveragePooling2D, SimpleRNN\n",
        "from tensorflow.keras.callbacks import EarlyStopping, ModelCheckpoint, ReduceLROnPlateau\n",
        "\n",
        "from sklearn.preprocessing import label_binarize\n",
        "from sklearn.discriminant_analysis import LinearDiscriminantAnalysis\n",
        "from sklearn.preprocessing import StandardScaler\n",
        "from sklearn.neighbors import KNeighborsClassifier\n",
        "from sklearn.preprocessing import MinMaxScaler\n",
        "from keras.wrappers.scikit_learn import KerasClassifier\n",
        "from sklearn.model_selection import GridSearchCV, KFold\n",
        "\n",
        "from PIL import Image\n",
        "from PIL import UnidentifiedImageError\n",
        "\n",
        "from sklearn.preprocessing import OneHotEncoder\n",
        "\n",
        "from sklearn.model_selection import train_test_split\n",
        "\n",
        "from sklearn.metrics import classification_report, confusion_matrix, roc_curve, auc\n",
        "import itertools\n",
        "from sklearn.preprocessing import StandardScaler\n",
        "\n",
        "import warnings\n",
        "warnings.filterwarnings('ignore')\n",
        "from sklearn import metrics\n",
        "from sklearn.preprocessing import label_binarize\n",
        "from sklearn.discriminant_analysis import LinearDiscriminantAnalysis\n",
        "from sklearn.preprocessing import StandardScaler\n",
        "from sklearn.neighbors import KNeighborsClassifier\n",
        "from sklearn.preprocessing import MinMaxScaler\n",
        "from sklearn.decomposition import FastICA\n",
        "from sklearn.ensemble import RandomForestClassifier"
      ]
    },
    {
      "cell_type": "code",
      "source": [
        "from google.colab import drive\n",
        "drive.mount('/content/drive')"
      ],
      "metadata": {
        "colab": {
          "base_uri": "https://localhost:8080/"
        },
        "id": "BXTrpQRjlHZ3",
        "outputId": "5965a484-ae22-4131-ef86-77b3d6959c5a"
      },
      "execution_count": 1,
      "outputs": [
        {
          "output_type": "stream",
          "name": "stdout",
          "text": [
            "Drive already mounted at /content/drive; to attempt to forcibly remount, call drive.mount(\"/content/drive\", force_remount=True).\n"
          ]
        }
      ]
    },
    {
      "cell_type": "code",
      "execution_count": 3,
      "metadata": {
        "id": "Gb4YgeA_TwF6"
      },
      "outputs": [],
      "source": [
        "#===============importing the dataset from the directory========================#\n",
        "Healthy = os.listdir(r\"/content/drive/MyDrive/diabetic-retinopathy-dataset/Healthy\")\n",
        "Mild = os.listdir(r'/content/drive/MyDrive/diabetic-retinopathy-dataset/Mild DR')\n",
        "Moderate = os.listdir(r'/content/drive/MyDrive/diabetic-retinopathy-dataset/Moderate DR')\n",
        "Proliferate = os.listdir(r'/content/drive/MyDrive/diabetic-retinopathy-dataset/Proliferate DR')\n",
        "Severe = os.listdir(r'/content/drive/MyDrive/diabetic-retinopathy-dataset/Severe DR')"
      ]
    },
    {
      "cell_type": "code",
      "execution_count": 4,
      "metadata": {
        "colab": {
          "base_uri": "https://localhost:8080/"
        },
        "id": "z0H23-bBUeZz",
        "outputId": "ff0425cc-cb15-49b0-c2a3-8a0fa320deea"
      },
      "outputs": [
        {
          "output_type": "stream",
          "name": "stdout",
          "text": [
            "(108, 225, 225, 3) (108,)\n"
          ]
        }
      ],
      "source": [
        "img_w, img_h = 225, 225 #setting the image width and height for easy processing\n",
        "X = []\n",
        "y = []\n",
        "\n",
        "for i in Healthy:\n",
        "    try:\n",
        "        img = Image.open(\"/content/drive/MyDrive/diabetic-retinopathy-dataset/Healthy/\" + i).convert('RGB')\n",
        "        img = img.resize((img_w,img_h))\n",
        "        X.append(np.asarray(img))\n",
        "        y.append(0)\n",
        "    except UnidentifiedImageError: # it passes an image that wasn't correctly identified\n",
        "        pass\n",
        "    \n",
        "for i in Mild:\n",
        "    try:\n",
        "        img = Image.open(\"/content/drive/MyDrive/diabetic-retinopathy-dataset/Mild DR/\" + i).convert('RGB')\n",
        "        img = img.resize((img_w,img_h))\n",
        "        X.append(np.asarray(img))\n",
        "        y.append(1)\n",
        "    except UnidentifiedImageError:\n",
        "        pass\n",
        "    \n",
        "for i in Moderate:\n",
        "    try:\n",
        "        img = Image.open(\"/content/drive/MyDrive/diabetic-retinopathy-dataset/Moderate DR/\" + i).convert('RGB')\n",
        "        img = img.resize((img_w,img_h))\n",
        "        X.append(np.asarray(img))\n",
        "        y.append(1)\n",
        "    except UnidentifiedImageError:\n",
        "        pass\n",
        "    \n",
        "for i in Proliferate:\n",
        "    try:\n",
        "        img = Image.open(\"/content/drive/MyDrive/diabetic-retinopathy-dataset/Proliferate DR/\" + i).convert('RGB')\n",
        "        img = img.resize((img_w,img_h))\n",
        "        X.append(np.asarray(img))\n",
        "        y.append(2)\n",
        "    except UnidentifiedImageError:\n",
        "        pass\n",
        "    \n",
        "for i in Severe:\n",
        "    try:\n",
        "        img = Image.open(\"/content/drive/MyDrive/diabetic-retinopathy-dataset/Severe DR/\" + i).convert('RGB')\n",
        "        img = img.resize((img_w,img_h))\n",
        "        X.append(np.asarray(img))\n",
        "        y.append(2)\n",
        "    except UnidentifiedImageError:\n",
        "        pass\n",
        "    \n",
        "X = np.asarray(X)\n",
        "y = np.asarray(y)\n",
        "print(X.shape, y.shape)\n",
        "\n",
        "# I resized each image to our manually defined width and height(img_w, img_h)\n",
        "# I also changed the images to an array\n",
        "\n"
      ]
    },
    {
      "cell_type": "code",
      "execution_count": 5,
      "metadata": {
        "colab": {
          "base_uri": "https://localhost:8080/"
        },
        "id": "rhfqM9OlVJDW",
        "outputId": "e02bc4d0-59ac-427d-fa8b-f4c579330956"
      },
      "outputs": [
        {
          "output_type": "stream",
          "name": "stdout",
          "text": [
            "[1. 0. 0.]\n"
          ]
        }
      ],
      "source": [
        "x = X.astype('float32')\n",
        "x /= 255\n",
        "\n",
        "#scaler = MinMaxScaler()\n",
        "#x = scaler.fit_transform(y)\n",
        "\n",
        "\n",
        "\n",
        "num_classes = 3\n",
        "\n",
        "labels = keras.utils.to_categorical(y, num_classes)\n",
        "print(labels[0])"
      ]
    },
    {
      "cell_type": "code",
      "execution_count": 6,
      "metadata": {
        "colab": {
          "base_uri": "https://localhost:8080/"
        },
        "id": "BXwAIxcGWP8p",
        "outputId": "7fd256f4-26c8-4f0b-98cd-0ebad0680219"
      },
      "outputs": [
        {
          "output_type": "stream",
          "name": "stdout",
          "text": [
            "Number of train: 52\n",
            "Number of validation: 23\n",
            "Number of test: 33\n"
          ]
        }
      ],
      "source": [
        "# splitting our dataset into train and test\n",
        "x_train1, x_test, y_train1, y_test = train_test_split(x, labels, test_size = 0.3, random_state=5)\n",
        "x_train,x_val,y_train,y_val=train_test_split(x_train1,y_train1,test_size=0.3,random_state=5)\n",
        "\n",
        "print('Number of train: {}'.format(len(x_train)))\n",
        "print('Number of validation: {}'.format(len(x_val)))\n",
        "print('Number of test: {}'.format(len(x_test)))\n",
        "\n"
      ]
    },
    {
      "cell_type": "code",
      "execution_count": null,
      "metadata": {
        "id": "9UMqKSJPWpc_"
      },
      "outputs": [],
      "source": [
        ""
      ]
    },
    {
      "cell_type": "code",
      "execution_count": 7,
      "metadata": {
        "colab": {
          "base_uri": "https://localhost:8080/"
        },
        "id": "LsBoSaxpZqPe",
        "outputId": "897ac32a-a838-47cd-b350-3d2e2b72f352"
      },
      "outputs": [
        {
          "output_type": "stream",
          "name": "stdout",
          "text": [
            "Downloading data from https://storage.googleapis.com/tensorflow/keras-applications/inception_v3/inception_v3_weights_tf_dim_ordering_tf_kernels_notop.h5\n",
            "87916544/87910968 [==============================] - 1s 0us/step\n",
            "87924736/87910968 [==============================] - 1s 0us/step\n"
          ]
        }
      ],
      "source": [
        "base_model = tf.keras.applications.InceptionV3(input_shape=(225,225,3),include_top=False,weights=\"imagenet\")"
      ]
    },
    {
      "cell_type": "code",
      "execution_count": 8,
      "metadata": {
        "id": "8QdKZ6FvZyQt"
      },
      "outputs": [],
      "source": [
        "for layer in base_model.layers[:-10]:\n",
        "    layer.trainable=False"
      ]
    },
    {
      "cell_type": "code",
      "execution_count": null,
      "metadata": {
        "colab": {
          "base_uri": "https://localhost:8080/"
        },
        "id": "JmCaBRs3Z-lB",
        "outputId": "4e2b898f-3831-4670-eb94-4ef46b652ad8"
      },
      "outputs": [
        {
          "name": "stdout",
          "output_type": "stream",
          "text": [
            "3/3 [==============================] - 11s 2s/step - loss: 38.7914 - accuracy: 0.3462 - precision: 0.3556 - recall: 0.3077 - auc: 0.5098 - f1_score: 0.4932\n"
          ]
        },
        {
          "data": {
            "text/plain": [
              "<keras.callbacks.History at 0x7f7664031250>"
            ]
          },
          "execution_count": 15,
          "metadata": {},
          "output_type": "execute_result"
        }
      ],
      "source": [
        "\n",
        "model_Inception.fit(x_train, y_train, batch_size=batch_size, epochs=epochs, verbose=1)"
      ]
    },
    {
      "cell_type": "code",
      "execution_count": 9,
      "metadata": {
        "colab": {
          "base_uri": "https://localhost:8080/"
        },
        "id": "nGzqJYv7bNJ5",
        "outputId": "2dd28dc4-672d-4352-815b-5c4d0e7e5f34"
      },
      "outputs": [
        {
          "output_type": "stream",
          "name": "stdout",
          "text": [
            "Model: \"sequential\"\n",
            "_________________________________________________________________\n",
            " Layer (type)                Output Shape              Param #   \n",
            "=================================================================\n",
            " inception_v3 (Functional)   (None, 5, 5, 2048)        21802784  \n",
            "                                                                 \n",
            " dropout (Dropout)           (None, 5, 5, 2048)        0         \n",
            "                                                                 \n",
            " flatten (Flatten)           (None, 51200)             0         \n",
            "                                                                 \n",
            " dense (Dense)               (None, 128)               6553728   \n",
            "                                                                 \n",
            " dense_1 (Dense)             (None, 128)               16512     \n",
            "                                                                 \n",
            " dense_2 (Dense)             (None, 3)                 387       \n",
            "                                                                 \n",
            "=================================================================\n",
            "Total params: 28,373,411\n",
            "Trainable params: 6,570,819\n",
            "Non-trainable params: 21,802,592\n",
            "_________________________________________________________________\n"
          ]
        }
      ],
      "source": [
        "# My neural network consists of 3 layers densely connected\n",
        "# dropout helps prevent over fitting of the model when testing it\n",
        "model_ann=Sequential()\n",
        "model_ann.add(base_model)\n",
        "model_ann.add(Dropout(0.2))\n",
        "model_ann.add(Flatten())\n",
        "model_ann.add(Dense(128, activation='relu'))\n",
        "model_ann.add(Dense(128, activation='relu'))\n",
        "model_ann.add(Dense(3, activation='softmax'))\n",
        "model_ann.summary() # printing out the summary of the model for better understanding for you"
      ]
    },
    {
      "cell_type": "code",
      "execution_count": 10,
      "metadata": {
        "id": "yIJz1veQa3Lc"
      },
      "outputs": [],
      "source": [
        "# here i am defining my performance metrics to check the performance of the model\n",
        "def f1_score(y_true, y_pred):\n",
        "    true_positives = K.sum(K.round(K.clip(y_true * y_pred, 0, 1)))\n",
        "    possible_positives = K.sum(K.round(K.clip(y_true, 0, 1)))\n",
        "    predicted_positives = K.sum(K.round(K.clip(y_pred, 0, 1)))\n",
        "    precision = true_positives / (predicted_positives + K.epsilon())\n",
        "    recall = true_positives / (possible_positives + K.epsilon())\n",
        "    f1_val = 3*(precision*recall)/(precision+recall+K.epsilon())\n",
        "    return f1_val\n",
        "\n",
        "METRICS = [\n",
        "      tf.keras.metrics.CategoricalAccuracy(name='accuracy'),\n",
        "      tf.keras.metrics.Precision(name='precision'),\n",
        "      tf.keras.metrics.Recall(name='recall'),  \n",
        "      tf.keras.metrics.AUC(name='auc'),\n",
        "        f1_score,\n",
        "]"
      ]
    },
    {
      "cell_type": "code",
      "source": [
        "lrd = ReduceLROnPlateau(monitor = 'recall',patience = 5,verbose = 1,factor = 0.70, min_lr = 1e-5)\n",
        "# the above line of code reduces the learning rate when there is no improvement to the metric\n",
        "# i added this line of code because i trained the model without it and the performance was stagnant\n",
        "# the performance was stuck on 0.96nnn as the accuracy so i added the line of code to reduce\n",
        "# the learing rate after two epochs\n",
        "mcp = ModelCheckpoint('model.h5')\n",
        "es = EarlyStopping(verbose=1, patience=40)\n",
        "\n",
        "model_ann.compile(optimizer='Adam', loss = tf.keras.losses.CategoricalCrossentropy(),metrics=METRICS)"
      ],
      "metadata": {
        "id": "wfq-78fZmiRj"
      },
      "execution_count": 15,
      "outputs": []
    },
    {
      "cell_type": "code",
      "source": [
        "# this is where i fit and trained my model\n",
        "%time\n",
        "history=model_ann.fit(x_train1,y_train1,validation_data=(x_val,y_val),epochs = 20,verbose = 1,callbacks=[lrd,mcp,es])"
      ],
      "metadata": {
        "colab": {
          "base_uri": "https://localhost:8080/"
        },
        "id": "a-cIY07smjcP",
        "outputId": "c6ba2d45-8b5e-4850-d44c-5e13372094bf"
      },
      "execution_count": 16,
      "outputs": [
        {
          "output_type": "stream",
          "name": "stdout",
          "text": [
            "CPU times: user 4 µs, sys: 1 µs, total: 5 µs\n",
            "Wall time: 7.87 µs\n",
            "Epoch 1/20\n",
            "3/3 [==============================] - 16s 4s/step - loss: 11.3668 - accuracy: 0.2800 - precision: 0.3125 - recall: 0.2667 - auc: 0.4696 - f1_score: 0.4247 - val_loss: 15.5769 - val_accuracy: 0.3913 - val_precision: 0.3913 - val_recall: 0.3913 - val_auc: 0.5435 - val_f1_score: 0.5870 - lr: 0.0010\n",
            "Epoch 2/20\n",
            "3/3 [==============================] - 9s 3s/step - loss: 7.6555 - accuracy: 0.6400 - precision: 0.6400 - recall: 0.6400 - auc: 0.7428 - f1_score: 0.8991 - val_loss: 6.7157 - val_accuracy: 0.4348 - val_precision: 0.4348 - val_recall: 0.4348 - val_auc: 0.6063 - val_f1_score: 0.6522 - lr: 0.0010\n",
            "Epoch 3/20\n",
            "3/3 [==============================] - 9s 3s/step - loss: 2.6715 - accuracy: 0.6667 - precision: 0.6667 - recall: 0.6667 - auc: 0.7943 - f1_score: 1.0199 - val_loss: 1.1223 - val_accuracy: 0.7826 - val_precision: 0.7826 - val_recall: 0.7826 - val_auc: 0.9130 - val_f1_score: 1.1739 - lr: 0.0010\n",
            "Epoch 4/20\n",
            "3/3 [==============================] - 9s 3s/step - loss: 1.5139 - accuracy: 0.7867 - precision: 0.7867 - recall: 0.7867 - auc: 0.8788 - f1_score: 1.2500 - val_loss: 0.0408 - val_accuracy: 1.0000 - val_precision: 1.0000 - val_recall: 1.0000 - val_auc: 1.0000 - val_f1_score: 1.5000 - lr: 0.0010\n",
            "Epoch 5/20\n",
            "3/3 [==============================] - 9s 3s/step - loss: 0.3708 - accuracy: 0.9200 - precision: 0.9200 - recall: 0.9200 - auc: 0.9749 - f1_score: 1.4062 - val_loss: 0.5258 - val_accuracy: 0.9130 - val_precision: 0.9130 - val_recall: 0.9130 - val_auc: 0.9622 - val_f1_score: 1.3696 - lr: 0.0010\n",
            "Epoch 6/20\n",
            "3/3 [==============================] - ETA: 0s - loss: 0.7411 - accuracy: 0.8800 - precision: 0.8800 - recall: 0.8800 - auc: 0.9428 - f1_score: 1.2699\n",
            "Epoch 6: ReduceLROnPlateau reducing learning rate to 0.0007000000332482159.\n",
            "3/3 [==============================] - 9s 3s/step - loss: 0.7411 - accuracy: 0.8800 - precision: 0.8800 - recall: 0.8800 - auc: 0.9428 - f1_score: 1.2699 - val_loss: 0.3050 - val_accuracy: 0.9565 - val_precision: 0.9565 - val_recall: 0.9565 - val_auc: 0.9641 - val_f1_score: 1.4348 - lr: 0.0010\n",
            "Epoch 7/20\n",
            "3/3 [==============================] - 9s 3s/step - loss: 0.2104 - accuracy: 0.9467 - precision: 0.9467 - recall: 0.9467 - auc: 0.9855 - f1_score: 1.4077 - val_loss: 0.0072 - val_accuracy: 1.0000 - val_precision: 1.0000 - val_recall: 1.0000 - val_auc: 1.0000 - val_f1_score: 1.5000 - lr: 7.0000e-04\n",
            "Epoch 8/20\n",
            "3/3 [==============================] - 9s 3s/step - loss: 0.0397 - accuracy: 0.9867 - precision: 0.9867 - recall: 0.9867 - auc: 0.9996 - f1_score: 1.4844 - val_loss: 0.1925 - val_accuracy: 0.9565 - val_precision: 0.9565 - val_recall: 0.9565 - val_auc: 0.9991 - val_f1_score: 1.4348 - lr: 7.0000e-04\n",
            "Epoch 9/20\n",
            "3/3 [==============================] - 9s 3s/step - loss: 0.2313 - accuracy: 0.9600 - precision: 0.9595 - recall: 0.9467 - auc: 0.9763 - f1_score: 1.4449 - val_loss: 0.2104 - val_accuracy: 0.9565 - val_precision: 0.9565 - val_recall: 0.9565 - val_auc: 0.9972 - val_f1_score: 1.4348 - lr: 7.0000e-04\n",
            "Epoch 10/20\n",
            "3/3 [==============================] - 11s 4s/step - loss: 0.2051 - accuracy: 0.9600 - precision: 0.9600 - recall: 0.9600 - auc: 0.9776 - f1_score: 1.4531 - val_loss: 0.0184 - val_accuracy: 1.0000 - val_precision: 1.0000 - val_recall: 1.0000 - val_auc: 1.0000 - val_f1_score: 1.5000 - lr: 7.0000e-04\n",
            "Epoch 11/20\n",
            "3/3 [==============================] - ETA: 0s - loss: 0.0169 - accuracy: 0.9867 - precision: 0.9867 - recall: 0.9867 - auc: 0.9999 - f1_score: 1.4844\n",
            "Epoch 11: ReduceLROnPlateau reducing learning rate to 0.0004900000232737511.\n",
            "3/3 [==============================] - 12s 4s/step - loss: 0.0169 - accuracy: 0.9867 - precision: 0.9867 - recall: 0.9867 - auc: 0.9999 - f1_score: 1.4844 - val_loss: 5.6643e-05 - val_accuracy: 1.0000 - val_precision: 1.0000 - val_recall: 1.0000 - val_auc: 1.0000 - val_f1_score: 1.5000 - lr: 7.0000e-04\n",
            "Epoch 12/20\n",
            "3/3 [==============================] - 10s 3s/step - loss: 0.0029 - accuracy: 1.0000 - precision: 1.0000 - recall: 1.0000 - auc: 1.0000 - f1_score: 1.5000 - val_loss: 5.4178e-05 - val_accuracy: 1.0000 - val_precision: 1.0000 - val_recall: 1.0000 - val_auc: 1.0000 - val_f1_score: 1.5000 - lr: 4.9000e-04\n",
            "Epoch 13/20\n",
            "3/3 [==============================] - 10s 3s/step - loss: 0.0032 - accuracy: 1.0000 - precision: 1.0000 - recall: 1.0000 - auc: 1.0000 - f1_score: 1.5000 - val_loss: 2.2228e-04 - val_accuracy: 1.0000 - val_precision: 1.0000 - val_recall: 1.0000 - val_auc: 1.0000 - val_f1_score: 1.5000 - lr: 4.9000e-04\n",
            "Epoch 14/20\n",
            "3/3 [==============================] - 12s 4s/step - loss: 0.0011 - accuracy: 1.0000 - precision: 1.0000 - recall: 1.0000 - auc: 1.0000 - f1_score: 1.5000 - val_loss: 5.3714e-04 - val_accuracy: 1.0000 - val_precision: 1.0000 - val_recall: 1.0000 - val_auc: 1.0000 - val_f1_score: 1.5000 - lr: 4.9000e-04\n",
            "Epoch 15/20\n",
            "3/3 [==============================] - 10s 3s/step - loss: 0.0015 - accuracy: 1.0000 - precision: 1.0000 - recall: 1.0000 - auc: 1.0000 - f1_score: 1.5000 - val_loss: 9.6648e-04 - val_accuracy: 1.0000 - val_precision: 1.0000 - val_recall: 1.0000 - val_auc: 1.0000 - val_f1_score: 1.5000 - lr: 4.9000e-04\n",
            "Epoch 16/20\n",
            "3/3 [==============================] - ETA: 0s - loss: 5.3938e-04 - accuracy: 1.0000 - precision: 1.0000 - recall: 1.0000 - auc: 1.0000 - f1_score: 1.5000\n",
            "Epoch 16: ReduceLROnPlateau reducing learning rate to 0.00034300000406801696.\n",
            "3/3 [==============================] - 10s 3s/step - loss: 5.3938e-04 - accuracy: 1.0000 - precision: 1.0000 - recall: 1.0000 - auc: 1.0000 - f1_score: 1.5000 - val_loss: 0.0014 - val_accuracy: 1.0000 - val_precision: 1.0000 - val_recall: 1.0000 - val_auc: 1.0000 - val_f1_score: 1.5000 - lr: 4.9000e-04\n",
            "Epoch 17/20\n",
            "3/3 [==============================] - 10s 3s/step - loss: 6.6433e-04 - accuracy: 1.0000 - precision: 1.0000 - recall: 1.0000 - auc: 1.0000 - f1_score: 1.5000 - val_loss: 0.0017 - val_accuracy: 1.0000 - val_precision: 1.0000 - val_recall: 1.0000 - val_auc: 1.0000 - val_f1_score: 1.5000 - lr: 3.4300e-04\n",
            "Epoch 18/20\n",
            "3/3 [==============================] - 10s 3s/step - loss: 4.4516e-04 - accuracy: 1.0000 - precision: 1.0000 - recall: 1.0000 - auc: 1.0000 - f1_score: 1.5000 - val_loss: 0.0018 - val_accuracy: 1.0000 - val_precision: 1.0000 - val_recall: 1.0000 - val_auc: 1.0000 - val_f1_score: 1.5000 - lr: 3.4300e-04\n",
            "Epoch 19/20\n",
            "3/3 [==============================] - 10s 3s/step - loss: 4.5742e-04 - accuracy: 1.0000 - precision: 1.0000 - recall: 1.0000 - auc: 1.0000 - f1_score: 1.5000 - val_loss: 0.0018 - val_accuracy: 1.0000 - val_precision: 1.0000 - val_recall: 1.0000 - val_auc: 1.0000 - val_f1_score: 1.5000 - lr: 3.4300e-04\n",
            "Epoch 20/20\n",
            "3/3 [==============================] - 10s 4s/step - loss: 5.2735e-04 - accuracy: 1.0000 - precision: 1.0000 - recall: 1.0000 - auc: 1.0000 - f1_score: 1.5000 - val_loss: 0.0018 - val_accuracy: 1.0000 - val_precision: 1.0000 - val_recall: 1.0000 - val_auc: 1.0000 - val_f1_score: 1.5000 - lr: 3.4300e-04\n"
          ]
        }
      ]
    },
    {
      "cell_type": "code",
      "source": [
        "acc = history.history['recall']\n",
        "val_acc = history.history['val_recall']\n",
        "loss = history.history['loss']\n",
        "val_loss = history.history['val_loss']\n",
        "epochs_range = range(len(history.history['val_loss']))\n",
        "plt.figure(figsize=(15, 10))\n",
        "plt.subplot(1, 2, 1)\n",
        "plt.scatter(epochs_range, acc, label='Training Recall')\n",
        "plt.scatter(epochs_range, val_acc, label='Validation Recall')\n",
        "plt.legend(loc='lower right')\n",
        "plt.title('Training and Validation Recall')\n",
        "plt.subplot(1, 2, 2)\n",
        "plt.scatter(epochs_range, loss, label='Training Loss')\n",
        "plt.scatter(epochs_range, val_loss, label='Validation Loss')\n",
        "plt.legend(loc='upper right')\n",
        "plt.title('Training and Validation Loss')\n",
        "plt.show()"
      ],
      "metadata": {
        "colab": {
          "base_uri": "https://localhost:8080/",
          "height": 607
        },
        "id": "Zzf0mwJdmqsl",
        "outputId": "1a155ee9-7af1-4718-ab74-8012822f511d"
      },
      "execution_count": 17,
      "outputs": [
        {
          "output_type": "display_data",
          "data": {
            "text/plain": [
              "<Figure size 1080x720 with 2 Axes>"
            ],
            "image/png": "[encoded data removed]"
          },
          "metadata": {
            "needs_background": "light"
          }
        }
      ]
    },
    {
      "cell_type": "code",
      "source": [
        "y_pred = model_ann.predict(x_test)\n",
        "def plot_roc_curve(ytest, ypred):\n",
        "    num_classes = len(np.unique(ytest))\n",
        "    ytest = label_binarize(ytest, classes=np.asarray(num_classes))\n",
        "    ypred = label_binarize(ypred, classes=np.asarray(num_classes))\n",
        "\n",
        "  # Compute ROC curve and ROC area for each class\n",
        "    fpr = dict()\n",
        "    tpr = dict()\n",
        "    roc_auc = dict()\n",
        "    for i in range(num_classes):\n",
        "        fpr[i], tpr[i], _ = roc_curve(ytest[:, i], ypred[:, i])\n",
        "        roc_auc[i] = auc(fpr[i], tpr[i])\n",
        "    fpr[\"micro\"], tpr[\"micro\"], _ = roc_curve(y_test.ravel(), y_pred.ravel())\n",
        "    roc_auc[\"micro\"] = auc(fpr[\"micro\"], tpr[\"micro\"])\n",
        "\n",
        "  # First aggregate all false positive rates\n",
        "    all_fpr = np.unique(np.concatenate([fpr[i] for i in range(num_classes)]))\n",
        "\n",
        "  # Then interpolate all ROC curves at this points\n",
        "    mean_tpr = np.zeros_like(all_fpr)\n",
        "    for i in range(num_classes):\n",
        "        mean_tpr += np.interp(all_fpr, fpr[i], tpr[i])\n",
        "\n",
        "  # Finally average it and compute AUC\n",
        "    mean_tpr /= num_classes\n",
        "\n",
        "    fpr[\"macro\"] = all_fpr\n",
        "    tpr[\"macro\"] = mean_tpr\n",
        "    roc_auc[\"macro\"] = auc(fpr[\"macro\"], tpr[\"macro\"])\n",
        "\n",
        "  # Plot all ROC curves\n",
        "  #plt.figure(figsize=(10,5))\n",
        "    plt.figure(dpi=600)\n",
        "    lw = 2\n",
        "    plt.plot(fpr[\"micro\"], tpr[\"micro\"],\n",
        "    label=\"micro-average ROC curve (area = {0:0.2f})\".format(roc_auc[\"micro\"]),\n",
        "    color=\"deeppink\", linestyle=\":\", linewidth=4,)\n",
        "\n",
        "    plt.plot(fpr[\"macro\"], tpr[\"macro\"],\n",
        "    label=\"macro-average ROC curve (area = {0:0.2f})\".format(roc_auc[\"macro\"]),\n",
        "    color=\"navy\", linestyle=\":\", linewidth=4,)\n",
        "\n",
        "    colors = cycle([\"aqua\", \"darkorange\", \"darkgreen\", \"yellow\", \"blue\"])\n",
        "    for i, color in zip(range(num_classes), colors):\n",
        "        plt.plot(fpr[i], tpr[i], color=color, lw=lw,\n",
        "        label=\"ROC curve of class {0} (area = {1:0.2f})\".format(i, roc_auc[i]),)\n",
        "\n",
        "    plt.plot([0, 1], [0, 1], \"k--\", lw=lw)\n",
        "    plt.xlim([0.0, 1.0])\n",
        "    plt.ylim([0.0, 1.05])\n",
        "    plt.xlabel(\"False Positive Rate\")\n",
        "    plt.ylabel(\"True Positive Rate\")\n",
        "    plt.title(\"Receiver Operating Characteristic (ROC) curve\")\n",
        "    plt.legend()"
      ],
      "metadata": {
        "id": "AxBIM0TjoXOp"
      },
      "execution_count": 19,
      "outputs": []
    },
    {
      "cell_type": "code",
      "source": [
        "# here i want to define and plot my confusion matrix\n",
        "# and also my classification report\n",
        "def plot_confusion_matrix(cm, classes, normalize=True, title='Confusion matrix', cmap=plt.cm.Blues):\n",
        "    \n",
        "    plt.figure(figsize=(10,10))\n",
        "    plt.imshow(cm, interpolation='nearest', cmap=cmap)\n",
        "    plt.title(title)\n",
        "    plt.colorbar()\n",
        "    tick_marks = np.arange(len(classes))\n",
        "    plt.xticks(tick_marks, classes, rotation=45)\n",
        "    plt.yticks(tick_marks, classes)\n",
        "    if normalize:\n",
        "        cm = cm.astype('float') / cm.sum(axis=1)[:, np.newaxis]\n",
        "        cm = np.around(cm, decimals=2)\n",
        "        cm[np.isnan(cm)] = 0.0\n",
        "    thresh = cm.max() / 2.\n",
        "    for i, j in itertools.product(range(cm.shape[0]), range(cm.shape[1])):\n",
        "        plt.text(j, i, cm[i, j],\n",
        "                 horizontalalignment=\"center\",\n",
        "                 color=\"white\" if cm[i, j] > thresh else \"black\")\n",
        "    plt.tight_layout()\n",
        "    plt.ylabel('True label')\n",
        "    plt.xlabel('Predicted label')\n",
        "    \n",
        "    \n",
        "y_pred = (model_ann.predict(x_test) > 0.5).astype(\"int32\")\n",
        "\n",
        "y_test_c = np.argmax(y_test, axis=1)\n",
        "target_names = [\"Healty\", \"caution\", \"severe\"]\n",
        "\n",
        "Y_pred = np.argmax(model_ann.predict(x_test),axis=1)\n",
        "print('Confusion Matrix')\n",
        "cm = confusion_matrix(y_test_c, Y_pred)\n",
        "plot_confusion_matrix(cm, target_names, normalize=False, title='Confusion Matrix')\n",
        "\n",
        "print('Classification Report')\n",
        "print(classification_report(y_test_c, Y_pred, target_names=target_names))\n",
        "\n",
        "\n",
        "#=====================important note==============================#\n",
        "# this model i created basically classifies different cases into 3 and they are\n",
        "# healthy(meaning the eye is healthy and free from any retinopathy)\n",
        "# caution(meaning the eye has some detected disfunctionalities and immediate treatemet has to commence\n",
        "# before it worsens)\n",
        "# and severe(meaning that the eye is under serious attack from by retinopathy and in severe condition)\n",
        "# so its either the eye is healthy severe or needs to be treated with caution"
      ],
      "metadata": {
        "colab": {
          "base_uri": "https://localhost:8080/",
          "height": 937
        },
        "id": "43iVzWGCowtx",
        "outputId": "92a5528c-e4a0-4470-dc19-1f8d22203dc7"
      },
      "execution_count": 20,
      "outputs": [
        {
          "output_type": "stream",
          "name": "stdout",
          "text": [
            "Confusion Matrix\n",
            "Classification Report\n",
            "              precision    recall  f1-score   support\n",
            "\n",
            "      Healty       0.87      0.93      0.90        14\n",
            "     caution       0.83      0.88      0.86        17\n",
            "      severe       0.00      0.00      0.00         2\n",
            "\n",
            "    accuracy                           0.85        33\n",
            "   macro avg       0.57      0.60      0.58        33\n",
            "weighted avg       0.80      0.85      0.82        33\n",
            "\n"
          ]
        },
        {
          "output_type": "display_data",
          "data": {
            "text/plain": [
              "<Figure size 720x720 with 2 Axes>"
            ],
            "image/png": "[encoded data removed]"
          },
          "metadata": {
            "needs_background": "light"
          }
        }
      ]
    },
    {
      "cell_type": "code",
      "source": [
        "model_cnn = Sequential()\n",
        "#model_cnn.add = (base_model)\n",
        "model_cnn.add(Conv2D(filters = 32, kernel_size = 2, activation = 'relu', input_shape=(225, 225, 3)))\n",
        "model_cnn.add(MaxPooling2D((2, 2)))\n",
        "model_cnn.add(Conv2D(filters = 64, kernel_size = 2, activation = 'relu'))\n",
        "model_cnn.add(MaxPooling2D((2, 2)))\n",
        "model_cnn.add(Flatten())\n",
        "model_cnn.add(Dense(128, activation = 'relu'))\n",
        "model_cnn.add(Dense(3, activation = 'softmax'))\n",
        "model_cnn.summary()"
      ],
      "metadata": {
        "colab": {
          "base_uri": "https://localhost:8080/"
        },
        "id": "g3xRzL3roqEe",
        "outputId": "7ff24493-b2b8-4d2e-8557-736dc3d4bdf6"
      },
      "execution_count": 21,
      "outputs": [
        {
          "output_type": "stream",
          "name": "stdout",
          "text": [
            "Model: \"sequential_1\"\n",
            "_________________________________________________________________\n",
            " Layer (type)                Output Shape              Param #   \n",
            "=================================================================\n",
            " conv2d_94 (Conv2D)          (None, 224, 224, 32)      416       \n",
            "                                                                 \n",
            " max_pooling2d_4 (MaxPooling  (None, 112, 112, 32)     0         \n",
            " 2D)                                                             \n",
            "                                                                 \n",
            " conv2d_95 (Conv2D)          (None, 111, 111, 64)      8256      \n",
            "                                                                 \n",
            " max_pooling2d_5 (MaxPooling  (None, 55, 55, 64)       0         \n",
            " 2D)                                                             \n",
            "                                                                 \n",
            " flatten_1 (Flatten)         (None, 193600)            0         \n",
            "                                                                 \n",
            " dense_3 (Dense)             (None, 128)               24780928  \n",
            "                                                                 \n",
            " dense_4 (Dense)             (None, 3)                 387       \n",
            "                                                                 \n",
            "=================================================================\n",
            "Total params: 24,789,987\n",
            "Trainable params: 24,789,987\n",
            "Non-trainable params: 0\n",
            "_________________________________________________________________\n"
          ]
        }
      ]
    },
    {
      "cell_type": "code",
      "source": [
        "model_cnn.compile(optimizer='Adam', loss = tf.keras.losses.CategoricalCrossentropy(),metrics=METRICS)"
      ],
      "metadata": {
        "id": "Nyyj95YlpMla"
      },
      "execution_count": 22,
      "outputs": []
    },
    {
      "cell_type": "code",
      "source": [
        "%time\n",
        "history1=model_cnn.fit(x_train,y_train,validation_data=(x_val,y_val),epochs = 20,verbose = 1,callbacks=[lrd,mcp,es])"
      ],
      "metadata": {
        "colab": {
          "base_uri": "https://localhost:8080/"
        },
        "id": "uT5n2RdkpUnf",
        "outputId": "05420a7a-4fa5-455f-e175-1c378e03eaeb"
      },
      "execution_count": 23,
      "outputs": [
        {
          "output_type": "stream",
          "name": "stdout",
          "text": [
            "CPU times: user 3 µs, sys: 0 ns, total: 3 µs\n",
            "Wall time: 8.58 µs\n",
            "Epoch 1/20\n",
            "2/2 [==============================] - 6s 2s/step - loss: 6.3695 - accuracy: 0.5867 - precision: 0.6977 - recall: 0.4000 - auc: 0.7433 - f1_score: 0.2625 - val_loss: 28.2965 - val_accuracy: 0.3913 - val_precision: 0.3913 - val_recall: 0.3913 - val_auc: 0.5435 - val_f1_score: 0.5870 - lr: 0.0010\n",
            "Epoch 2/20\n",
            "2/2 [==============================] - 3s 2s/step - loss: 22.3176 - accuracy: 0.4231 - precision: 0.4231 - recall: 0.4231 - auc: 0.5673 - f1_score: 0.6281 - val_loss: 10.4230 - val_accuracy: 0.3913 - val_precision: 0.3913 - val_recall: 0.3913 - val_auc: 0.5435 - val_f1_score: 0.5870 - lr: 0.0010\n",
            "Epoch 3/20\n",
            "2/2 [==============================] - 3s 2s/step - loss: 6.9433 - accuracy: 0.4615 - precision: 0.4615 - recall: 0.4615 - auc: 0.5962 - f1_score: 0.7031 - val_loss: 8.1818 - val_accuracy: 0.3913 - val_precision: 0.3913 - val_recall: 0.3913 - val_auc: 0.5435 - val_f1_score: 0.5870 - lr: 0.0010\n",
            "Epoch 4/20\n",
            "2/2 [==============================] - 3s 2s/step - loss: 7.0548 - accuracy: 0.4423 - precision: 0.4423 - recall: 0.4423 - auc: 0.5817 - f1_score: 0.6375 - val_loss: 4.3884 - val_accuracy: 0.3913 - val_precision: 0.3913 - val_recall: 0.3913 - val_auc: 0.5435 - val_f1_score: 0.5870 - lr: 0.0010\n",
            "Epoch 5/20\n",
            "2/2 [==============================] - 3s 2s/step - loss: 2.9896 - accuracy: 0.4423 - precision: 0.4423 - recall: 0.4423 - auc: 0.6079 - f1_score: 0.6797 - val_loss: 2.3690 - val_accuracy: 0.3913 - val_precision: 0.3913 - val_recall: 0.3913 - val_auc: 0.6508 - val_f1_score: 0.5870 - lr: 0.0010\n",
            "Epoch 6/20\n",
            "2/2 [==============================] - ETA: 0s - loss: 1.8292 - accuracy: 0.4615 - precision: 0.4600 - recall: 0.4423 - auc: 0.7059 - f1_score: 0.6496\n",
            "Epoch 6: ReduceLROnPlateau reducing learning rate to 0.0007000000332482159.\n",
            "2/2 [==============================] - 3s 2s/step - loss: 1.8292 - accuracy: 0.4615 - precision: 0.4600 - recall: 0.4423 - auc: 0.7059 - f1_score: 0.6496 - val_loss: 1.5720 - val_accuracy: 0.3913 - val_precision: 0.4286 - val_recall: 0.3913 - val_auc: 0.6181 - val_f1_score: 0.6136 - lr: 0.0010\n",
            "Epoch 7/20\n",
            "2/2 [==============================] - 3s 2s/step - loss: 1.0313 - accuracy: 0.5769 - precision: 0.6579 - recall: 0.4808 - auc: 0.7406 - f1_score: 0.8603 - val_loss: 0.8442 - val_accuracy: 0.6087 - val_precision: 0.9231 - val_recall: 0.5217 - val_auc: 0.7954 - val_f1_score: 1.0000 - lr: 7.0000e-04\n",
            "Epoch 8/20\n",
            "2/2 [==============================] - 3s 2s/step - loss: 0.7843 - accuracy: 0.5577 - precision: 0.7368 - recall: 0.5385 - auc: 0.8298 - f1_score: 0.9148 - val_loss: 0.9222 - val_accuracy: 0.5652 - val_precision: 0.6190 - val_recall: 0.5652 - val_auc: 0.7514 - val_f1_score: 0.8864 - lr: 7.0000e-04\n",
            "Epoch 9/20\n",
            "2/2 [==============================] - 3s 2s/step - loss: 0.7106 - accuracy: 0.7308 - precision: 0.7273 - recall: 0.6154 - auc: 0.8728 - f1_score: 1.0000 - val_loss: 0.8482 - val_accuracy: 0.5652 - val_precision: 0.6842 - val_recall: 0.5652 - val_auc: 0.8039 - val_f1_score: 0.9286 - lr: 7.0000e-04\n",
            "Epoch 10/20\n",
            "2/2 [==============================] - 3s 2s/step - loss: 0.5915 - accuracy: 0.8269 - precision: 0.8125 - recall: 0.7500 - auc: 0.9058 - f1_score: 1.1880 - val_loss: 0.9942 - val_accuracy: 0.5652 - val_precision: 0.5652 - val_recall: 0.5652 - val_auc: 0.7977 - val_f1_score: 0.8478 - lr: 7.0000e-04\n",
            "Epoch 11/20\n",
            "2/2 [==============================] - ETA: 0s - loss: 0.6294 - accuracy: 0.7692 - precision: 0.7917 - recall: 0.7308 - auc: 0.8977 - f1_score: 1.1791\n",
            "Epoch 11: ReduceLROnPlateau reducing learning rate to 0.0004900000232737511.\n",
            "2/2 [==============================] - 3s 2s/step - loss: 0.6294 - accuracy: 0.7692 - precision: 0.7917 - recall: 0.7308 - auc: 0.8977 - f1_score: 1.1791 - val_loss: 0.9356 - val_accuracy: 0.5652 - val_precision: 0.5652 - val_recall: 0.5652 - val_auc: 0.8119 - val_f1_score: 0.8478 - lr: 7.0000e-04\n",
            "Epoch 12/20\n",
            "2/2 [==============================] - 3s 2s/step - loss: 0.5840 - accuracy: 0.8077 - precision: 0.8039 - recall: 0.7885 - auc: 0.9049 - f1_score: 1.1815 - val_loss: 0.7877 - val_accuracy: 0.6957 - val_precision: 0.7647 - val_recall: 0.5652 - val_auc: 0.8370 - val_f1_score: 0.9750 - lr: 4.9000e-04\n",
            "Epoch 13/20\n",
            "2/2 [==============================] - 3s 2s/step - loss: 0.5494 - accuracy: 0.8269 - precision: 0.8367 - recall: 0.7885 - auc: 0.9196 - f1_score: 1.2060 - val_loss: 0.7462 - val_accuracy: 0.6957 - val_precision: 0.8750 - val_recall: 0.6087 - val_auc: 0.8521 - val_f1_score: 1.0769 - lr: 4.9000e-04\n",
            "Epoch 14/20\n",
            "2/2 [==============================] - 3s 2s/step - loss: 0.5561 - accuracy: 0.7885 - precision: 0.8889 - recall: 0.7692 - auc: 0.9231 - f1_score: 1.2417 - val_loss: 0.7410 - val_accuracy: 0.7391 - val_precision: 0.8125 - val_recall: 0.5652 - val_auc: 0.8568 - val_f1_score: 1.0000 - lr: 4.9000e-04\n",
            "Epoch 15/20\n",
            "2/2 [==============================] - 3s 2s/step - loss: 0.5266 - accuracy: 0.8269 - precision: 0.8542 - recall: 0.7885 - auc: 0.9313 - f1_score: 1.2364 - val_loss: 0.7717 - val_accuracy: 0.6522 - val_precision: 0.7368 - val_recall: 0.6087 - val_auc: 0.8412 - val_f1_score: 1.0000 - lr: 4.9000e-04\n",
            "Epoch 16/20\n",
            "2/2 [==============================] - ETA: 0s - loss: 0.5118 - accuracy: 0.8269 - precision: 0.8200 - recall: 0.7885 - auc: 0.9317 - f1_score: 1.2253\n",
            "Epoch 16: ReduceLROnPlateau reducing learning rate to 0.00034300000406801696.\n",
            "2/2 [==============================] - 3s 2s/step - loss: 0.5118 - accuracy: 0.8269 - precision: 0.8200 - recall: 0.7885 - auc: 0.9317 - f1_score: 1.2253 - val_loss: 0.7878 - val_accuracy: 0.6522 - val_precision: 0.6842 - val_recall: 0.5652 - val_auc: 0.8318 - val_f1_score: 0.9286 - lr: 4.9000e-04\n",
            "Epoch 17/20\n",
            "2/2 [==============================] - 3s 2s/step - loss: 0.4999 - accuracy: 0.8269 - precision: 0.8200 - recall: 0.7885 - auc: 0.9358 - f1_score: 1.2315 - val_loss: 0.7686 - val_accuracy: 0.6522 - val_precision: 0.7368 - val_recall: 0.6087 - val_auc: 0.8407 - val_f1_score: 1.0000 - lr: 3.4300e-04\n",
            "Epoch 18/20\n",
            "2/2 [==============================] - 3s 2s/step - loss: 0.4799 - accuracy: 0.8269 - precision: 0.8163 - recall: 0.7692 - auc: 0.9406 - f1_score: 1.1873 - val_loss: 0.7624 - val_accuracy: 0.6957 - val_precision: 0.7368 - val_recall: 0.6087 - val_auc: 0.8459 - val_f1_score: 1.0000 - lr: 3.4300e-04\n",
            "Epoch 19/20\n",
            "2/2 [==============================] - 4s 2s/step - loss: 0.4680 - accuracy: 0.8269 - precision: 0.8200 - recall: 0.7885 - auc: 0.9434 - f1_score: 1.2399 - val_loss: 0.7596 - val_accuracy: 0.6957 - val_precision: 0.7778 - val_recall: 0.6087 - val_auc: 0.8474 - val_f1_score: 1.0244 - lr: 3.4300e-04\n",
            "Epoch 20/20\n",
            "2/2 [==============================] - 3s 2s/step - loss: 0.4560 - accuracy: 0.8269 - precision: 0.8235 - recall: 0.8077 - auc: 0.9467 - f1_score: 1.2190 - val_loss: 0.7587 - val_accuracy: 0.6957 - val_precision: 0.7778 - val_recall: 0.6087 - val_auc: 0.8511 - val_f1_score: 1.0244 - lr: 3.4300e-04\n"
          ]
        }
      ]
    },
    {
      "cell_type": "code",
      "source": [
        "acc1 = history1.history['recall']\n",
        "val_acc1 = history1.history['val_recall']\n",
        "loss1 = history1.history['loss']\n",
        "val_loss1 = history1.history['val_loss']\n",
        "epochs_range1 = range(len(history1.history['val_loss']))\n",
        "plt.figure(figsize=(15, 10))\n",
        "plt.subplot(1, 2, 1)\n",
        "plt.scatter(epochs_range1, acc1, label='Training Recall')\n",
        "plt.scatter(epochs_range1, val_acc1, label='Validation Recall')\n",
        "plt.legend(loc='lower right')\n",
        "plt.title('Training and Validation Recall')\n",
        "plt.subplot(1, 2, 2)\n",
        "plt.scatter(epochs_range1, loss1, label='Training Loss')\n",
        "plt.scatter(epochs_range1, val_loss1, label='Validation Loss')\n",
        "plt.legend(loc='upper right')\n",
        "plt.title('Training and Validation Loss')\n",
        "plt.show()"
      ],
      "metadata": {
        "colab": {
          "base_uri": "https://localhost:8080/",
          "height": 607
        },
        "id": "CELuYk0IpYia",
        "outputId": "08c60b2f-10a6-419e-8ce4-58a546e03522"
      },
      "execution_count": 24,
      "outputs": [
        {
          "output_type": "display_data",
          "data": {
            "text/plain": [
              "<Figure size 1080x720 with 2 Axes>"
            ],
            "image/png": "[encoded data removed]"
          },
          "metadata": {
            "needs_background": "light"
          }
        }
      ]
    },
    {
      "cell_type": "code",
      "source": [
        "def plot_confusion_matrix(cm, classes, normalize=True, title='Confusion matrix', cmap=plt.cm.Blues):\n",
        "    \n",
        "    plt.figure(figsize=(10,10))\n",
        "    plt.imshow(cm, interpolation='nearest', cmap=cmap)\n",
        "    plt.title(title)\n",
        "    plt.colorbar()\n",
        "    tick_marks = np.arange(len(classes))\n",
        "    plt.xticks(tick_marks, classes, rotation=45)\n",
        "    plt.yticks(tick_marks, classes)\n",
        "    if normalize:\n",
        "        cm = cm.astype('float') / cm.sum(axis=1)[:, np.newaxis]\n",
        "        cm = np.around(cm, decimals=2)\n",
        "        cm[np.isnan(cm)] = 0.0\n",
        "    thresh = cm.max() / 2.\n",
        "    for i, j in itertools.product(range(cm.shape[0]), range(cm.shape[1])):\n",
        "        plt.text(j, i, cm[i, j],\n",
        "                 horizontalalignment=\"center\",\n",
        "                 color=\"white\" if cm[i, j] > thresh else \"black\")\n",
        "    plt.tight_layout()\n",
        "    plt.ylabel('True label')\n",
        "    plt.xlabel('Predicted label')\n",
        "    \n",
        "    \n",
        "y_pred1 = (model_cnn.predict(x_test) > 0.5).astype(\"int32\")\n",
        "\n",
        "y_test_c1 = np.argmax(y_test, axis=1)\n",
        "target_names1 = [\"Healty\", \"caution\", \"severe\"]\n",
        "\n",
        "Y_pred1 = np.argmax(model_cnn.predict(x_test),axis=1)\n",
        "print('Confusion Matrix')\n",
        "cm = confusion_matrix(y_test_c1, Y_pred1)\n",
        "plot_confusion_matrix(cm, target_names1, normalize=False, title='Confusion Matrix')\n",
        "\n",
        "print('Classification Report')\n",
        "print(classification_report(y_test_c1, Y_pred1, target_names=target_names1))"
      ],
      "metadata": {
        "colab": {
          "base_uri": "https://localhost:8080/",
          "height": 937
        },
        "id": "gaaj7952pu8x",
        "outputId": "d91dabfa-3258-4883-da4c-1a855e5f37af"
      },
      "execution_count": 25,
      "outputs": [
        {
          "output_type": "stream",
          "name": "stdout",
          "text": [
            "Confusion Matrix\n",
            "Classification Report\n",
            "              precision    recall  f1-score   support\n",
            "\n",
            "      Healty       0.92      0.86      0.89        14\n",
            "     caution       0.80      0.94      0.86        17\n",
            "      severe       0.00      0.00      0.00         2\n",
            "\n",
            "    accuracy                           0.85        33\n",
            "   macro avg       0.57      0.60      0.58        33\n",
            "weighted avg       0.80      0.85      0.82        33\n",
            "\n"
          ]
        },
        {
          "output_type": "display_data",
          "data": {
            "text/plain": [
              "<Figure size 720x720 with 2 Axes>"
            ],
            "image/png": "[encoded data removed]"
          },
          "metadata": {
            "needs_background": "light"
          }
        }
      ]
    },
    {
      "cell_type": "code",
      "source": [
        "base = tf.keras.applications.vgg16.VGG16(input_shape=(225,225,3),include_top=False,weights=\"imagenet\")"
      ],
      "metadata": {
        "colab": {
          "base_uri": "https://localhost:8080/"
        },
        "id": "3HU7HE_Up84p",
        "outputId": "64142157-8728-456f-caf9-b45f5f133a60"
      },
      "execution_count": 26,
      "outputs": [
        {
          "output_type": "stream",
          "name": "stdout",
          "text": [
            "Downloading data from https://storage.googleapis.com/tensorflow/keras-applications/vgg16/vgg16_weights_tf_dim_ordering_tf_kernels_notop.h5\n",
            "58892288/58889256 [==============================] - 1s 0us/step\n",
            "58900480/58889256 [==============================] - 1s 0us/step\n"
          ]
        }
      ]
    },
    {
      "cell_type": "code",
      "source": [
        "for layer in base.layers[:-10]:\n",
        "    layer.trainable=False"
      ],
      "metadata": {
        "id": "TViD7B_VqRBr"
      },
      "execution_count": 27,
      "outputs": []
    },
    {
      "cell_type": "code",
      "source": [
        "model_vgg=Sequential()\n",
        "model_vgg.add(base)\n",
        "model_vgg.add(Dropout(0.2))\n",
        "model_vgg.add(Flatten())\n",
        "model_vgg.add(Dense(128, activation='relu'))\n",
        "model_vgg.add(Dense(128, activation='relu'))\n",
        "model_vgg.add(Dense(3, activation='softmax'))\n",
        "model_vgg.summary() # printing out the summary of the model for better understanding for you"
      ],
      "metadata": {
        "colab": {
          "base_uri": "https://localhost:8080/"
        },
        "id": "_CjgbfrLqVn_",
        "outputId": "65fc617a-de16-421f-8581-210da013442e"
      },
      "execution_count": 28,
      "outputs": [
        {
          "output_type": "stream",
          "name": "stdout",
          "text": [
            "Model: \"sequential_2\"\n",
            "_________________________________________________________________\n",
            " Layer (type)                Output Shape              Param #   \n",
            "=================================================================\n",
            " vgg16 (Functional)          (None, 7, 7, 512)         14714688  \n",
            "                                                                 \n",
            " dropout_1 (Dropout)         (None, 7, 7, 512)         0         \n",
            "                                                                 \n",
            " flatten_2 (Flatten)         (None, 25088)             0         \n",
            "                                                                 \n",
            " dense_5 (Dense)             (None, 128)               3211392   \n",
            "                                                                 \n",
            " dense_6 (Dense)             (None, 128)               16512     \n",
            "                                                                 \n",
            " dense_7 (Dense)             (None, 3)                 387       \n",
            "                                                                 \n",
            "=================================================================\n",
            "Total params: 17,942,979\n",
            "Trainable params: 16,797,571\n",
            "Non-trainable params: 1,145,408\n",
            "_________________________________________________________________\n"
          ]
        }
      ]
    },
    {
      "cell_type": "code",
      "source": [
        "model_vgg.compile(optimizer='Adam', loss = tf.keras.losses.CategoricalCrossentropy(),metrics=METRICS)\n",
        "%time\n",
        "history2=model_vgg.fit(x_train,y_train,validation_data=(x_val,y_val),epochs = 20,verbose = 1,callbacks=[lrd,mcp,es])"
      ],
      "metadata": {
        "colab": {
          "base_uri": "https://localhost:8080/"
        },
        "id": "S5oGepY6qY-t",
        "outputId": "dff4a985-3a2d-4999-d759-5456e5fe1c17"
      },
      "execution_count": null,
      "outputs": [
        {
          "output_type": "stream",
          "name": "stdout",
          "text": [
            "CPU times: user 4 µs, sys: 0 ns, total: 4 µs\n",
            "Wall time: 21.5 µs\n",
            "Epoch 1/20\n",
            "2/2 [==============================] - 64s 31s/step - loss: 11.5467 - accuracy: 0.4000 - precision: 0.4074 - recall: 0.2933 - auc: 0.5740 - f1_score: 0.2937 - val_loss: 1.6714 - val_accuracy: 0.3913 - val_precision: 0.3913 - val_recall: 0.3913 - val_auc: 0.5605 - val_f1_score: 0.5870 - lr: 0.0010\n",
            "Epoch 2/20\n",
            "2/2 [==============================] - 63s 32s/step - loss: 1.4005 - accuracy: 0.4231 - precision: 0.4375 - recall: 0.2692 - auc: 0.5816 - f1_score: 0.3281 - val_loss: 1.1995 - val_accuracy: 0.3913 - val_precision: 0.8750 - val_recall: 0.3043 - val_auc: 0.5614 - val_f1_score: 0.6774 - lr: 0.0010\n",
            "Epoch 3/20\n",
            "2/2 [==============================] - 62s 30s/step - loss: 1.1130 - accuracy: 0.4423 - precision: 0.5000 - recall: 0.2500 - auc: 0.5968 - f1_score: 0.4939 - val_loss: 1.3246 - val_accuracy: 0.3913 - val_precision: 0.3913 - val_recall: 0.3913 - val_auc: 0.6186 - val_f1_score: 0.5870 - lr: 0.0010\n",
            "Epoch 4/20\n",
            "2/2 [==============================] - 60s 30s/step - loss: 1.2608 - accuracy: 0.5000 - precision: 0.5102 - recall: 0.4808 - auc: 0.6327 - f1_score: 0.7568 - val_loss: 13.8699 - val_accuracy: 0.3913 - val_precision: 0.3913 - val_recall: 0.3913 - val_auc: 0.5435 - val_f1_score: 0.5870 - lr: 0.0010\n",
            "Epoch 5/20\n",
            "2/2 [==============================] - 65s 33s/step - loss: 8.7581 - accuracy: 0.4615 - precision: 0.4375 - recall: 0.2692 - auc: 0.5867 - f1_score: 0.3281 - val_loss: 1.4306 - val_accuracy: 0.3913 - val_precision: 0.3913 - val_recall: 0.3913 - val_auc: 0.5558 - val_f1_score: 0.5870 - lr: 0.0010\n",
            "Epoch 6/20\n"
          ]
        }
      ]
    },
    {
      "cell_type": "code",
      "source": [
        ""
      ],
      "metadata": {
        "id": "1paJMOH_qjPV"
      },
      "execution_count": null,
      "outputs": []
    }
  ],
  "metadata": {
    "colab": {
      "name": "Untitled11.ipynb",
      "provenance": []
    },
    "kernelspec": {
      "display_name": "Python 3",
      "name": "python3"
    },
    "language_info": {
      "name": "python"
    }
  },
  "nbformat": 4,
  "nbformat_minor": 0
}