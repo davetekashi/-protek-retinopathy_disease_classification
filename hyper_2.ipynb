{
 "cells": [
  {
   "cell_type": "code",
   "execution_count": 3,
   "id": "d21cbf24",
   "metadata": {},
   "outputs": [],
   "source": [
    "import os\n",
    "import random\n",
    "import pandas as pd \n",
    "import numpy as np \n",
    "import matplotlib.pyplot as plt\n",
    "import cv2\n",
    "from tensorflow import keras\n",
    "import tensorflow as tf\n",
    "import keras.backend as K\n",
    "from tensorflow.keras.preprocessing.image import ImageDataGenerator\n",
    "from tensorflow.keras.models import Sequential\n",
    "from tensorflow.keras.layers import InputLayer, BatchNormalization, Dropout, Flatten, Dense, Activation, MaxPool2D, Conv2D\n",
    "from tensorflow.keras.layers import Conv2D, Dense, Flatten, Dropout, Activation, SimpleRNN\n",
    "from tensorflow.keras.layers import BatchNormalization, Reshape, MaxPooling2D, GlobalAveragePooling2D\n",
    "from tensorflow.keras.callbacks import EarlyStopping, ModelCheckpoint, ReduceLROnPlateau\n",
    "\n",
    "from PIL import Image\n",
    "from PIL import UnidentifiedImageError\n",
    "\n",
    "from sklearn.preprocessing import OneHotEncoder\n",
    "\n",
    "from sklearn.model_selection import train_test_split\n",
    "\n",
    "from sklearn.metrics import classification_report, confusion_matrix, roc_curve, auc\n",
    "import itertools\n",
    "from sklearn.preprocessing import StandardScaler\n",
    "\n",
    "import warnings\n",
    "warnings.filterwarnings('ignore')\n",
    "from sklearn import metrics\n",
    "from sklearn.preprocessing import label_binarize\n",
    "from sklearn.discriminant_analysis import LinearDiscriminantAnalysis\n",
    "from sklearn.preprocessing import StandardScaler\n",
    "from sklearn.neighbors import KNeighborsClassifier\n",
    "from sklearn.preprocessing import MinMaxScaler"
   ]
  },
  {
   "cell_type": "code",
   "execution_count": 4,
   "id": "b3d20aec",
   "metadata": {},
   "outputs": [],
   "source": [
    "#===============importing the dataset from the directory========================#\n",
    "Healthy = os.listdir(\"D:\\kaggle\\input\\diabetic-retinopathy-dataset\\Healthy\")\n",
    "Mild = os.listdir('D:\\kaggle\\input\\diabetic-retinopathy-dataset\\Mild DR')\n",
    "Moderate = os.listdir('D:\\kaggle\\input\\diabetic-retinopathy-dataset\\Moderate DR')\n",
    "Proliferate = os.listdir('D:\\kaggle\\input\\diabetic-retinopathy-dataset\\Proliferate DR')\n",
    "Severe = os.listdir('D:\\kaggle\\input\\diabetic-retinopathy-dataset\\Severe DR')"
   ]
  },
  {
   "cell_type": "code",
   "execution_count": 5,
   "id": "c8f2a534",
   "metadata": {},
   "outputs": [
    {
     "name": "stdout",
     "output_type": "stream",
     "text": [
      "(265, 225, 225, 3) (265,)\n"
     ]
    }
   ],
   "source": [
    "img_w, img_h = 225, 225 #setting the image width and height for easy processing\n",
    "X = []\n",
    "y = []\n",
    "\n",
    "for i in Healthy:\n",
    "    try:\n",
    "        img = Image.open(\"D:\\\\kaggle\\\\input\\\\diabetic-retinopathy-dataset\\\\Healthy\\\\\" + i).convert('RGB')\n",
    "        img = img.resize((img_w,img_h))\n",
    "        X.append(np.asarray(img))\n",
    "        y.append(0)\n",
    "    except UnidentifiedImageError: # it passes an image that wasn't correctly identified\n",
    "        pass\n",
    "    \n",
    "for i in Mild:\n",
    "    try:\n",
    "        img = Image.open(\"D:\\\\kaggle\\\\input\\\\diabetic-retinopathy-dataset\\\\Mild DR\\\\\" + i).convert('RGB')\n",
    "        img = img.resize((img_w,img_h))\n",
    "        X.append(np.asarray(img))\n",
    "        y.append(1)\n",
    "    except UnidentifiedImageError:\n",
    "        pass\n",
    "    \n",
    "for i in Moderate:\n",
    "    try:\n",
    "        img = Image.open(\"D:\\\\kaggle\\\\input\\\\diabetic-retinopathy-dataset\\\\Moderate DR\\\\\" + i).convert('RGB')\n",
    "        img = img.resize((img_w,img_h))\n",
    "        X.append(np.asarray(img))\n",
    "        y.append(1)\n",
    "    except UnidentifiedImageError:\n",
    "        pass\n",
    "    \n",
    "for i in Proliferate:\n",
    "    try:\n",
    "        img = Image.open(\"D:\\\\kaggle\\\\input\\\\diabetic-retinopathy-dataset\\\\Proliferate DR\\\\\" + i).convert('RGB')\n",
    "        img = img.resize((img_w,img_h))\n",
    "        X.append(np.asarray(img))\n",
    "        y.append(2)\n",
    "    except UnidentifiedImageError:\n",
    "        pass\n",
    "    \n",
    "for i in Severe:\n",
    "    try:\n",
    "        img = Image.open(\"D:\\\\kaggle\\\\input\\\\diabetic-retinopathy-dataset\\\\Severe DR\\\\\" + i).convert('RGB')\n",
    "        img = img.resize((img_w,img_h))\n",
    "        X.append(np.asarray(img))\n",
    "        y.append(2)\n",
    "    except UnidentifiedImageError:\n",
    "        pass\n",
    "    \n",
    "X = np.asarray(X)\n",
    "y = np.asarray(y)\n",
    "print(X.shape, y.shape)\n",
    "\n",
    "# I resized each image to our manually defined width and height(img_w, img_h)\n",
    "# I also changed the images to an array\n"
   ]
  },
  {
   "cell_type": "code",
   "execution_count": 7,
   "id": "8d2a9e80",
   "metadata": {},
   "outputs": [
    {
     "name": "stdout",
     "output_type": "stream",
     "text": [
      "[1. 0. 0.]\n"
     ]
    }
   ],
   "source": [
    "x = X.astype('float32')\n",
    "x /= 255\n",
    "\n",
    "#scaler = MinMaxScaler()\n",
    "#x = scaler.fit_transform(x)\n",
    "\n",
    "num_classes = 3\n",
    "\n",
    "labels = keras.utils.to_categorical(y, num_classes)\n",
    "print(labels[0])"
   ]
  },
  {
   "cell_type": "code",
   "execution_count": 6,
   "id": "f44c2eee",
   "metadata": {},
   "outputs": [
    {
     "name": "stdout",
     "output_type": "stream",
     "text": [
      "Number of train: 129\n",
      "Number of validation: 56\n",
      "Number of test: 80\n"
     ]
    }
   ],
   "source": [
    "# splitting our dataset into train and test\n",
    "x_train1, x_test, y_train1, y_test = train_test_split(x, labels, test_size = 0.3, random_state=5)\n",
    "x_train,x_val,y_train,y_val=train_test_split(x_train1,y_train1,test_size=0.3,random_state=5)\n",
    "\n",
    "\n",
    "print('Number of train: {}'.format(len(x_train)))\n",
    "print('Number of validation: {}'.format(len(x_val)))\n",
    "print('Number of test: {}'.format(len(x_test)))"
   ]
  },
  {
   "cell_type": "code",
   "execution_count": 21,
   "id": "09c54ba0",
   "metadata": {},
   "outputs": [],
   "source": []
  },
  {
   "cell_type": "code",
   "execution_count": 7,
   "id": "8efed8ee",
   "metadata": {},
   "outputs": [],
   "source": [
    "# An image data generator is a tool provided by keras to easily perform data augmentation on images\n",
    "# Data augmentation simply takes an image for instance and adds different ways the image can be presented\n",
    "# for example like rotating the image, flipping the image, changing the scale e.t.c\n",
    "# when training the images, data augmentation is done in real time while the image is undergoing training\n",
    "# which makes it very remarkable and awesome to use\n",
    "datagen = ImageDataGenerator(\n",
    "    featurewise_center=False,\n",
    "    samplewise_center=False,\n",
    "    featurewise_std_normalization=False,\n",
    "    samplewise_std_normalization=False,\n",
    "    zca_whitening=False,\n",
    "    rotation_range=20.,\n",
    "    width_shift_range=0.5,\n",
    "    height_shift_range=0.5,\n",
    "    shear_range=30.,\n",
    "    zoom_range=0.,\n",
    "    channel_shift_range=0.,\n",
    "    fill_mode='nearest',\n",
    "    cval=0.,\n",
    "    horizontal_flip=0.2,\n",
    "    vertical_flip=0.2,\n",
    "    rescale=None)\n",
    "\n",
    "datagen.fit(x_train)"
   ]
  },
  {
   "cell_type": "code",
   "execution_count": 8,
   "id": "31da0085",
   "metadata": {},
   "outputs": [],
   "source": [
    "base_model = tf.keras.applications.InceptionV3(input_shape=(225,225,3),include_top=False,weights=\"imagenet\")"
   ]
  },
  {
   "cell_type": "code",
   "execution_count": 9,
   "id": "621b7ab4",
   "metadata": {},
   "outputs": [],
   "source": [
    "for layer in base_model.layers[:-10]:\n",
    "    layer.trainable=False"
   ]
  },
  {
   "cell_type": "code",
   "execution_count": 11,
   "id": "3aa4dcfe",
   "metadata": {},
   "outputs": [
    {
     "name": "stdout",
     "output_type": "stream",
     "text": [
      "Model: \"sequential_1\"\n",
      "_________________________________________________________________\n",
      "Layer (type)                 Output Shape              Param #   \n",
      "=================================================================\n",
      "inception_v3 (Functional)    (None, 5, 5, 2048)        21802784  \n",
      "_________________________________________________________________\n",
      "dropout_1 (Dropout)          (None, 5, 5, 2048)        0         \n",
      "_________________________________________________________________\n",
      "flatten_1 (Flatten)          (None, 51200)             0         \n",
      "_________________________________________________________________\n",
      "dense_3 (Dense)              (None, 128)               6553728   \n",
      "_________________________________________________________________\n",
      "dense_4 (Dense)              (None, 128)               16512     \n",
      "_________________________________________________________________\n",
      "dense_5 (Dense)              (None, 3)                 387       \n",
      "=================================================================\n",
      "Total params: 28,373,411\n",
      "Trainable params: 6,570,819\n",
      "Non-trainable params: 21,802,592\n",
      "_________________________________________________________________\n"
     ]
    }
   ],
   "source": [
    "# My neural network consists of 3 layers densely connected\n",
    "# dropout helps prevent over fitting of the model when testing it\n",
    "model_ann=Sequential()\n",
    "model_ann.add(base_model)\n",
    "model_ann.add(Dropout(0.2))\n",
    "model_ann.add(Flatten())\n",
    "model_ann.add(Dense(128, activation='relu'))\n",
    "model_ann.add(Dense(128, activation='relu'))\n",
    "model_ann.add(Dense(3, activation='softmax'))\n",
    "model_ann.summary() # printing out the summary of the model for better understanding for you"
   ]
  },
  {
   "cell_type": "code",
   "execution_count": 23,
   "id": "bf71d9ba",
   "metadata": {},
   "outputs": [],
   "source": [
    "\n",
    "#plot_model(model, to_file='convnet.png', show_shapes=True,show_layer_names=True)\n",
    "#Image(filename='convnet.png')"
   ]
  },
  {
   "cell_type": "code",
   "execution_count": 12,
   "id": "df5c7f71",
   "metadata": {},
   "outputs": [],
   "source": [
    "# here i am defining my performance metrics to check the performance of the model\n",
    "def f1_score(y_true, y_pred):\n",
    "    true_positives = K.sum(K.round(K.clip(y_true * y_pred, 0, 1)))\n",
    "    possible_positives = K.sum(K.round(K.clip(y_true, 0, 1)))\n",
    "    predicted_positives = K.sum(K.round(K.clip(y_pred, 0, 1)))\n",
    "    precision = true_positives / (predicted_positives + K.epsilon())\n",
    "    recall = true_positives / (possible_positives + K.epsilon())\n",
    "    f1_val = 3*(precision*recall)/(precision+recall+K.epsilon())\n",
    "    return f1_val\n",
    "\n",
    "METRICS = [\n",
    "      tf.keras.metrics.CategoricalAccuracy(name='accuracy'),\n",
    "      tf.keras.metrics.Precision(name='precision'),\n",
    "      tf.keras.metrics.Recall(name='recall'),  \n",
    "      tf.keras.metrics.AUC(name='auc'),\n",
    "        f1_score,\n",
    "]"
   ]
  },
  {
   "cell_type": "code",
   "execution_count": 13,
   "id": "93967f95",
   "metadata": {},
   "outputs": [],
   "source": [
    "lrd = ReduceLROnPlateau(monitor = 'recall',patience = 20,verbose = 1,factor = 0.50, min_lr = 1e-6)\n",
    "# the above line of code reduces the learning rate when there is no improvement to the metric\n",
    "# i added this line of code because i trained the model without it and the performance was stagnant\n",
    "# the performance was stuck on 0.96nnn as the accuracy so i added the line of code to reduce\n",
    "# the learing rate after two epochs\n",
    "mcp = ModelCheckpoint('model.h5')\n",
    "es = EarlyStopping(verbose=1, patience=20)\n",
    "\n",
    "model_ann.compile(optimizer='Adam', loss = tf.keras.losses.CategoricalCrossentropy(),metrics=METRICS)"
   ]
  },
  {
   "cell_type": "code",
   "execution_count": 19,
   "id": "889d6071",
   "metadata": {},
   "outputs": [
    {
     "name": "stdout",
     "output_type": "stream",
     "text": [
      "Wall time: 0 ns\n",
      "Epoch 1/20\n",
      "5/5 [==============================] - 159s 19s/step - loss: 5.3911 - accuracy: 0.5081 - precision: 0.5143 - recall: 0.4865 - auc: 0.6779 - f1_score: 0.5371 - val_loss: 3.1517 - val_accuracy: 0.7321 - val_precision: 0.7321 - val_recall: 0.7321 - val_auc: 0.8157 - val_f1_score: 1.0937\n",
      "Epoch 2/20\n",
      "5/5 [==============================] - 68s 14s/step - loss: 1.4890 - accuracy: 0.7132 - precision: 0.7109 - recall: 0.7054 - auc: 0.8635 - f1_score: 1.1472 - val_loss: 1.9709 - val_accuracy: 0.7679 - val_precision: 0.7679 - val_recall: 0.7679 - val_auc: 0.8439 - val_f1_score: 1.1484\n",
      "Epoch 3/20\n",
      "5/5 [==============================] - 67s 14s/step - loss: 0.9582 - accuracy: 0.7907 - precision: 0.7907 - recall: 0.7907 - auc: 0.9241 - f1_score: 0.9562 - val_loss: 1.4486 - val_accuracy: 0.7679 - val_precision: 0.7679 - val_recall: 0.7679 - val_auc: 0.8803 - val_f1_score: 1.1406\n",
      "Epoch 4/20\n",
      "5/5 [==============================] - 67s 14s/step - loss: 1.0711 - accuracy: 0.8140 - precision: 0.8140 - recall: 0.8140 - auc: 0.9358 - f1_score: 1.2750 - val_loss: 1.1772 - val_accuracy: 0.7500 - val_precision: 0.7500 - val_recall: 0.7500 - val_auc: 0.9184 - val_f1_score: 1.1250\n",
      "Epoch 5/20\n",
      "5/5 [==============================] - 67s 14s/step - loss: 0.4642 - accuracy: 0.8605 - precision: 0.8672 - recall: 0.8605 - auc: 0.9671 - f1_score: 1.3354 - val_loss: 1.9650 - val_accuracy: 0.7321 - val_precision: 0.7321 - val_recall: 0.7321 - val_auc: 0.8420 - val_f1_score: 1.1016\n",
      "Epoch 6/20\n",
      "5/5 [==============================] - 66s 14s/step - loss: 0.6087 - accuracy: 0.8760 - precision: 0.8760 - recall: 0.8760 - auc: 0.9477 - f1_score: 1.3500 - val_loss: 2.3655 - val_accuracy: 0.7321 - val_precision: 0.7321 - val_recall: 0.7321 - val_auc: 0.8459 - val_f1_score: 1.1016\n",
      "Epoch 7/20\n",
      "5/5 [==============================] - 69s 14s/step - loss: 0.1689 - accuracy: 0.9612 - precision: 0.9612 - recall: 0.9612 - auc: 0.9913 - f1_score: 1.4531 - val_loss: 2.6891 - val_accuracy: 0.5714 - val_precision: 0.5714 - val_recall: 0.5714 - val_auc: 0.7518 - val_f1_score: 0.8516\n",
      "Epoch 8/20\n",
      "5/5 [==============================] - 80s 17s/step - loss: 0.1720 - accuracy: 0.9225 - precision: 0.9225 - recall: 0.9225 - auc: 0.9930 - f1_score: 1.4062 - val_loss: 2.2659 - val_accuracy: 0.7321 - val_precision: 0.7321 - val_recall: 0.7321 - val_auc: 0.8171 - val_f1_score: 1.0937\n",
      "Epoch 9/20\n",
      "5/5 [==============================] - 80s 16s/step - loss: 0.2308 - accuracy: 0.9302 - precision: 0.9302 - recall: 0.9302 - auc: 0.9741 - f1_score: 1.4156 - val_loss: 2.2463 - val_accuracy: 0.7321 - val_precision: 0.7321 - val_recall: 0.7321 - val_auc: 0.8327 - val_f1_score: 1.0937\n",
      "Epoch 10/20\n",
      "5/5 [==============================] - 80s 16s/step - loss: 0.0417 - accuracy: 0.9767 - precision: 0.9767 - recall: 0.9767 - auc: 0.9996 - f1_score: 1.4719 - val_loss: 1.8546 - val_accuracy: 0.6786 - val_precision: 0.6786 - val_recall: 0.6786 - val_auc: 0.8200 - val_f1_score: 1.0234\n",
      "Epoch 11/20\n",
      "5/5 [==============================] - 80s 17s/step - loss: 0.0295 - accuracy: 0.9922 - precision: 0.9922 - recall: 0.9922 - auc: 0.9997 - f1_score: 1.4906 - val_loss: 1.6297 - val_accuracy: 0.7500 - val_precision: 0.7500 - val_recall: 0.7500 - val_auc: 0.8548 - val_f1_score: 1.1250\n",
      "Epoch 12/20\n",
      "5/5 [==============================] - 79s 16s/step - loss: 1.9563e-04 - accuracy: 1.0000 - precision: 1.0000 - recall: 1.0000 - auc: 1.0000 - f1_score: 1.5000 - val_loss: 1.9717 - val_accuracy: 0.7679 - val_precision: 0.7679 - val_recall: 0.7679 - val_auc: 0.8462 - val_f1_score: 1.1484\n",
      "Epoch 13/20\n",
      "5/5 [==============================] - 79s 16s/step - loss: 6.0085e-04 - accuracy: 1.0000 - precision: 1.0000 - recall: 1.0000 - auc: 1.0000 - f1_score: 1.5000 - val_loss: 2.3414 - val_accuracy: 0.7500 - val_precision: 0.7500 - val_recall: 0.7500 - val_auc: 0.8380 - val_f1_score: 1.1172\n",
      "Epoch 14/20\n",
      "5/5 [==============================] - 79s 16s/step - loss: 0.0033 - accuracy: 1.0000 - precision: 1.0000 - recall: 1.0000 - auc: 1.0000 - f1_score: 1.5000 - val_loss: 2.4203 - val_accuracy: 0.7500 - val_precision: 0.7500 - val_recall: 0.7500 - val_auc: 0.8377 - val_f1_score: 1.1172\n",
      "Epoch 15/20\n",
      "5/5 [==============================] - 79s 16s/step - loss: 0.0017 - accuracy: 1.0000 - precision: 1.0000 - recall: 1.0000 - auc: 1.0000 - f1_score: 1.5000 - val_loss: 2.2719 - val_accuracy: 0.7500 - val_precision: 0.7500 - val_recall: 0.7500 - val_auc: 0.8268 - val_f1_score: 1.1172\n",
      "Epoch 16/20\n",
      "5/5 [==============================] - 81s 17s/step - loss: 3.3268e-04 - accuracy: 1.0000 - precision: 1.0000 - recall: 1.0000 - auc: 1.0000 - f1_score: 1.5000 - val_loss: 2.1541 - val_accuracy: 0.7679 - val_precision: 0.7679 - val_recall: 0.7679 - val_auc: 0.8442 - val_f1_score: 1.1484\n",
      "Epoch 17/20\n",
      "5/5 [==============================] - 79s 16s/step - loss: 1.6376e-04 - accuracy: 1.0000 - precision: 1.0000 - recall: 1.0000 - auc: 1.0000 - f1_score: 1.5000 - val_loss: 2.0763 - val_accuracy: 0.7679 - val_precision: 0.7679 - val_recall: 0.7679 - val_auc: 0.8453 - val_f1_score: 1.1484\n",
      "Epoch 18/20\n",
      "5/5 [==============================] - 80s 16s/step - loss: 1.3843e-04 - accuracy: 1.0000 - precision: 1.0000 - recall: 1.0000 - auc: 1.0000 - f1_score: 1.5000 - val_loss: 2.0235 - val_accuracy: 0.7500 - val_precision: 0.7500 - val_recall: 0.7500 - val_auc: 0.8453 - val_f1_score: 1.1172\n",
      "Epoch 19/20\n",
      "5/5 [==============================] - 80s 17s/step - loss: 7.3240e-05 - accuracy: 1.0000 - precision: 1.0000 - recall: 1.0000 - auc: 1.0000 - f1_score: 1.5000 - val_loss: 1.9924 - val_accuracy: 0.7500 - val_precision: 0.7500 - val_recall: 0.7500 - val_auc: 0.8446 - val_f1_score: 1.1172\n",
      "Epoch 20/20\n",
      "5/5 [==============================] - 80s 16s/step - loss: 9.3124e-05 - accuracy: 1.0000 - precision: 1.0000 - recall: 1.0000 - auc: 1.0000 - f1_score: 1.5000 - val_loss: 1.9713 - val_accuracy: 0.7500 - val_precision: 0.7500 - val_recall: 0.7500 - val_auc: 0.8444 - val_f1_score: 1.1172\n"
     ]
    }
   ],
   "source": [
    "# this is where i fit and trained my model\n",
    "%time\n",
    "history=model_ann.fit(x_train,y_train,validation_data=(x_val,y_val),epochs = 20,verbose = 1,callbacks=[lrd,mcp,es])"
   ]
  },
  {
   "cell_type": "code",
   "execution_count": 20,
   "id": "59829d19",
   "metadata": {},
   "outputs": [
    {
     "data": {
      "image/png": "[encoded data removed]",
      "text/plain": [
       "<Figure size 1080x720 with 2 Axes>"
      ]
     },
     "metadata": {
      "needs_background": "light"
     },
     "output_type": "display_data"
    }
   ],
   "source": [
    "acc = history.history['recall']\n",
    "val_acc = history.history['val_recall']\n",
    "loss = history.history['loss']\n",
    "val_loss = history.history['val_loss']\n",
    "epochs_range = range(len(history.history['val_loss']))\n",
    "plt.figure(figsize=(15, 10))\n",
    "plt.subplot(1, 2, 1)\n",
    "plt.scatter(epochs_range, acc, label='Training Recall')\n",
    "plt.scatter(epochs_range, val_acc, label='Validation Recall')\n",
    "plt.legend(loc='lower right')\n",
    "plt.title('Training and Validation Recall')\n",
    "plt.subplot(1, 2, 2)\n",
    "plt.scatter(epochs_range, loss, label='Training Loss')\n",
    "plt.scatter(epochs_range, val_loss, label='Validation Loss')\n",
    "plt.legend(loc='upper right')\n",
    "plt.title('Training and Validation Loss')\n",
    "plt.show()"
   ]
  },
  {
   "cell_type": "code",
   "execution_count": 29,
   "id": "e6bac5b6",
   "metadata": {},
   "outputs": [],
   "source": [
    "y_pred = model.predict(x_test)\n",
    "def plot_roc_curve(ytest, ypred):\n",
    "    num_classes = len(np.unique(ytest))\n",
    "    ytest = label_binarize(ytest, classes=np.asarray(num_classes))\n",
    "    ypred = label_binarize(ypred, classes=np.asarray(num_classes))\n",
    "\n",
    "  # Compute ROC curve and ROC area for each class\n",
    "    fpr = dict()\n",
    "    tpr = dict()\n",
    "    roc_auc = dict()\n",
    "    for i in range(num_classes):\n",
    "        fpr[i], tpr[i], _ = roc_curve(ytest[:, i], ypred[:, i])\n",
    "        roc_auc[i] = auc(fpr[i], tpr[i])\n",
    "    fpr[\"micro\"], tpr[\"micro\"], _ = roc_curve(y_test.ravel(), y_pred.ravel())\n",
    "    roc_auc[\"micro\"] = auc(fpr[\"micro\"], tpr[\"micro\"])\n",
    "\n",
    "  # First aggregate all false positive rates\n",
    "    all_fpr = np.unique(np.concatenate([fpr[i] for i in range(num_classes)]))\n",
    "\n",
    "  # Then interpolate all ROC curves at this points\n",
    "    mean_tpr = np.zeros_like(all_fpr)\n",
    "    for i in range(num_classes):\n",
    "        mean_tpr += np.interp(all_fpr, fpr[i], tpr[i])\n",
    "\n",
    "  # Finally average it and compute AUC\n",
    "    mean_tpr /= num_classes\n",
    "\n",
    "    fpr[\"macro\"] = all_fpr\n",
    "    tpr[\"macro\"] = mean_tpr\n",
    "    roc_auc[\"macro\"] = auc(fpr[\"macro\"], tpr[\"macro\"])\n",
    "\n",
    "  # Plot all ROC curves\n",
    "  #plt.figure(figsize=(10,5))\n",
    "    plt.figure(dpi=600)\n",
    "    lw = 2\n",
    "    plt.plot(fpr[\"micro\"], tpr[\"micro\"],\n",
    "    label=\"micro-average ROC curve (area = {0:0.2f})\".format(roc_auc[\"micro\"]),\n",
    "    color=\"deeppink\", linestyle=\":\", linewidth=4,)\n",
    "\n",
    "    plt.plot(fpr[\"macro\"], tpr[\"macro\"],\n",
    "    label=\"macro-average ROC curve (area = {0:0.2f})\".format(roc_auc[\"macro\"]),\n",
    "    color=\"navy\", linestyle=\":\", linewidth=4,)\n",
    "\n",
    "    colors = cycle([\"aqua\", \"darkorange\", \"darkgreen\", \"yellow\", \"blue\"])\n",
    "    for i, color in zip(range(num_classes), colors):\n",
    "        plt.plot(fpr[i], tpr[i], color=color, lw=lw,\n",
    "        label=\"ROC curve of class {0} (area = {1:0.2f})\".format(i, roc_auc[i]),)\n",
    "\n",
    "    plt.plot([0, 1], [0, 1], \"k--\", lw=lw)\n",
    "    plt.xlim([0.0, 1.0])\n",
    "    plt.ylim([0.0, 1.05])\n",
    "    plt.xlabel(\"False Positive Rate\")\n",
    "    plt.ylabel(\"True Positive Rate\")\n",
    "    plt.title(\"Receiver Operating Characteristic (ROC) curve\")\n",
    "    plt.legend()"
   ]
  },
  {
   "cell_type": "code",
   "execution_count": 21,
   "id": "810fde4e",
   "metadata": {},
   "outputs": [
    {
     "name": "stdout",
     "output_type": "stream",
     "text": [
      "Confusion Matrix\n",
      "Classification Report\n",
      "              precision    recall  f1-score   support\n",
      "\n",
      "      Healty       0.89      0.92      0.91        26\n",
      "     caution       0.60      0.79      0.68        34\n",
      "      severe       0.38      0.15      0.21        20\n",
      "\n",
      "    accuracy                           0.68        80\n",
      "   macro avg       0.62      0.62      0.60        80\n",
      "weighted avg       0.64      0.68      0.64        80\n",
      "\n"
     ]
    },
    {
     "data": {
      "image/png": "[encoded data removed]",
      "text/plain": [
       "<Figure size 720x720 with 2 Axes>"
      ]
     },
     "metadata": {
      "needs_background": "light"
     },
     "output_type": "display_data"
    }
   ],
   "source": [
    "# here i want to define and plot my confusion matrix\n",
    "# and also my classification report\n",
    "def plot_confusion_matrix(cm, classes, normalize=True, title='Confusion matrix', cmap=plt.cm.Blues):\n",
    "    \n",
    "    plt.figure(figsize=(10,10))\n",
    "    plt.imshow(cm, interpolation='nearest', cmap=cmap)\n",
    "    plt.title(title)\n",
    "    plt.colorbar()\n",
    "    tick_marks = np.arange(len(classes))\n",
    "    plt.xticks(tick_marks, classes, rotation=45)\n",
    "    plt.yticks(tick_marks, classes)\n",
    "    if normalize:\n",
    "        cm = cm.astype('float') / cm.sum(axis=1)[:, np.newaxis]\n",
    "        cm = np.around(cm, decimals=2)\n",
    "        cm[np.isnan(cm)] = 0.0\n",
    "    thresh = cm.max() / 2.\n",
    "    for i, j in itertools.product(range(cm.shape[0]), range(cm.shape[1])):\n",
    "        plt.text(j, i, cm[i, j],\n",
    "                 horizontalalignment=\"center\",\n",
    "                 color=\"white\" if cm[i, j] > thresh else \"black\")\n",
    "    plt.tight_layout()\n",
    "    plt.ylabel('True label')\n",
    "    plt.xlabel('Predicted label')\n",
    "    \n",
    "    \n",
    "y_pred = (model_ann.predict(x_test) > 0.5).astype(\"int32\")\n",
    "\n",
    "y_test_c = np.argmax(y_test, axis=1)\n",
    "target_names = [\"Healty\", \"caution\", \"severe\"]\n",
    "\n",
    "Y_pred = np.argmax(model_ann.predict(x_test),axis=1)\n",
    "print('Confusion Matrix')\n",
    "cm = confusion_matrix(y_test_c, Y_pred)\n",
    "plot_confusion_matrix(cm, target_names, normalize=False, title='Confusion Matrix')\n",
    "\n",
    "print('Classification Report')\n",
    "print(classification_report(y_test_c, Y_pred, target_names=target_names))\n",
    "\n",
    "\n",
    "#=====================important note==============================#\n",
    "# this model i created basically classifies different cases into 3 and they are\n",
    "# healthy(meaning the eye is healthy and free from any retinopathy)\n",
    "# caution(meaning the eye has some detected disfunctionalities and immediate treatemet has to commence\n",
    "# before it worsens)\n",
    "# and severe(meaning that the eye is under serious attack from by retinopathy and in severe condition)\n",
    "# so its either the eye is healthy severe or needs to be treated with caution"
   ]
  },
  {
   "cell_type": "code",
   "execution_count": 12,
   "id": "c57a0700",
   "metadata": {},
   "outputs": [
    {
     "name": "stdout",
     "output_type": "stream",
     "text": [
      "Model: \"sequential_1\"\n",
      "_________________________________________________________________\n",
      "Layer (type)                 Output Shape              Param #   \n",
      "=================================================================\n",
      "conv2d_94 (Conv2D)           (None, 224, 224, 32)      416       \n",
      "_________________________________________________________________\n",
      "max_pooling2d_4 (MaxPooling2 (None, 112, 112, 32)      0         \n",
      "_________________________________________________________________\n",
      "conv2d_95 (Conv2D)           (None, 111, 111, 64)      8256      \n",
      "_________________________________________________________________\n",
      "max_pooling2d_5 (MaxPooling2 (None, 55, 55, 64)        0         \n",
      "_________________________________________________________________\n",
      "flatten_1 (Flatten)          (None, 193600)            0         \n",
      "_________________________________________________________________\n",
      "dense_3 (Dense)              (None, 128)               24780928  \n",
      "_________________________________________________________________\n",
      "dense_4 (Dense)              (None, 3)                 387       \n",
      "=================================================================\n",
      "Total params: 24,789,987\n",
      "Trainable params: 24,789,987\n",
      "Non-trainable params: 0\n",
      "_________________________________________________________________\n"
     ]
    }
   ],
   "source": [
    "model_cnn = Sequential()\n",
    "#model_cnn.add = (base_model)\n",
    "model_cnn.add(Conv2D(filters = 32, kernel_size = 2, activation = 'relu', input_shape=(225, 225, 3)))\n",
    "model_cnn.add(MaxPooling2D((2, 2)))\n",
    "model_cnn.add(Conv2D(filters = 64, kernel_size = 2, activation = 'relu'))\n",
    "model_cnn.add(MaxPooling2D((2, 2)))\n",
    "model_cnn.add(Flatten())\n",
    "model_cnn.add(Dense(128, activation = 'relu'))\n",
    "model_cnn.add(Dense(3, activation = 'softmax'))\n",
    "model_cnn.summary()"
   ]
  },
  {
   "cell_type": "code",
   "execution_count": 13,
   "id": "a12a084b",
   "metadata": {},
   "outputs": [],
   "source": [
    "model_cnn.compile(optimizer='Adam', loss = tf.keras.losses.CategoricalCrossentropy(),metrics=METRICS)"
   ]
  },
  {
   "cell_type": "code",
   "execution_count": 14,
   "id": "585fd32a",
   "metadata": {},
   "outputs": [
    {
     "name": "stdout",
     "output_type": "stream",
     "text": [
      "Wall time: 0 ns\n",
      "Epoch 1/20\n",
      "5/5 [==============================] - 47s 5s/step - loss: 11.8798 - accuracy: 0.3643 - precision: 0.2990 - recall: 0.2248 - auc: 0.5076 - f1_score: 0.5625 - val_loss: 9.5092 - val_accuracy: 0.3214 - val_precision: 0.3214 - val_recall: 0.3214 - val_auc: 0.4911 - val_f1_score: 0.4766\n",
      "Epoch 2/20\n",
      "5/5 [==============================] - 21s 4s/step - loss: 6.5267 - accuracy: 0.3566 - precision: 0.3566 - recall: 0.3566 - auc: 0.4940 - f1_score: 0.7219 - val_loss: 2.0713 - val_accuracy: 0.3571 - val_precision: 0.3571 - val_recall: 0.3571 - val_auc: 0.4330 - val_f1_score: 0.5391\n",
      "Epoch 3/20\n",
      "5/5 [==============================] - 20s 4s/step - loss: 1.1736 - accuracy: 0.5194 - precision: 0.5625 - recall: 0.4884 - auc: 0.6536 - f1_score: 0.9240 - val_loss: 1.0650 - val_accuracy: 0.5536 - val_precision: 0.5455 - val_recall: 0.5357 - val_auc: 0.7875 - val_f1_score: 0.8110\n",
      "Epoch 4/20\n",
      "5/5 [==============================] - 20s 4s/step - loss: 1.0419 - accuracy: 0.5736 - precision: 0.5680 - recall: 0.5504 - auc: 0.7608 - f1_score: 0.9700 - val_loss: 1.3371 - val_accuracy: 0.3214 - val_precision: 0.3462 - val_recall: 0.3214 - val_auc: 0.6245 - val_f1_score: 0.4937\n",
      "Epoch 5/20\n",
      "5/5 [==============================] - 20s 4s/step - loss: 0.9009 - accuracy: 0.6589 - precision: 0.6545 - recall: 0.2791 - auc: 0.7953 - f1_score: 0.7473 - val_loss: 0.7542 - val_accuracy: 0.7321 - val_precision: 0.9231 - val_recall: 0.2143 - val_auc: 0.8746 - val_f1_score: 0.5211\n",
      "Epoch 6/20\n",
      "5/5 [==============================] - 21s 4s/step - loss: 0.6747 - accuracy: 0.7674 - precision: 0.8871 - recall: 0.4264 - auc: 0.9128 - f1_score: 0.9515 - val_loss: 0.9936 - val_accuracy: 0.7143 - val_precision: 0.7273 - val_recall: 0.7143 - val_auc: 0.8163 - val_f1_score: 1.0789\n",
      "Epoch 7/20\n",
      "5/5 [==============================] - 20s 4s/step - loss: 0.7293 - accuracy: 0.7442 - precision: 0.7422 - recall: 0.7364 - auc: 0.8732 - f1_score: 1.1851 - val_loss: 0.7734 - val_accuracy: 0.7143 - val_precision: 0.7308 - val_recall: 0.6786 - val_auc: 0.8249 - val_f1_score: 1.0516\n",
      "Epoch 8/20\n",
      "5/5 [==============================] - 20s 4s/step - loss: 0.6498 - accuracy: 0.7287 - precision: 0.7500 - recall: 0.6977 - auc: 0.8845 - f1_score: 0.8699 - val_loss: 0.6617 - val_accuracy: 0.7143 - val_precision: 0.7843 - val_recall: 0.7143 - val_auc: 0.8702 - val_f1_score: 1.1199\n",
      "Epoch 9/20\n",
      "5/5 [==============================] - 20s 4s/step - loss: 0.6570 - accuracy: 0.7364 - precision: 0.7627 - recall: 0.6977 - auc: 0.8914 - f1_score: 0.8809 - val_loss: 0.6314 - val_accuracy: 0.7321 - val_precision: 0.7547 - val_recall: 0.7143 - val_auc: 0.8823 - val_f1_score: 1.1020\n",
      "Epoch 10/20\n",
      "5/5 [==============================] - 20s 4s/step - loss: 0.6015 - accuracy: 0.7442 - precision: 0.7797 - recall: 0.7132 - auc: 0.8998 - f1_score: 1.1908 - val_loss: 0.6218 - val_accuracy: 0.7143 - val_precision: 0.7273 - val_recall: 0.7143 - val_auc: 0.9043 - val_f1_score: 1.0863\n",
      "Epoch 11/20\n",
      "5/5 [==============================] - 19s 4s/step - loss: 0.4904 - accuracy: 0.7907 - precision: 0.7953 - recall: 0.7829 - auc: 0.9326 - f1_score: 0.9546 - val_loss: 0.5945 - val_accuracy: 0.7143 - val_precision: 0.7647 - val_recall: 0.6964 - val_auc: 0.9032 - val_f1_score: 1.0989\n",
      "Epoch 12/20\n",
      "5/5 [==============================] - 19s 4s/step - loss: 0.4684 - accuracy: 0.7984 - precision: 0.8291 - recall: 0.7519 - auc: 0.9468 - f1_score: 1.2434 - val_loss: 0.6851 - val_accuracy: 0.6607 - val_precision: 0.7632 - val_recall: 0.5179 - val_auc: 0.8548 - val_f1_score: 0.9222\n",
      "Epoch 13/20\n",
      "5/5 [==============================] - 20s 4s/step - loss: 0.4845 - accuracy: 0.8140 - precision: 0.8636 - recall: 0.7364 - auc: 0.9472 - f1_score: 1.2511 - val_loss: 0.6815 - val_accuracy: 0.6071 - val_precision: 0.6739 - val_recall: 0.5536 - val_auc: 0.8513 - val_f1_score: 0.9143\n",
      "Epoch 14/20\n",
      "5/5 [==============================] - 20s 4s/step - loss: 0.4062 - accuracy: 0.8450 - precision: 0.8770 - recall: 0.8295 - auc: 0.9589 - f1_score: 1.3214 - val_loss: 0.6799 - val_accuracy: 0.7321 - val_precision: 0.7455 - val_recall: 0.7321 - val_auc: 0.8870 - val_f1_score: 1.1101\n",
      "Epoch 15/20\n",
      "5/5 [==============================] - 19s 4s/step - loss: 0.3541 - accuracy: 0.8605 - precision: 0.8672 - recall: 0.8605 - auc: 0.9653 - f1_score: 1.0451 - val_loss: 0.8527 - val_accuracy: 0.5714 - val_precision: 0.5660 - val_recall: 0.5357 - val_auc: 0.8093 - val_f1_score: 0.8262\n",
      "Epoch 16/20\n",
      "5/5 [==============================] - 20s 4s/step - loss: 0.3892 - accuracy: 0.8062 - precision: 0.8047 - recall: 0.7984 - auc: 0.9566 - f1_score: 1.2601 - val_loss: 0.8634 - val_accuracy: 0.6607 - val_precision: 0.6545 - val_recall: 0.6429 - val_auc: 0.8349 - val_f1_score: 0.9762\n",
      "Epoch 17/20\n",
      "5/5 [==============================] - 20s 4s/step - loss: 0.2743 - accuracy: 0.9070 - precision: 0.9062 - recall: 0.8992 - auc: 0.9806 - f1_score: 1.3820 - val_loss: 0.8755 - val_accuracy: 0.6786 - val_precision: 0.6786 - val_recall: 0.6786 - val_auc: 0.8456 - val_f1_score: 1.0234\n",
      "Epoch 18/20\n",
      "5/5 [==============================] - 20s 4s/step - loss: 0.2448 - accuracy: 0.9070 - precision: 0.9062 - recall: 0.8992 - auc: 0.9856 - f1_score: 1.3821 - val_loss: 0.8358 - val_accuracy: 0.6964 - val_precision: 0.7037 - val_recall: 0.6786 - val_auc: 0.8560 - val_f1_score: 1.0374\n",
      "Epoch 19/20\n",
      "5/5 [==============================] - 19s 4s/step - loss: 0.1902 - accuracy: 0.9225 - precision: 0.9219 - recall: 0.9147 - auc: 0.9909 - f1_score: 1.4010 - val_loss: 0.9480 - val_accuracy: 0.6786 - val_precision: 0.6786 - val_recall: 0.6786 - val_auc: 0.8534 - val_f1_score: 1.0156\n",
      "Epoch 20/20\n",
      "5/5 [==============================] - 20s 4s/step - loss: 0.1467 - accuracy: 0.9457 - precision: 0.9457 - recall: 0.9457 - auc: 0.9947 - f1_score: 1.4344 - val_loss: 1.0066 - val_accuracy: 0.6429 - val_precision: 0.6296 - val_recall: 0.6071 - val_auc: 0.8193 - val_f1_score: 0.9284\n"
     ]
    }
   ],
   "source": [
    "%time\n",
    "history1=model_cnn.fit(x_train,y_train,validation_data=(x_val,y_val),epochs = 20,verbose = 1,callbacks=[lrd,mcp,es])"
   ]
  },
  {
   "cell_type": "code",
   "execution_count": 16,
   "id": "f81a1c47",
   "metadata": {},
   "outputs": [
    {
     "data": {
      "image/png": "[encoded data removed]",
      "text/plain": [
       "<Figure size 1080x720 with 2 Axes>"
      ]
     },
     "metadata": {
      "needs_background": "light"
     },
     "output_type": "display_data"
    }
   ],
   "source": [
    "acc1 = history1.history['recall']\n",
    "val_acc1 = history1.history['val_recall']\n",
    "loss1 = history1.history['loss']\n",
    "val_loss1 = history1.history['val_loss']\n",
    "epochs_range1 = range(len(history1.history['val_loss']))\n",
    "plt.figure(figsize=(15, 10))\n",
    "plt.subplot(1, 2, 1)\n",
    "plt.scatter(epochs_range1, acc1, label='Training Recall')\n",
    "plt.scatter(epochs_range1, val_acc1, label='Validation Recall')\n",
    "plt.legend(loc='lower right')\n",
    "plt.title('Training and Validation Recall')\n",
    "plt.subplot(1, 2, 2)\n",
    "plt.scatter(epochs_range1, loss1, label='Training Loss')\n",
    "plt.scatter(epochs_range1, val_loss1, label='Validation Loss')\n",
    "plt.legend(loc='upper right')\n",
    "plt.title('Training and Validation Loss')\n",
    "plt.show()"
   ]
  },
  {
   "cell_type": "code",
   "execution_count": 22,
   "id": "59713f0b",
   "metadata": {},
   "outputs": [
    {
     "name": "stdout",
     "output_type": "stream",
     "text": [
      "Confusion Matrix\n",
      "Classification Report\n",
      "              precision    recall  f1-score   support\n",
      "\n",
      "      Healty       0.88      0.81      0.84        26\n",
      "     caution       0.50      0.62      0.55        34\n",
      "      severe       0.21      0.15      0.18        20\n",
      "\n",
      "    accuracy                           0.56        80\n",
      "   macro avg       0.53      0.53      0.52        80\n",
      "weighted avg       0.55      0.56      0.55        80\n",
      "\n"
     ]
    },
    {
     "data": {
      "image/png": "[encoded data removed]",
      "text/plain": [
       "<Figure size 720x720 with 2 Axes>"
      ]
     },
     "metadata": {
      "needs_background": "light"
     },
     "output_type": "display_data"
    }
   ],
   "source": [
    "def plot_confusion_matrix(cm, classes, normalize=True, title='Confusion matrix', cmap=plt.cm.Blues):\n",
    "    \n",
    "    plt.figure(figsize=(10,10))\n",
    "    plt.imshow(cm, interpolation='nearest', cmap=cmap)\n",
    "    plt.title(title)\n",
    "    plt.colorbar()\n",
    "    tick_marks = np.arange(len(classes))\n",
    "    plt.xticks(tick_marks, classes, rotation=45)\n",
    "    plt.yticks(tick_marks, classes)\n",
    "    if normalize:\n",
    "        cm = cm.astype('float') / cm.sum(axis=1)[:, np.newaxis]\n",
    "        cm = np.around(cm, decimals=2)\n",
    "        cm[np.isnan(cm)] = 0.0\n",
    "    thresh = cm.max() / 2.\n",
    "    for i, j in itertools.product(range(cm.shape[0]), range(cm.shape[1])):\n",
    "        plt.text(j, i, cm[i, j],\n",
    "                 horizontalalignment=\"center\",\n",
    "                 color=\"white\" if cm[i, j] > thresh else \"black\")\n",
    "    plt.tight_layout()\n",
    "    plt.ylabel('True label')\n",
    "    plt.xlabel('Predicted label')\n",
    "    \n",
    "    \n",
    "y_pred1 = (model_cnn.predict(x_test) > 0.5).astype(\"int32\")\n",
    "\n",
    "y_test_c1 = np.argmax(y_test, axis=1)\n",
    "target_names1 = [\"Healty\", \"caution\", \"severe\"]\n",
    "\n",
    "Y_pred1 = np.argmax(model_cnn.predict(x_test),axis=1)\n",
    "print('Confusion Matrix')\n",
    "cm = confusion_matrix(y_test_c1, Y_pred1)\n",
    "plot_confusion_matrix(cm, target_names1, normalize=False, title='Confusion Matrix')\n",
    "\n",
    "print('Classification Report')\n",
    "print(classification_report(y_test_c1, Y_pred1, target_names=target_names1))"
   ]
  },
  {
   "cell_type": "code",
   "execution_count": null,
   "id": "a968bed9",
   "metadata": {},
   "outputs": [],
   "source": [
    " import tensorflow.keras.layers as KL\n",
    "inputss = KL.Input(shape=(225, 225, 3))\n",
    "R = KL.SimpleRNN(128, activation=\"relu\")(inputss)\n",
    "outputss = KL.Dense(3, activation='softmax')(R)\n",
    "\n",
    "model_rnn = tf.keras.models.Model(inputss, outputss)\n",
    "model_rnn.summary()"
   ]
  }
 ],
 "metadata": {
  "kernelspec": {
   "display_name": "Python 3",
   "language": "python",
   "name": "python3"
  },
  "language_info": {
   "codemirror_mode": {
    "name": "ipython",
    "version": 3
   },
   "file_extension": ".py",
   "mimetype": "text/x-python",
   "name": "python",
   "nbconvert_exporter": "python",
   "pygments_lexer": "ipython3",
   "version": "3.8.5"
  }
 },
 "nbformat": 4,
 "nbformat_minor": 5
}
