{
 "cells": [
  {
   "cell_type": "code",
   "execution_count": 1,
   "id": "d21cbf24",
   "metadata": {},
   "outputs": [],
   "source": [
    "import os\n",
    "import random\n",
    "import pandas as pd \n",
    "import numpy as np \n",
    "import matplotlib.pyplot as plt\n",
    "import cv2\n",
    "from tensorflow import keras\n",
    "import tensorflow as tf\n",
    "import keras.backend as K\n",
    "from tensorflow.keras.preprocessing.image import ImageDataGenerator\n",
    "from tensorflow.keras.models import Sequential\n",
    "from tensorflow.keras.layers import InputLayer, BatchNormalization, Dropout, Flatten, Dense, Activation, MaxPool2D, Conv2D\n",
    "from tensorflow.keras.layers import Conv2D, Dense, Flatten, Dropout, Activation, SimpleRNN\n",
    "from tensorflow.keras.layers import BatchNormalization, Reshape, MaxPooling2D, GlobalAveragePooling2D, SimpleRNN\n",
    "from tensorflow.keras.callbacks import EarlyStopping, ModelCheckpoint, ReduceLROnPlateau\n",
    "\n",
    "from PIL import Image\n",
    "from PIL import UnidentifiedImageError\n",
    "\n",
    "from sklearn.preprocessing import OneHotEncoder\n",
    "\n",
    "from sklearn.model_selection import train_test_split\n",
    "\n",
    "from sklearn.metrics import classification_report, confusion_matrix, roc_curve, auc\n",
    "import itertools\n",
    "from sklearn.preprocessing import StandardScaler\n",
    "\n",
    "import warnings\n",
    "warnings.filterwarnings('ignore')\n",
    "from sklearn import metrics\n",
    "from sklearn.preprocessing import label_binarize\n",
    "from sklearn.discriminant_analysis import LinearDiscriminantAnalysis\n",
    "from sklearn.preprocessing import StandardScaler\n",
    "from sklearn.neighbors import KNeighborsClassifier\n",
    "from sklearn.preprocessing import MinMaxScaler\n",
    "from sklearn.decomposition import FastICA\n",
    "from sklearn.ensemble import RandomForestClassifier"
   ]
  },
  {
   "cell_type": "code",
   "execution_count": 2,
   "id": "b3d20aec",
   "metadata": {},
   "outputs": [],
   "source": [
    "#===============importing the dataset from the directory========================#\n",
    "Healthy = os.listdir(\"D:\\kaggle\\input\\diabetic-retinopathy-dataset\\Healthy\")\n",
    "Mild = os.listdir('D:\\kaggle\\input\\diabetic-retinopathy-dataset\\Mild DR')\n",
    "Moderate = os.listdir('D:\\kaggle\\input\\diabetic-retinopathy-dataset\\Moderate DR')\n",
    "Proliferate = os.listdir('D:\\kaggle\\input\\diabetic-retinopathy-dataset\\Proliferate DR')\n",
    "Severe = os.listdir('D:\\kaggle\\input\\diabetic-retinopathy-dataset\\Severe DR')"
   ]
  },
  {
   "cell_type": "code",
   "execution_count": 3,
   "id": "c8f2a534",
   "metadata": {},
   "outputs": [
    {
     "name": "stdout",
     "output_type": "stream",
     "text": [
      "(108, 225, 225, 3) (108,)\n"
     ]
    }
   ],
   "source": [
    "img_w, img_h = 225, 225 #setting the image width and height for easy processing\n",
    "X = []\n",
    "y = []\n",
    "\n",
    "for i in Healthy:\n",
    "    try:\n",
    "        img = Image.open(\"D:\\\\kaggle\\\\input\\\\diabetic-retinopathy-dataset\\\\Healthy\\\\\" + i).convert('RGB')\n",
    "        img = img.resize((img_w,img_h))\n",
    "        X.append(np.asarray(img))\n",
    "        y.append(0)\n",
    "    except UnidentifiedImageError: # it passes an image that wasn't correctly identified\n",
    "        pass\n",
    "    \n",
    "for i in Mild:\n",
    "    try:\n",
    "        img = Image.open(\"D:\\\\kaggle\\\\input\\\\diabetic-retinopathy-dataset\\\\Mild DR\\\\\" + i).convert('RGB')\n",
    "        img = img.resize((img_w,img_h))\n",
    "        X.append(np.asarray(img))\n",
    "        y.append(1)\n",
    "    except UnidentifiedImageError:\n",
    "        pass\n",
    "    \n",
    "for i in Moderate:\n",
    "    try:\n",
    "        img = Image.open(\"D:\\\\kaggle\\\\input\\\\diabetic-retinopathy-dataset\\\\Moderate DR\\\\\" + i).convert('RGB')\n",
    "        img = img.resize((img_w,img_h))\n",
    "        X.append(np.asarray(img))\n",
    "        y.append(1)\n",
    "    except UnidentifiedImageError:\n",
    "        pass\n",
    "    \n",
    "for i in Proliferate:\n",
    "    try:\n",
    "        img = Image.open(\"D:\\\\kaggle\\\\input\\\\diabetic-retinopathy-dataset\\\\Proliferate DR\\\\\" + i).convert('RGB')\n",
    "        img = img.resize((img_w,img_h))\n",
    "        X.append(np.asarray(img))\n",
    "        y.append(2)\n",
    "    except UnidentifiedImageError:\n",
    "        pass\n",
    "    \n",
    "for i in Severe:\n",
    "    try:\n",
    "        img = Image.open(\"D:\\\\kaggle\\\\input\\\\diabetic-retinopathy-dataset\\\\Severe DR\\\\\" + i).convert('RGB')\n",
    "        img = img.resize((img_w,img_h))\n",
    "        X.append(np.asarray(img))\n",
    "        y.append(2)\n",
    "    except UnidentifiedImageError:\n",
    "        pass\n",
    "    \n",
    "X = np.asarray(X)\n",
    "y = np.asarray(y)\n",
    "print(X.shape, y.shape)\n",
    "\n",
    "# I resized each image to our manually defined width and height(img_w, img_h)\n",
    "# I also changed the images to an array\n",
    "\n"
   ]
  },
  {
   "cell_type": "code",
   "execution_count": 4,
   "id": "8d2a9e80",
   "metadata": {},
   "outputs": [
    {
     "name": "stdout",
     "output_type": "stream",
     "text": [
      "[1. 0. 0.]\n"
     ]
    }
   ],
   "source": [
    "x = X.astype('float32')\n",
    "x /= 255\n",
    "\n",
    "#scaler = MinMaxScaler()\n",
    "#x = scaler.fit_transform(x)\n",
    "\n",
    "\n",
    "\n",
    "num_classes = 3\n",
    "\n",
    "labels = keras.utils.to_categorical(y, num_classes)\n",
    "print(labels[0])"
   ]
  },
  {
   "cell_type": "code",
   "execution_count": 5,
   "id": "f44c2eee",
   "metadata": {},
   "outputs": [
    {
     "name": "stdout",
     "output_type": "stream",
     "text": [
      "Number of train: 52\n",
      "Number of validation: 23\n",
      "Number of test: 33\n"
     ]
    }
   ],
   "source": [
    "# splitting our dataset into train and test\n",
    "x_train1, x_test, y_train1, y_test = train_test_split(x, labels, test_size = 0.3, random_state=5)\n",
    "x_train,x_val,y_train,y_val=train_test_split(x_train1,y_train1,test_size=0.3,random_state=5)\n",
    "\n",
    "print('Number of train: {}'.format(len(x_train)))\n",
    "print('Number of validation: {}'.format(len(x_val)))\n",
    "print('Number of test: {}'.format(len(x_test)))"
   ]
  },
  {
   "cell_type": "code",
   "execution_count": 21,
   "id": "09c54ba0",
   "metadata": {},
   "outputs": [],
   "source": []
  },
  {
   "cell_type": "code",
   "execution_count": 6,
   "id": "8efed8ee",
   "metadata": {},
   "outputs": [],
   "source": [
    "# An image data generator is a tool provided by keras to easily perform data augmentation on images\n",
    "# Data augmentation simply takes an image for instance and adds different ways the image can be presented\n",
    "# for example like rotating the image, flipping the image, changing the scale e.t.c\n",
    "# when training the images, data augmentation is done in real time while the image is undergoing training\n",
    "# which makes it very remarkable and awesome to use\n",
    "datagen = ImageDataGenerator(\n",
    "    featurewise_center=False,\n",
    "    samplewise_center=False,\n",
    "    featurewise_std_normalization=False,\n",
    "    samplewise_std_normalization=False,\n",
    "    zca_whitening=False,\n",
    "    rotation_range=20.,\n",
    "    width_shift_range=0.5,\n",
    "    height_shift_range=0.5,\n",
    "    shear_range=30.,\n",
    "    zoom_range=0.,\n",
    "    channel_shift_range=0.,\n",
    "    fill_mode='nearest',\n",
    "    cval=0.,\n",
    "    horizontal_flip=0.2,\n",
    "    vertical_flip=0.2,\n",
    "    rescale=None)\n",
    "\n",
    "datagen.fit(x_train)\n",
    "\n"
   ]
  },
  {
   "cell_type": "code",
   "execution_count": 7,
   "id": "31da0085",
   "metadata": {},
   "outputs": [],
   "source": [
    "base_model = tf.keras.applications.InceptionV3(input_shape=(225,225,3),include_top=False,weights=\"imagenet\")"
   ]
  },
  {
   "cell_type": "code",
   "execution_count": 8,
   "id": "621b7ab4",
   "metadata": {},
   "outputs": [],
   "source": [
    "for layer in base_model.layers[:-10]:\n",
    "    layer.trainable=False"
   ]
  },
  {
   "cell_type": "code",
   "execution_count": 9,
   "id": "3aa4dcfe",
   "metadata": {},
   "outputs": [
    {
     "name": "stdout",
     "output_type": "stream",
     "text": [
      "Model: \"sequential\"\n",
      "_________________________________________________________________\n",
      "Layer (type)                 Output Shape              Param #   \n",
      "=================================================================\n",
      "inception_v3 (Functional)    (None, 5, 5, 2048)        21802784  \n",
      "_________________________________________________________________\n",
      "dropout (Dropout)            (None, 5, 5, 2048)        0         \n",
      "_________________________________________________________________\n",
      "flatten (Flatten)            (None, 51200)             0         \n",
      "_________________________________________________________________\n",
      "dense (Dense)                (None, 128)               6553728   \n",
      "_________________________________________________________________\n",
      "dense_1 (Dense)              (None, 128)               16512     \n",
      "_________________________________________________________________\n",
      "dense_2 (Dense)              (None, 3)                 387       \n",
      "=================================================================\n",
      "Total params: 28,373,411\n",
      "Trainable params: 6,570,819\n",
      "Non-trainable params: 21,802,592\n",
      "_________________________________________________________________\n"
     ]
    }
   ],
   "source": [
    "# My neural network consists of 3 layers densely connected\n",
    "# dropout helps prevent over fitting of the model when testing it\n",
    "model_ann=Sequential()\n",
    "model_ann.add(base_model)\n",
    "model_ann.add(Dropout(0.2))\n",
    "model_ann.add(Flatten())\n",
    "model_ann.add(Dense(128, activation='relu'))\n",
    "model_ann.add(Dense(128, activation='relu'))\n",
    "model_ann.add(Dense(3, activation='softmax'))\n",
    "model_ann.summary() # printing out the summary of the model for better understanding for you"
   ]
  },
  {
   "cell_type": "code",
   "execution_count": 23,
   "id": "bf71d9ba",
   "metadata": {},
   "outputs": [],
   "source": [
    "\n",
    "#plot_model(model, to_file='convnet.png', show_shapes=True,show_layer_names=True)\n",
    "#Image(filename='convnet.png')"
   ]
  },
  {
   "cell_type": "code",
   "execution_count": 10,
   "id": "df5c7f71",
   "metadata": {},
   "outputs": [],
   "source": [
    "# here i am defining my performance metrics to check the performance of the model\n",
    "def f1_score(y_true, y_pred):\n",
    "    true_positives = K.sum(K.round(K.clip(y_true * y_pred, 0, 1)))\n",
    "    possible_positives = K.sum(K.round(K.clip(y_true, 0, 1)))\n",
    "    predicted_positives = K.sum(K.round(K.clip(y_pred, 0, 1)))\n",
    "    precision = true_positives / (predicted_positives + K.epsilon())\n",
    "    recall = true_positives / (possible_positives + K.epsilon())\n",
    "    f1_val = 3*(precision*recall)/(precision+recall+K.epsilon())\n",
    "    return f1_val\n",
    "\n",
    "METRICS = [\n",
    "      tf.keras.metrics.CategoricalAccuracy(name='accuracy'),\n",
    "      tf.keras.metrics.Precision(name='precision'),\n",
    "      tf.keras.metrics.Recall(name='recall'),  \n",
    "      tf.keras.metrics.AUC(name='auc'),\n",
    "        f1_score,\n",
    "]"
   ]
  },
  {
   "cell_type": "code",
   "execution_count": 11,
   "id": "93967f95",
   "metadata": {},
   "outputs": [],
   "source": [
    "lrd = ReduceLROnPlateau(monitor = 'recall',patience = 30,verbose = 1,factor = 0.70, min_lr = 1e-5)\n",
    "# the above line of code reduces the learning rate when there is no improvement to the metric\n",
    "# i added this line of code because i trained the model without it and the performance was stagnant\n",
    "# the performance was stuck on 0.96nnn as the accuracy so i added the line of code to reduce\n",
    "# the learing rate after two epochs\n",
    "mcp = ModelCheckpoint('model.h5')\n",
    "es = EarlyStopping(verbose=1, patience=40)\n",
    "\n",
    "model_ann.compile(optimizer='Adam', loss = tf.keras.losses.CategoricalCrossentropy(),metrics=METRICS)"
   ]
  },
  {
   "cell_type": "code",
   "execution_count": 12,
   "id": "889d6071",
   "metadata": {},
   "outputs": [
    {
     "name": "stdout",
     "output_type": "stream",
     "text": [
      "Wall time: 0 ns\n",
      "Epoch 1/20\n",
      "3/3 [==============================] - 121s 24s/step - loss: 9.2899 - accuracy: 0.3867 - precision: 0.3860 - recall: 0.2933 - auc: 0.5442 - f1_score: 0.5357 - val_loss: 6.1741 - val_accuracy: 0.4348 - val_precision: 0.4348 - val_recall: 0.4348 - val_auc: 0.6432 - val_f1_score: 0.6522\n",
      "Epoch 2/20\n",
      "3/3 [==============================] - 37s 12s/step - loss: 2.4530 - accuracy: 0.6667 - precision: 0.6667 - recall: 0.6667 - auc: 0.8336 - f1_score: 0.9901 - val_loss: 3.6162 - val_accuracy: 0.6087 - val_precision: 0.6087 - val_recall: 0.6087 - val_auc: 0.7391 - val_f1_score: 0.9130\n",
      "Epoch 3/20\n",
      "3/3 [==============================] - 36s 12s/step - loss: 2.8490 - accuracy: 0.6667 - precision: 0.6667 - recall: 0.6667 - auc: 0.8060 - f1_score: 1.0199 - val_loss: 1.3092 - val_accuracy: 0.8696 - val_precision: 0.8696 - val_recall: 0.8696 - val_auc: 0.9367 - val_f1_score: 1.3043\n",
      "Epoch 4/20\n",
      "3/3 [==============================] - 36s 12s/step - loss: 0.8975 - accuracy: 0.9067 - precision: 0.9067 - recall: 0.9067 - auc: 0.9395 - f1_score: 1.3906 - val_loss: 0.1418 - val_accuracy: 0.9565 - val_precision: 0.9565 - val_recall: 0.9565 - val_auc: 0.9972 - val_f1_score: 1.4348\n",
      "Epoch 5/20\n",
      "3/3 [==============================] - 36s 12s/step - loss: 0.4258 - accuracy: 0.9467 - precision: 0.9467 - recall: 0.9467 - auc: 0.9769 - f1_score: 1.4375 - val_loss: 0.0853 - val_accuracy: 0.9565 - val_precision: 0.9565 - val_recall: 0.9565 - val_auc: 0.9972 - val_f1_score: 1.4348\n",
      "Epoch 6/20\n",
      "3/3 [==============================] - 35s 12s/step - loss: 0.6038 - accuracy: 0.8933 - precision: 0.8933 - recall: 0.8933 - auc: 0.9625 - f1_score: 1.3750 - val_loss: 0.0034 - val_accuracy: 1.0000 - val_precision: 1.0000 - val_recall: 1.0000 - val_auc: 1.0000 - val_f1_score: 1.5000\n",
      "Epoch 7/20\n",
      "3/3 [==============================] - 36s 12s/step - loss: 0.1299 - accuracy: 0.9867 - precision: 0.9867 - recall: 0.9867 - auc: 0.9896 - f1_score: 1.4844 - val_loss: 0.0035 - val_accuracy: 1.0000 - val_precision: 1.0000 - val_recall: 1.0000 - val_auc: 1.0000 - val_f1_score: 1.5000\n",
      "Epoch 8/20\n",
      "3/3 [==============================] - 35s 12s/step - loss: 0.0549 - accuracy: 0.9867 - precision: 0.9867 - recall: 0.9867 - auc: 0.9997 - f1_score: 1.4844 - val_loss: 0.0376 - val_accuracy: 1.0000 - val_precision: 1.0000 - val_recall: 1.0000 - val_auc: 1.0000 - val_f1_score: 1.5000\n",
      "Epoch 9/20\n",
      "3/3 [==============================] - 35s 12s/step - loss: 0.0502 - accuracy: 0.9733 - precision: 0.9865 - recall: 0.9733 - auc: 0.9994 - f1_score: 1.4286 - val_loss: 0.0201 - val_accuracy: 1.0000 - val_precision: 1.0000 - val_recall: 1.0000 - val_auc: 1.0000 - val_f1_score: 1.5000\n",
      "Epoch 10/20\n",
      "3/3 [==============================] - 36s 12s/step - loss: 0.0391 - accuracy: 0.9733 - precision: 0.9733 - recall: 0.9733 - auc: 0.9996 - f1_score: 1.4389 - val_loss: 0.0015 - val_accuracy: 1.0000 - val_precision: 1.0000 - val_recall: 1.0000 - val_auc: 1.0000 - val_f1_score: 1.5000\n",
      "Epoch 11/20\n",
      "3/3 [==============================] - 36s 12s/step - loss: 8.9457e-04 - accuracy: 1.0000 - precision: 1.0000 - recall: 1.0000 - auc: 1.0000 - f1_score: 1.5000 - val_loss: 1.9476e-05 - val_accuracy: 1.0000 - val_precision: 1.0000 - val_recall: 1.0000 - val_auc: 1.0000 - val_f1_score: 1.5000\n",
      "Epoch 12/20\n",
      "3/3 [==============================] - 35s 12s/step - loss: 4.8476e-05 - accuracy: 1.0000 - precision: 1.0000 - recall: 1.0000 - auc: 1.0000 - f1_score: 1.5000 - val_loss: 1.7765e-04 - val_accuracy: 1.0000 - val_precision: 1.0000 - val_recall: 1.0000 - val_auc: 1.0000 - val_f1_score: 1.5000\n",
      "Epoch 13/20\n",
      "3/3 [==============================] - 36s 12s/step - loss: 1.3804e-04 - accuracy: 1.0000 - precision: 1.0000 - recall: 1.0000 - auc: 1.0000 - f1_score: 1.5000 - val_loss: 0.0014 - val_accuracy: 1.0000 - val_precision: 1.0000 - val_recall: 1.0000 - val_auc: 1.0000 - val_f1_score: 1.5000\n",
      "Epoch 14/20\n",
      "3/3 [==============================] - 36s 12s/step - loss: 4.2015e-04 - accuracy: 1.0000 - precision: 1.0000 - recall: 1.0000 - auc: 1.0000 - f1_score: 1.5000 - val_loss: 0.0059 - val_accuracy: 1.0000 - val_precision: 1.0000 - val_recall: 1.0000 - val_auc: 1.0000 - val_f1_score: 1.5000\n",
      "Epoch 15/20\n",
      "3/3 [==============================] - 36s 12s/step - loss: 0.0018 - accuracy: 1.0000 - precision: 1.0000 - recall: 1.0000 - auc: 1.0000 - f1_score: 1.5000 - val_loss: 0.0097 - val_accuracy: 1.0000 - val_precision: 1.0000 - val_recall: 1.0000 - val_auc: 1.0000 - val_f1_score: 1.5000\n",
      "Epoch 16/20\n",
      "3/3 [==============================] - 35s 12s/step - loss: 0.0019 - accuracy: 1.0000 - precision: 1.0000 - recall: 1.0000 - auc: 1.0000 - f1_score: 1.5000 - val_loss: 0.0046 - val_accuracy: 1.0000 - val_precision: 1.0000 - val_recall: 1.0000 - val_auc: 1.0000 - val_f1_score: 1.5000\n",
      "Epoch 17/20\n",
      "3/3 [==============================] - 36s 12s/step - loss: 9.2586e-04 - accuracy: 1.0000 - precision: 1.0000 - recall: 1.0000 - auc: 1.0000 - f1_score: 1.5000 - val_loss: 0.0013 - val_accuracy: 1.0000 - val_precision: 1.0000 - val_recall: 1.0000 - val_auc: 1.0000 - val_f1_score: 1.5000\n",
      "Epoch 18/20\n",
      "3/3 [==============================] - 35s 12s/step - loss: 8.9030e-04 - accuracy: 1.0000 - precision: 1.0000 - recall: 1.0000 - auc: 1.0000 - f1_score: 1.5000 - val_loss: 5.3544e-04 - val_accuracy: 1.0000 - val_precision: 1.0000 - val_recall: 1.0000 - val_auc: 1.0000 - val_f1_score: 1.5000\n",
      "Epoch 19/20\n",
      "3/3 [==============================] - 35s 12s/step - loss: 6.5742e-04 - accuracy: 1.0000 - precision: 1.0000 - recall: 1.0000 - auc: 1.0000 - f1_score: 1.5000 - val_loss: 2.9471e-04 - val_accuracy: 1.0000 - val_precision: 1.0000 - val_recall: 1.0000 - val_auc: 1.0000 - val_f1_score: 1.5000\n",
      "Epoch 20/20\n",
      "3/3 [==============================] - 35s 12s/step - loss: 7.4627e-04 - accuracy: 1.0000 - precision: 1.0000 - recall: 1.0000 - auc: 1.0000 - f1_score: 1.5000 - val_loss: 1.9660e-04 - val_accuracy: 1.0000 - val_precision: 1.0000 - val_recall: 1.0000 - val_auc: 1.0000 - val_f1_score: 1.5000\n"
     ]
    }
   ],
   "source": [
    "# this is where i fit and trained my model\n",
    "%time\n",
    "history=model_ann.fit(x_train1,y_train1,validation_data=(x_val,y_val),epochs = 20,verbose = 1,callbacks=[lrd,mcp,es])"
   ]
  },
  {
   "cell_type": "code",
   "execution_count": 13,
   "id": "59829d19",
   "metadata": {},
   "outputs": [
    {
     "data": {
      "image/png": "[encoded data removed]",
      "text/plain": [
       "<Figure size 1080x720 with 2 Axes>"
      ]
     },
     "metadata": {
      "needs_background": "light"
     },
     "output_type": "display_data"
    }
   ],
   "source": [
    "acc = history.history['recall']\n",
    "val_acc = history.history['val_recall']\n",
    "loss = history.history['loss']\n",
    "val_loss = history.history['val_loss']\n",
    "epochs_range = range(len(history.history['val_loss']))\n",
    "plt.figure(figsize=(15, 10))\n",
    "plt.subplot(1, 2, 1)\n",
    "plt.scatter(epochs_range, acc, label='Training Recall')\n",
    "plt.scatter(epochs_range, val_acc, label='Validation Recall')\n",
    "plt.legend(loc='lower right')\n",
    "plt.title('Training and Validation Recall')\n",
    "plt.subplot(1, 2, 2)\n",
    "plt.scatter(epochs_range, loss, label='Training Loss')\n",
    "plt.scatter(epochs_range, val_loss, label='Validation Loss')\n",
    "plt.legend(loc='upper right')\n",
    "plt.title('Training and Validation Loss')\n",
    "plt.show()"
   ]
  },
  {
   "cell_type": "code",
   "execution_count": 17,
   "id": "e6bac5b6",
   "metadata": {},
   "outputs": [
    {
     "ename": "NameError",
     "evalue": "name 'model' is not defined",
     "output_type": "error",
     "traceback": [
      "\u001b[1;31m---------------------------------------------------------------------------\u001b[0m",
      "\u001b[1;31mNameError\u001b[0m                                 Traceback (most recent call last)",
      "\u001b[1;32m<ipython-input-17-70823e6480cd>\u001b[0m in \u001b[0;36m<module>\u001b[1;34m\u001b[0m\n\u001b[1;32m----> 1\u001b[1;33m \u001b[0my_pred\u001b[0m \u001b[1;33m=\u001b[0m \u001b[0mmodel\u001b[0m\u001b[1;33m.\u001b[0m\u001b[0mpredict\u001b[0m\u001b[1;33m(\u001b[0m\u001b[0mx_test\u001b[0m\u001b[1;33m)\u001b[0m\u001b[1;33m\u001b[0m\u001b[1;33m\u001b[0m\u001b[0m\n\u001b[0m\u001b[0;32m      2\u001b[0m \u001b[1;32mdef\u001b[0m \u001b[0mplot_roc_curve\u001b[0m\u001b[1;33m(\u001b[0m\u001b[0mytest\u001b[0m\u001b[1;33m,\u001b[0m \u001b[0mypred\u001b[0m\u001b[1;33m)\u001b[0m\u001b[1;33m:\u001b[0m\u001b[1;33m\u001b[0m\u001b[1;33m\u001b[0m\u001b[0m\n\u001b[0;32m      3\u001b[0m     \u001b[0mnum_classes\u001b[0m \u001b[1;33m=\u001b[0m \u001b[0mlen\u001b[0m\u001b[1;33m(\u001b[0m\u001b[0mnp\u001b[0m\u001b[1;33m.\u001b[0m\u001b[0munique\u001b[0m\u001b[1;33m(\u001b[0m\u001b[0mytest\u001b[0m\u001b[1;33m)\u001b[0m\u001b[1;33m)\u001b[0m\u001b[1;33m\u001b[0m\u001b[1;33m\u001b[0m\u001b[0m\n\u001b[0;32m      4\u001b[0m     \u001b[0mytest\u001b[0m \u001b[1;33m=\u001b[0m \u001b[0mlabel_binarize\u001b[0m\u001b[1;33m(\u001b[0m\u001b[0mytest\u001b[0m\u001b[1;33m,\u001b[0m \u001b[0mclasses\u001b[0m\u001b[1;33m=\u001b[0m\u001b[0mnp\u001b[0m\u001b[1;33m.\u001b[0m\u001b[0masarray\u001b[0m\u001b[1;33m(\u001b[0m\u001b[0mnum_classes\u001b[0m\u001b[1;33m)\u001b[0m\u001b[1;33m)\u001b[0m\u001b[1;33m\u001b[0m\u001b[1;33m\u001b[0m\u001b[0m\n\u001b[0;32m      5\u001b[0m     \u001b[0mypred\u001b[0m \u001b[1;33m=\u001b[0m \u001b[0mlabel_binarize\u001b[0m\u001b[1;33m(\u001b[0m\u001b[0mypred\u001b[0m\u001b[1;33m,\u001b[0m \u001b[0mclasses\u001b[0m\u001b[1;33m=\u001b[0m\u001b[0mnp\u001b[0m\u001b[1;33m.\u001b[0m\u001b[0masarray\u001b[0m\u001b[1;33m(\u001b[0m\u001b[0mnum_classes\u001b[0m\u001b[1;33m)\u001b[0m\u001b[1;33m)\u001b[0m\u001b[1;33m\u001b[0m\u001b[1;33m\u001b[0m\u001b[0m\n",
      "\u001b[1;31mNameError\u001b[0m: name 'model' is not defined"
     ]
    }
   ],
   "source": [
    "y_pred = model.predict(x_test)\n",
    "def plot_roc_curve(ytest, ypred):\n",
    "    num_classes = len(np.unique(ytest))\n",
    "    ytest = label_binarize(ytest, classes=np.asarray(num_classes))\n",
    "    ypred = label_binarize(ypred, classes=np.asarray(num_classes))\n",
    "\n",
    "  # Compute ROC curve and ROC area for each class\n",
    "    fpr = dict()\n",
    "    tpr = dict()\n",
    "    roc_auc = dict()\n",
    "    for i in range(num_classes):\n",
    "        fpr[i], tpr[i], _ = roc_curve(ytest[:, i], ypred[:, i])\n",
    "        roc_auc[i] = auc(fpr[i], tpr[i])\n",
    "    fpr[\"micro\"], tpr[\"micro\"], _ = roc_curve(y_test.ravel(), y_pred.ravel())\n",
    "    roc_auc[\"micro\"] = auc(fpr[\"micro\"], tpr[\"micro\"])\n",
    "\n",
    "  # First aggregate all false positive rates\n",
    "    all_fpr = np.unique(np.concatenate([fpr[i] for i in range(num_classes)]))\n",
    "\n",
    "  # Then interpolate all ROC curves at this points\n",
    "    mean_tpr = np.zeros_like(all_fpr)\n",
    "    for i in range(num_classes):\n",
    "        mean_tpr += np.interp(all_fpr, fpr[i], tpr[i])\n",
    "\n",
    "  # Finally average it and compute AUC\n",
    "    mean_tpr /= num_classes\n",
    "\n",
    "    fpr[\"macro\"] = all_fpr\n",
    "    tpr[\"macro\"] = mean_tpr\n",
    "    roc_auc[\"macro\"] = auc(fpr[\"macro\"], tpr[\"macro\"])\n",
    "\n",
    "  # Plot all ROC curves\n",
    "  #plt.figure(figsize=(10,5))\n",
    "    plt.figure(dpi=600)\n",
    "    lw = 2\n",
    "    plt.plot(fpr[\"micro\"], tpr[\"micro\"],\n",
    "    label=\"micro-average ROC curve (area = {0:0.2f})\".format(roc_auc[\"micro\"]),\n",
    "    color=\"deeppink\", linestyle=\":\", linewidth=4,)\n",
    "\n",
    "    plt.plot(fpr[\"macro\"], tpr[\"macro\"],\n",
    "    label=\"macro-average ROC curve (area = {0:0.2f})\".format(roc_auc[\"macro\"]),\n",
    "    color=\"navy\", linestyle=\":\", linewidth=4,)\n",
    "\n",
    "    colors = cycle([\"aqua\", \"darkorange\", \"darkgreen\", \"yellow\", \"blue\"])\n",
    "    for i, color in zip(range(num_classes), colors):\n",
    "        plt.plot(fpr[i], tpr[i], color=color, lw=lw,\n",
    "        label=\"ROC curve of class {0} (area = {1:0.2f})\".format(i, roc_auc[i]),)\n",
    "\n",
    "    plt.plot([0, 1], [0, 1], \"k--\", lw=lw)\n",
    "    plt.xlim([0.0, 1.0])\n",
    "    plt.ylim([0.0, 1.05])\n",
    "    plt.xlabel(\"False Positive Rate\")\n",
    "    plt.ylabel(\"True Positive Rate\")\n",
    "    plt.title(\"Receiver Operating Characteristic (ROC) curve\")\n",
    "    plt.legend()"
   ]
  },
  {
   "cell_type": "code",
   "execution_count": 14,
   "id": "810fde4e",
   "metadata": {},
   "outputs": [
    {
     "name": "stdout",
     "output_type": "stream",
     "text": [
      "Confusion Matrix\n",
      "Classification Report\n",
      "              precision    recall  f1-score   support\n",
      "\n",
      "      Healty       0.92      0.79      0.85        14\n",
      "     caution       0.78      0.82      0.80        17\n",
      "      severe       0.33      0.50      0.40         2\n",
      "\n",
      "    accuracy                           0.79        33\n",
      "   macro avg       0.68      0.70      0.68        33\n",
      "weighted avg       0.81      0.79      0.80        33\n",
      "\n"
     ]
    },
    {
     "data": {
      "image/png": "[encoded data removed]",
      "text/plain": [
       "<Figure size 720x720 with 2 Axes>"
      ]
     },
     "metadata": {
      "needs_background": "light"
     },
     "output_type": "display_data"
    }
   ],
   "source": [
    "# here i want to define and plot my confusion matrix\n",
    "# and also my classification report\n",
    "def plot_confusion_matrix(cm, classes, normalize=True, title='Confusion matrix', cmap=plt.cm.Blues):\n",
    "    \n",
    "    plt.figure(figsize=(10,10))\n",
    "    plt.imshow(cm, interpolation='nearest', cmap=cmap)\n",
    "    plt.title(title)\n",
    "    plt.colorbar()\n",
    "    tick_marks = np.arange(len(classes))\n",
    "    plt.xticks(tick_marks, classes, rotation=45)\n",
    "    plt.yticks(tick_marks, classes)\n",
    "    if normalize:\n",
    "        cm = cm.astype('float') / cm.sum(axis=1)[:, np.newaxis]\n",
    "        cm = np.around(cm, decimals=2)\n",
    "        cm[np.isnan(cm)] = 0.0\n",
    "    thresh = cm.max() / 2.\n",
    "    for i, j in itertools.product(range(cm.shape[0]), range(cm.shape[1])):\n",
    "        plt.text(j, i, cm[i, j],\n",
    "                 horizontalalignment=\"center\",\n",
    "                 color=\"white\" if cm[i, j] > thresh else \"black\")\n",
    "    plt.tight_layout()\n",
    "    plt.ylabel('True label')\n",
    "    plt.xlabel('Predicted label')\n",
    "    \n",
    "    \n",
    "y_pred = (model_ann.predict(x_test) > 0.5).astype(\"int32\")\n",
    "\n",
    "y_test_c = np.argmax(y_test, axis=1)\n",
    "target_names = [\"Healty\", \"caution\", \"severe\"]\n",
    "\n",
    "Y_pred = np.argmax(model_ann.predict(x_test),axis=1)\n",
    "print('Confusion Matrix')\n",
    "cm = confusion_matrix(y_test_c, Y_pred)\n",
    "plot_confusion_matrix(cm, target_names, normalize=False, title='Confusion Matrix')\n",
    "\n",
    "print('Classification Report')\n",
    "print(classification_report(y_test_c, Y_pred, target_names=target_names))\n",
    "\n",
    "\n",
    "#=====================important note==============================#\n",
    "# this model i created basically classifies different cases into 3 and they are\n",
    "# healthy(meaning the eye is healthy and free from any retinopathy)\n",
    "# caution(meaning the eye has some detected disfunctionalities and immediate treatemet has to commence\n",
    "# before it worsens)\n",
    "# and severe(meaning that the eye is under serious attack from by retinopathy and in severe condition)\n",
    "# so its either the eye is healthy severe or needs to be treated with caution"
   ]
  },
  {
   "cell_type": "code",
   "execution_count": 15,
   "id": "c57a0700",
   "metadata": {},
   "outputs": [
    {
     "name": "stdout",
     "output_type": "stream",
     "text": [
      "Model: \"sequential_1\"\n",
      "_________________________________________________________________\n",
      "Layer (type)                 Output Shape              Param #   \n",
      "=================================================================\n",
      "conv2d_94 (Conv2D)           (None, 224, 224, 32)      416       \n",
      "_________________________________________________________________\n",
      "max_pooling2d_4 (MaxPooling2 (None, 112, 112, 32)      0         \n",
      "_________________________________________________________________\n",
      "conv2d_95 (Conv2D)           (None, 111, 111, 64)      8256      \n",
      "_________________________________________________________________\n",
      "max_pooling2d_5 (MaxPooling2 (None, 55, 55, 64)        0         \n",
      "_________________________________________________________________\n",
      "flatten_1 (Flatten)          (None, 193600)            0         \n",
      "_________________________________________________________________\n",
      "dense_3 (Dense)              (None, 128)               24780928  \n",
      "_________________________________________________________________\n",
      "dense_4 (Dense)              (None, 3)                 387       \n",
      "=================================================================\n",
      "Total params: 24,789,987\n",
      "Trainable params: 24,789,987\n",
      "Non-trainable params: 0\n",
      "_________________________________________________________________\n"
     ]
    }
   ],
   "source": [
    "model_cnn = Sequential()\n",
    "#model_cnn.add = (base_model)\n",
    "model_cnn.add(Conv2D(filters = 32, kernel_size = 2, activation = 'relu', input_shape=(225, 225, 3)))\n",
    "model_cnn.add(MaxPooling2D((2, 2)))\n",
    "model_cnn.add(Conv2D(filters = 64, kernel_size = 2, activation = 'relu'))\n",
    "model_cnn.add(MaxPooling2D((2, 2)))\n",
    "model_cnn.add(Flatten())\n",
    "model_cnn.add(Dense(128, activation = 'relu'))\n",
    "model_cnn.add(Dense(3, activation = 'softmax'))\n",
    "model_cnn.summary()"
   ]
  },
  {
   "cell_type": "code",
   "execution_count": 16,
   "id": "a12a084b",
   "metadata": {},
   "outputs": [],
   "source": [
    "model_cnn.compile(optimizer='Adam', loss = tf.keras.losses.CategoricalCrossentropy(),metrics=METRICS)"
   ]
  },
  {
   "cell_type": "code",
   "execution_count": 17,
   "id": "585fd32a",
   "metadata": {},
   "outputs": [
    {
     "name": "stdout",
     "output_type": "stream",
     "text": [
      "Wall time: 0 ns\n",
      "Epoch 1/20\n",
      "2/2 [==============================] - 32s 13s/step - loss: 6.4204 - accuracy: 0.6133 - precision: 0.7209 - recall: 0.4133 - auc: 0.7700 - f1_score: 0.3000 - val_loss: 51.7859 - val_accuracy: 0.3913 - val_precision: 0.3913 - val_recall: 0.3913 - val_auc: 0.5435 - val_f1_score: 0.5870\n",
      "Epoch 2/20\n",
      "2/2 [==============================] - 8s 4s/step - loss: 40.5718 - accuracy: 0.4423 - precision: 0.4423 - recall: 0.4423 - auc: 0.5817 - f1_score: 0.6656 - val_loss: 20.1442 - val_accuracy: 0.3913 - val_precision: 0.3913 - val_recall: 0.3913 - val_auc: 0.5435 - val_f1_score: 0.5870\n",
      "Epoch 3/20\n",
      "2/2 [==============================] - 8s 4s/step - loss: 12.3905 - accuracy: 0.4038 - precision: 0.4038 - recall: 0.4038 - auc: 0.5790 - f1_score: 0.5906 - val_loss: 9.7131 - val_accuracy: 0.3913 - val_precision: 0.3913 - val_recall: 0.3913 - val_auc: 0.5435 - val_f1_score: 0.5870\n",
      "Epoch 4/20\n",
      "2/2 [==============================] - 9s 4s/step - loss: 7.6305 - accuracy: 0.4231 - precision: 0.4231 - recall: 0.4231 - auc: 0.5673 - f1_score: 0.6000 - val_loss: 1.3203 - val_accuracy: 0.4783 - val_precision: 0.5000 - val_recall: 0.4783 - val_auc: 0.7694 - val_f1_score: 0.7333\n",
      "Epoch 5/20\n",
      "2/2 [==============================] - 8s 4s/step - loss: 1.8288 - accuracy: 0.5769 - precision: 0.5882 - recall: 0.5769 - auc: 0.7227 - f1_score: 0.8375 - val_loss: 2.2041 - val_accuracy: 0.3913 - val_precision: 0.3913 - val_recall: 0.3913 - val_auc: 0.7013 - val_f1_score: 0.5870\n",
      "Epoch 6/20\n",
      "2/2 [==============================] - 8s 4s/step - loss: 1.5086 - accuracy: 0.4808 - precision: 0.4898 - recall: 0.4615 - auc: 0.7295 - f1_score: 0.7164 - val_loss: 0.7393 - val_accuracy: 0.7826 - val_precision: 0.9167 - val_recall: 0.4783 - val_auc: 0.8710 - val_f1_score: 0.9429\n",
      "Epoch 7/20\n",
      "2/2 [==============================] - 9s 4s/step - loss: 0.9324 - accuracy: 0.6154 - precision: 0.7429 - recall: 0.5000 - auc: 0.7967 - f1_score: 0.8854 - val_loss: 0.8224 - val_accuracy: 0.6087 - val_precision: 0.6471 - val_recall: 0.4783 - val_auc: 0.8100 - val_f1_score: 0.8250\n",
      "Epoch 8/20\n",
      "2/2 [==============================] - 9s 4s/step - loss: 0.7917 - accuracy: 0.7115 - precision: 0.7500 - recall: 0.6923 - auc: 0.8436 - f1_score: 1.0746 - val_loss: 0.5194 - val_accuracy: 0.7826 - val_precision: 0.9375 - val_recall: 0.6522 - val_auc: 0.9428 - val_f1_score: 1.1538\n",
      "Epoch 9/20\n",
      "2/2 [==============================] - 8s 4s/step - loss: 0.5964 - accuracy: 0.7308 - precision: 0.7949 - recall: 0.5962 - auc: 0.9012 - f1_score: 1.0270 - val_loss: 0.6948 - val_accuracy: 0.6957 - val_precision: 0.7619 - val_recall: 0.6957 - val_auc: 0.8672 - val_f1_score: 1.0909\n",
      "Epoch 10/20\n",
      "2/2 [==============================] - 8s 3s/step - loss: 0.5473 - accuracy: 0.8269 - precision: 0.8367 - recall: 0.7885 - auc: 0.9146 - f1_score: 1.2148 - val_loss: 0.7104 - val_accuracy: 0.7826 - val_precision: 0.7826 - val_recall: 0.7826 - val_auc: 0.9112 - val_f1_score: 1.1739\n",
      "Epoch 11/20\n",
      "2/2 [==============================] - 9s 4s/step - loss: 0.5420 - accuracy: 0.8269 - precision: 0.8269 - recall: 0.8269 - auc: 0.9165 - f1_score: 1.2187 - val_loss: 0.6479 - val_accuracy: 0.7826 - val_precision: 0.8000 - val_recall: 0.6957 - val_auc: 0.9130 - val_f1_score: 1.1163\n",
      "Epoch 12/20\n",
      "2/2 [==============================] - 9s 4s/step - loss: 0.4874 - accuracy: 0.8269 - precision: 0.8431 - recall: 0.8269 - auc: 0.9313 - f1_score: 1.2702 - val_loss: 0.6128 - val_accuracy: 0.6957 - val_precision: 0.7273 - val_recall: 0.6957 - val_auc: 0.9036 - val_f1_score: 1.0667\n",
      "Epoch 13/20\n",
      "2/2 [==============================] - 9s 4s/step - loss: 0.4520 - accuracy: 0.8269 - precision: 0.8600 - recall: 0.8269 - auc: 0.9491 - f1_score: 1.2729 - val_loss: 0.5253 - val_accuracy: 0.6957 - val_precision: 0.8421 - val_recall: 0.6957 - val_auc: 0.9291 - val_f1_score: 1.1429\n",
      "Epoch 14/20\n",
      "2/2 [==============================] - 8s 4s/step - loss: 0.4251 - accuracy: 0.8462 - precision: 0.8750 - recall: 0.8077 - auc: 0.9626 - f1_score: 1.2750 - val_loss: 0.4822 - val_accuracy: 0.7826 - val_precision: 0.8000 - val_recall: 0.6957 - val_auc: 0.9419 - val_f1_score: 1.1163\n",
      "Epoch 15/20\n",
      "2/2 [==============================] - 8s 4s/step - loss: 0.4192 - accuracy: 0.8269 - precision: 0.8400 - recall: 0.8077 - auc: 0.9638 - f1_score: 1.2198 - val_loss: 0.4757 - val_accuracy: 0.7826 - val_precision: 0.7826 - val_recall: 0.7826 - val_auc: 0.9414 - val_f1_score: 1.1739\n",
      "Epoch 16/20\n",
      "2/2 [==============================] - 9s 4s/step - loss: 0.4001 - accuracy: 0.8269 - precision: 0.8431 - recall: 0.8269 - auc: 0.9695 - f1_score: 1.2702 - val_loss: 0.4733 - val_accuracy: 0.7826 - val_precision: 0.8000 - val_recall: 0.6957 - val_auc: 0.9419 - val_f1_score: 1.1163\n",
      "Epoch 17/20\n",
      "2/2 [==============================] - 9s 4s/step - loss: 0.3787 - accuracy: 0.8269 - precision: 0.8400 - recall: 0.8077 - auc: 0.9752 - f1_score: 1.2491 - val_loss: 0.5136 - val_accuracy: 0.6957 - val_precision: 0.8000 - val_recall: 0.6957 - val_auc: 0.9305 - val_f1_score: 1.1163\n",
      "Epoch 18/20\n",
      "2/2 [==============================] - 8s 4s/step - loss: 0.3547 - accuracy: 0.8269 - precision: 0.8600 - recall: 0.8269 - auc: 0.9765 - f1_score: 1.2729 - val_loss: 0.5896 - val_accuracy: 0.6957 - val_precision: 0.6957 - val_recall: 0.6957 - val_auc: 0.9230 - val_f1_score: 1.0435\n",
      "Epoch 19/20\n",
      "2/2 [==============================] - 9s 4s/step - loss: 0.3763 - accuracy: 0.8269 - precision: 0.8269 - recall: 0.8269 - auc: 0.9702 - f1_score: 1.2187 - val_loss: 0.5906 - val_accuracy: 0.6957 - val_precision: 0.8000 - val_recall: 0.6957 - val_auc: 0.9286 - val_f1_score: 1.1163\n",
      "Epoch 20/20\n",
      "2/2 [==============================] - 9s 4s/step - loss: 0.3441 - accuracy: 0.8462 - precision: 0.8462 - recall: 0.8462 - auc: 0.9755 - f1_score: 1.2984 - val_loss: 0.4550 - val_accuracy: 0.7826 - val_precision: 0.8095 - val_recall: 0.7391 - val_auc: 0.9442 - val_f1_score: 1.1591\n"
     ]
    }
   ],
   "source": [
    "%time\n",
    "history1=model_cnn.fit(x_train,y_train,validation_data=(x_val,y_val),epochs = 20,verbose = 1,callbacks=[lrd,mcp,es])"
   ]
  },
  {
   "cell_type": "code",
   "execution_count": 18,
   "id": "f81a1c47",
   "metadata": {},
   "outputs": [
    {
     "data": {
      "image/png": "[encoded data removed]",
      "text/plain": [
       "<Figure size 1080x720 with 2 Axes>"
      ]
     },
     "metadata": {
      "needs_background": "light"
     },
     "output_type": "display_data"
    }
   ],
   "source": [
    "acc1 = history1.history['recall']\n",
    "val_acc1 = history1.history['val_recall']\n",
    "loss1 = history1.history['loss']\n",
    "val_loss1 = history1.history['val_loss']\n",
    "epochs_range1 = range(len(history1.history['val_loss']))\n",
    "plt.figure(figsize=(15, 10))\n",
    "plt.subplot(1, 2, 1)\n",
    "plt.scatter(epochs_range1, acc1, label='Training Recall')\n",
    "plt.scatter(epochs_range1, val_acc1, label='Validation Recall')\n",
    "plt.legend(loc='lower right')\n",
    "plt.title('Training and Validation Recall')\n",
    "plt.subplot(1, 2, 2)\n",
    "plt.scatter(epochs_range1, loss1, label='Training Loss')\n",
    "plt.scatter(epochs_range1, val_loss1, label='Validation Loss')\n",
    "plt.legend(loc='upper right')\n",
    "plt.title('Training and Validation Loss')\n",
    "plt.show()"
   ]
  },
  {
   "cell_type": "code",
   "execution_count": 19,
   "id": "59713f0b",
   "metadata": {},
   "outputs": [
    {
     "name": "stdout",
     "output_type": "stream",
     "text": [
      "Confusion Matrix\n",
      "Classification Report\n",
      "              precision    recall  f1-score   support\n",
      "\n",
      "      Healty       0.92      0.79      0.85        14\n",
      "     caution       0.76      0.94      0.84        17\n",
      "      severe       0.00      0.00      0.00         2\n",
      "\n",
      "    accuracy                           0.82        33\n",
      "   macro avg       0.56      0.58      0.56        33\n",
      "weighted avg       0.78      0.82      0.79        33\n",
      "\n"
     ]
    },
    {
     "data": {
      "image/png": "[encoded data removed]",
      "text/plain": [
       "<Figure size 720x720 with 2 Axes>"
      ]
     },
     "metadata": {
      "needs_background": "light"
     },
     "output_type": "display_data"
    }
   ],
   "source": [
    "def plot_confusion_matrix(cm, classes, normalize=True, title='Confusion matrix', cmap=plt.cm.Blues):\n",
    "    \n",
    "    plt.figure(figsize=(10,10))\n",
    "    plt.imshow(cm, interpolation='nearest', cmap=cmap)\n",
    "    plt.title(title)\n",
    "    plt.colorbar()\n",
    "    tick_marks = np.arange(len(classes))\n",
    "    plt.xticks(tick_marks, classes, rotation=45)\n",
    "    plt.yticks(tick_marks, classes)\n",
    "    if normalize:\n",
    "        cm = cm.astype('float') / cm.sum(axis=1)[:, np.newaxis]\n",
    "        cm = np.around(cm, decimals=2)\n",
    "        cm[np.isnan(cm)] = 0.0\n",
    "    thresh = cm.max() / 2.\n",
    "    for i, j in itertools.product(range(cm.shape[0]), range(cm.shape[1])):\n",
    "        plt.text(j, i, cm[i, j],\n",
    "                 horizontalalignment=\"center\",\n",
    "                 color=\"white\" if cm[i, j] > thresh else \"black\")\n",
    "    plt.tight_layout()\n",
    "    plt.ylabel('True label')\n",
    "    plt.xlabel('Predicted label')\n",
    "    \n",
    "    \n",
    "y_pred1 = (model_cnn.predict(x_test) > 0.5).astype(\"int32\")\n",
    "\n",
    "y_test_c1 = np.argmax(y_test, axis=1)\n",
    "target_names1 = [\"Healty\", \"caution\", \"severe\"]\n",
    "\n",
    "Y_pred1 = np.argmax(model_cnn.predict(x_test),axis=1)\n",
    "print('Confusion Matrix')\n",
    "cm = confusion_matrix(y_test_c1, Y_pred1)\n",
    "plot_confusion_matrix(cm, target_names1, normalize=False, title='Confusion Matrix')\n",
    "\n",
    "print('Classification Report')\n",
    "print(classification_report(y_test_c1, Y_pred1, target_names=target_names1))"
   ]
  },
  {
   "cell_type": "code",
   "execution_count": 34,
   "id": "a968bed9",
   "metadata": {},
   "outputs": [
    {
     "name": "stdout",
     "output_type": "stream",
     "text": [
      "Model: \"sequential_14\"\n",
      "_________________________________________________________________\n",
      "Layer (type)                 Output Shape              Param #   \n",
      "=================================================================\n",
      "simple_rnn_12 (SimpleRNN)    (None, 20)                480       \n",
      "_________________________________________________________________\n",
      "dense_8 (Dense)              (None, 128)               2688      \n",
      "_________________________________________________________________\n",
      "batch_normalization_105 (Bat (None, 128)               512       \n",
      "_________________________________________________________________\n",
      "dropout_3 (Dropout)          (None, 128)               0         \n",
      "_________________________________________________________________\n",
      "dense_9 (Dense)              (None, 128)               16512     \n",
      "_________________________________________________________________\n",
      "batch_normalization_106 (Bat (None, 128)               512       \n",
      "_________________________________________________________________\n",
      "dropout_4 (Dropout)          (None, 128)               0         \n",
      "_________________________________________________________________\n",
      "dense_10 (Dense)             (None, 3)                 387       \n",
      "=================================================================\n",
      "Total params: 21,091\n",
      "Trainable params: 20,579\n",
      "Non-trainable params: 512\n",
      "_________________________________________________________________\n"
     ]
    }
   ],
   "source": [
    "#Deep learning model\n",
    "model_rnn = keras.Sequential()\n",
    "#model_rnn.add(BatchNormalization(input_shape=(225,225,3)))\n",
    "model_rnn.add(SimpleRNN(20, input_shape=(225, 3)))\n",
    "model_rnn.add(Dense(128, activation='relu'))\n",
    "model_rnn.add(BatchNormalization())\n",
    "model_rnn.add(Dropout(0.3))\n",
    "model_rnn.add(Dense(128, activation='relu'))\n",
    "model_rnn.add(BatchNormalization())\n",
    "model_rnn.add(Dropout(0.3))\n",
    "model_rnn.add(Dense(3, activation='softmax'))\n",
    "model_rnn.summary()"
   ]
  },
  {
   "cell_type": "code",
   "execution_count": 12,
   "id": "561faf15",
   "metadata": {},
   "outputs": [
    {
     "name": "stdout",
     "output_type": "stream",
     "text": [
      "A local file was found, but it seems to be incomplete or outdated because the auto file hash does not match the original value of 4d473c1dd8becc155b73f8504c6f6626 so we will re-download the data.\n",
      "Downloading data from https://storage.googleapis.com/tensorflow/keras-applications/resnet/resnet50_weights_tf_dim_ordering_tf_kernels_notop.h5\n",
      "94773248/94765736 [==============================] - 246s 3us/step\n"
     ]
    }
   ],
   "source": [
    "TLA2 = tf.keras.applications.resnet50.ResNet50(input_shape=(225,225,3),include_top=False,weights=\"imagenet\")"
   ]
  },
  {
   "cell_type": "code",
   "execution_count": 13,
   "id": "13f6ab8e",
   "metadata": {},
   "outputs": [],
   "source": [
    "for layer in TLA2.layers[:-10]:\n",
    "    layer.trainable=False"
   ]
  },
  {
   "cell_type": "code",
   "execution_count": 14,
   "id": "b4b1bc30",
   "metadata": {},
   "outputs": [
    {
     "name": "stdout",
     "output_type": "stream",
     "text": [
      "Model: \"sequential_1\"\n",
      "_________________________________________________________________\n",
      "Layer (type)                 Output Shape              Param #   \n",
      "=================================================================\n",
      "resnet50 (Functional)        (None, 8, 8, 2048)        23587712  \n",
      "_________________________________________________________________\n",
      "dropout_1 (Dropout)          (None, 8, 8, 2048)        0         \n",
      "_________________________________________________________________\n",
      "flatten_1 (Flatten)          (None, 131072)            0         \n",
      "_________________________________________________________________\n",
      "dense_3 (Dense)              (None, 128)               16777344  \n",
      "_________________________________________________________________\n",
      "dense_4 (Dense)              (None, 128)               16512     \n",
      "_________________________________________________________________\n",
      "dense_5 (Dense)              (None, 3)                 387       \n",
      "=================================================================\n",
      "Total params: 40,381,955\n",
      "Trainable params: 21,259,907\n",
      "Non-trainable params: 19,122,048\n",
      "_________________________________________________________________\n"
     ]
    }
   ],
   "source": [
    "model_resnet=Sequential()\n",
    "model_resnet.add(TLA2)\n",
    "model_resnet.add(Dropout(0.2))\n",
    "model_resnet.add(Flatten())\n",
    "model_resnet.add(Dense(128, activation='relu'))\n",
    "model_resnet.add(Dense(128, activation='relu'))\n",
    "model_resnet.add(Dense(3, activation='softmax'))\n",
    "model_resnet.summary()"
   ]
  },
  {
   "cell_type": "code",
   "execution_count": 16,
   "id": "647e13f1",
   "metadata": {},
   "outputs": [
    {
     "name": "stdout",
     "output_type": "stream",
     "text": [
      "Wall time: 0 ns\n",
      "Epoch 1/20\n",
      "2/2 [==============================] - 140s 51s/step - loss: 16.0147 - accuracy: 0.5000 - precision: 0.5152 - recall: 0.3269 - auc: 0.6212 - f1_score: 0.6125 - val_loss: 321.6167 - val_accuracy: 0.3913 - val_precision: 0.3913 - val_recall: 0.3913 - val_auc: 0.5435 - val_f1_score: 0.5870\n",
      "Epoch 2/20\n",
      "2/2 [==============================] - 67s 37s/step - loss: 59.1353 - accuracy: 0.4231 - precision: 0.4231 - recall: 0.4231 - auc: 0.5673 - f1_score: 0.6281 - val_loss: 208.8172 - val_accuracy: 0.3913 - val_precision: 0.3913 - val_recall: 0.3913 - val_auc: 0.5435 - val_f1_score: 0.5870\n",
      "Epoch 3/20\n",
      "2/2 [==============================] - 70s 38s/step - loss: 19.2792 - accuracy: 0.4231 - precision: 0.4231 - recall: 0.4231 - auc: 0.5673 - f1_score: 0.6141 - val_loss: 15.1937 - val_accuracy: 0.3913 - val_precision: 0.3913 - val_recall: 0.3913 - val_auc: 0.5435 - val_f1_score: 0.5870\n",
      "Epoch 4/20\n",
      "2/2 [==============================] - 67s 37s/step - loss: 5.4115 - accuracy: 0.2692 - precision: 0.2692 - recall: 0.2692 - auc: 0.5104 - f1_score: 0.4406 - val_loss: 74.3680 - val_accuracy: 0.3913 - val_precision: 0.3913 - val_recall: 0.3913 - val_auc: 0.5435 - val_f1_score: 0.5870\n",
      "Epoch 5/20\n",
      "2/2 [==============================] - 53s 30s/step - loss: 8.6262 - accuracy: 0.3462 - precision: 0.3462 - recall: 0.3462 - auc: 0.5574 - f1_score: 0.5203 - val_loss: 26.9840 - val_accuracy: 0.3913 - val_precision: 0.3913 - val_recall: 0.3913 - val_auc: 0.5435 - val_f1_score: 0.5870\n",
      "Epoch 6/20\n",
      "2/2 [==============================] - 60s 34s/step - loss: 4.1661 - accuracy: 0.5385 - precision: 0.5385 - recall: 0.5385 - auc: 0.6022 - f1_score: 0.8812 - val_loss: 17.5400 - val_accuracy: 0.3913 - val_precision: 0.3913 - val_recall: 0.3913 - val_auc: 0.5435 - val_f1_score: 0.5870\n",
      "Epoch 7/20\n",
      "2/2 [==============================] - 86s 48s/step - loss: 2.2826 - accuracy: 0.4231 - precision: 0.4231 - recall: 0.4231 - auc: 0.5729 - f1_score: 0.6141 - val_loss: 23.4046 - val_accuracy: 0.3913 - val_precision: 0.3913 - val_recall: 0.3913 - val_auc: 0.5435 - val_f1_score: 0.5870\n",
      "Epoch 8/20\n",
      "2/2 [==============================] - 84s 47s/step - loss: 1.9719 - accuracy: 0.5000 - precision: 0.5000 - recall: 0.5000 - auc: 0.6965 - f1_score: 0.7078 - val_loss: 12.7338 - val_accuracy: 0.3913 - val_precision: 0.3913 - val_recall: 0.3913 - val_auc: 0.5435 - val_f1_score: 0.5870\n",
      "Epoch 9/20\n",
      "2/2 [==============================] - 85s 47s/step - loss: 2.3843 - accuracy: 0.5192 - precision: 0.5192 - recall: 0.5192 - auc: 0.6023 - f1_score: 0.7734 - val_loss: 7.5447 - val_accuracy: 0.3913 - val_precision: 0.3913 - val_recall: 0.3913 - val_auc: 0.6895 - val_f1_score: 0.5870\n",
      "Epoch 10/20\n",
      "2/2 [==============================] - 83s 46s/step - loss: 1.8915 - accuracy: 0.3846 - precision: 0.3922 - recall: 0.3846 - auc: 0.6923 - f1_score: 0.5994 - val_loss: 12.7229 - val_accuracy: 0.3913 - val_precision: 0.3913 - val_recall: 0.3913 - val_auc: 0.6867 - val_f1_score: 0.5870\n",
      "Epoch 11/20\n",
      "2/2 [==============================] - 73s 36s/step - loss: 3.2779 - accuracy: 0.4038 - precision: 0.4038 - recall: 0.4038 - auc: 0.6325 - f1_score: 0.6047 - val_loss: 11.7418 - val_accuracy: 0.3913 - val_precision: 0.3913 - val_recall: 0.3913 - val_auc: 0.7060 - val_f1_score: 0.5870\n",
      "Epoch 12/20\n",
      "2/2 [==============================] - 60s 33s/step - loss: 1.3418 - accuracy: 0.4423 - precision: 0.4423 - recall: 0.4423 - auc: 0.7433 - f1_score: 0.6656 - val_loss: 10.1654 - val_accuracy: 0.3913 - val_precision: 0.3913 - val_recall: 0.3913 - val_auc: 0.7060 - val_f1_score: 0.5870\n",
      "Epoch 13/20\n",
      "2/2 [==============================] - 95s 65s/step - loss: 1.5307 - accuracy: 0.3846 - precision: 0.3846 - recall: 0.3846 - auc: 0.6337 - f1_score: 0.5812 - val_loss: 9.3333 - val_accuracy: 0.3913 - val_precision: 0.3913 - val_recall: 0.3913 - val_auc: 0.6952 - val_f1_score: 0.5870\n",
      "Epoch 14/20\n",
      "2/2 [==============================] - 75s 33s/step - loss: 1.7493 - accuracy: 0.4038 - precision: 0.4038 - recall: 0.4038 - auc: 0.5988 - f1_score: 0.5906 - val_loss: 8.0095 - val_accuracy: 0.3913 - val_precision: 0.3913 - val_recall: 0.3913 - val_auc: 0.7060 - val_f1_score: 0.5870\n",
      "Epoch 15/20\n",
      "2/2 [==============================] - 115s 61s/step - loss: 1.8258 - accuracy: 0.4038 - precision: 0.3922 - recall: 0.3846 - auc: 0.6902 - f1_score: 0.6542 - val_loss: 20.0840 - val_accuracy: 0.3913 - val_precision: 0.3913 - val_recall: 0.3913 - val_auc: 0.5435 - val_f1_score: 0.5870\n",
      "Epoch 16/20\n",
      "2/2 [==============================] - 64s 39s/step - loss: 3.7072 - accuracy: 0.3846 - precision: 0.3846 - recall: 0.3846 - auc: 0.6544 - f1_score: 0.5672 - val_loss: 12.0812 - val_accuracy: 0.3913 - val_precision: 0.3913 - val_recall: 0.3913 - val_auc: 0.5435 - val_f1_score: 0.5870\n",
      "Epoch 17/20\n",
      "2/2 [==============================] - 84s 47s/step - loss: 1.0041 - accuracy: 0.5000 - precision: 0.7143 - recall: 0.3846 - auc: 0.7617 - f1_score: 0.7500 - val_loss: 17.0061 - val_accuracy: 0.3913 - val_precision: 0.3913 - val_recall: 0.3913 - val_auc: 0.5435 - val_f1_score: 0.5870\n",
      "Epoch 18/20\n",
      "2/2 [==============================] - 85s 47s/step - loss: 1.2973 - accuracy: 0.4808 - precision: 0.4808 - recall: 0.4808 - auc: 0.6986 - f1_score: 0.7266 - val_loss: 12.7324 - val_accuracy: 0.3913 - val_precision: 0.3913 - val_recall: 0.3913 - val_auc: 0.5435 - val_f1_score: 0.5870\n",
      "Epoch 19/20\n",
      "2/2 [==============================] - 62s 35s/step - loss: 0.9897 - accuracy: 0.4231 - precision: 0.4400 - recall: 0.4231 - auc: 0.7302 - f1_score: 0.5477 - val_loss: 12.1397 - val_accuracy: 0.3913 - val_precision: 0.3913 - val_recall: 0.3913 - val_auc: 0.5435 - val_f1_score: 0.5870\n",
      "Epoch 20/20\n",
      "2/2 [==============================] - 61s 33s/step - loss: 1.9842 - accuracy: 0.5962 - precision: 0.5962 - recall: 0.5962 - auc: 0.7325 - f1_score: 0.8391 - val_loss: 7.1488 - val_accuracy: 0.3913 - val_precision: 0.3913 - val_recall: 0.3913 - val_auc: 0.7094 - val_f1_score: 0.5870\n"
     ]
    }
   ],
   "source": [
    "model_resnet.compile(optimizer='rmsprop', loss = tf.keras.losses.CategoricalCrossentropy(),metrics=METRICS)\n",
    "%time\n",
    "history=model_resnet.fit(x_train,y_train,validation_data=(x_val,y_val),epochs = 20,verbose = 1,callbacks=[lrd,mcp,es])"
   ]
  },
  {
   "cell_type": "code",
   "execution_count": 17,
   "id": "70d2cbe3",
   "metadata": {},
   "outputs": [
    {
     "data": {
      "image/png": "[encoded data removed]",
      "text/plain": [
       "<Figure size 1080x720 with 2 Axes>"
      ]
     },
     "metadata": {
      "needs_background": "light"
     },
     "output_type": "display_data"
    }
   ],
   "source": [
    "acc = history.history['recall']\n",
    "val_acc = history.history['val_recall']\n",
    "loss = history.history['loss']\n",
    "val_loss = history.history['val_loss']\n",
    "epochs_range = range(len(history.history['val_loss']))\n",
    "plt.figure(figsize=(15, 10))\n",
    "plt.subplot(1, 2, 1)\n",
    "plt.scatter(epochs_range, acc, label='Training Recall')\n",
    "plt.scatter(epochs_range, val_acc, label='Validation Recall')\n",
    "plt.legend(loc='lower right')\n",
    "plt.title('Training and Validation Recall')\n",
    "plt.subplot(1, 2, 2)\n",
    "plt.scatter(epochs_range, loss, label='Training Loss')\n",
    "plt.scatter(epochs_range, val_loss, label='Validation Loss')\n",
    "plt.legend(loc='upper right')\n",
    "plt.title('Training and Validation Loss')\n",
    "plt.show()"
   ]
  },
  {
   "cell_type": "code",
   "execution_count": 18,
   "id": "ffc38dca",
   "metadata": {},
   "outputs": [
    {
     "name": "stdout",
     "output_type": "stream",
     "text": [
      "Confusion Matrix\n",
      "Classification Report\n",
      "              precision    recall  f1-score   support\n",
      "\n",
      "      Healty       0.42      1.00      0.60        14\n",
      "     caution       0.00      0.00      0.00        17\n",
      "      severe       0.00      0.00      0.00         2\n",
      "\n",
      "    accuracy                           0.42        33\n",
      "   macro avg       0.14      0.33      0.20        33\n",
      "weighted avg       0.18      0.42      0.25        33\n",
      "\n"
     ]
    },
    {
     "data": {
      "image/png": "[encoded data removed]",
      "text/plain": [
       "<Figure size 720x720 with 2 Axes>"
      ]
     },
     "metadata": {
      "needs_background": "light"
     },
     "output_type": "display_data"
    }
   ],
   "source": [
    "def plot_confusion_matrix(cm, classes, normalize=True, title='Confusion matrix', cmap=plt.cm.Blues):\n",
    "    \n",
    "    plt.figure(figsize=(10,10))\n",
    "    plt.imshow(cm, interpolation='nearest', cmap=cmap)\n",
    "    plt.title(title)\n",
    "    plt.colorbar()\n",
    "    tick_marks = np.arange(len(classes))\n",
    "    plt.xticks(tick_marks, classes, rotation=45)\n",
    "    plt.yticks(tick_marks, classes)\n",
    "    if normalize:\n",
    "        cm = cm.astype('float') / cm.sum(axis=1)[:, np.newaxis]\n",
    "        cm = np.around(cm, decimals=2)\n",
    "        cm[np.isnan(cm)] = 0.0\n",
    "    thresh = cm.max() / 2.\n",
    "    for i, j in itertools.product(range(cm.shape[0]), range(cm.shape[1])):\n",
    "        plt.text(j, i, cm[i, j],\n",
    "                 horizontalalignment=\"center\",\n",
    "                 color=\"white\" if cm[i, j] > thresh else \"black\")\n",
    "    plt.tight_layout()\n",
    "    plt.ylabel('True label')\n",
    "    plt.xlabel('Predicted label')\n",
    "    \n",
    "    \n",
    "y_pred2 = (model_resnet.predict(x_test) > 0.5).astype(\"int32\")\n",
    "\n",
    "y_test_c2 = np.argmax(y_test, axis=1)\n",
    "target_names = [\"Healty\", \"caution\", \"severe\"]\n",
    "\n",
    "Y_pred2 = np.argmax(model_resnet.predict(x_test),axis=1)\n",
    "print('Confusion Matrix')\n",
    "cm = confusion_matrix(y_test_c2, Y_pred2)\n",
    "plot_confusion_matrix(cm, target_names, normalize=False, title='Confusion Matrix')\n",
    "\n",
    "print('Classification Report')\n",
    "print(classification_report(y_test_c2, Y_pred2, target_names=target_names))\n"
   ]
  }
 ],
 "metadata": {
  "kernelspec": {
   "display_name": "Python 3",
   "language": "python",
   "name": "python3"
  },
  "language_info": {
   "codemirror_mode": {
    "name": "ipython",
    "version": 3
   },
   "file_extension": ".py",
   "mimetype": "text/x-python",
   "name": "python",
   "nbconvert_exporter": "python",
   "pygments_lexer": "ipython3",
   "version": "3.8.5"
  }
 },
 "nbformat": 4,
 "nbformat_minor": 5
}
