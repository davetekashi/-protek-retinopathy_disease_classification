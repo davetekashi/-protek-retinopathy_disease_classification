{
 "cells": [
  {
   "cell_type": "code",
   "execution_count": 1,
   "id": "d21cbf24",
   "metadata": {},
   "outputs": [],
   "source": [
    "import os\n",
    "import random\n",
    "import pandas as pd \n",
    "import numpy as np \n",
    "import matplotlib.pyplot as plt\n",
    "import cv2\n",
    "from tensorflow import keras\n",
    "import tensorflow as tf\n",
    "import keras.backend as K\n",
    "from tensorflow.keras.preprocessing.image import ImageDataGenerator\n",
    "from tensorflow.keras.models import Sequential\n",
    "from tensorflow.keras.layers import InputLayer, BatchNormalization, Dropout, Flatten, Dense, Activation, MaxPool2D, Conv2D\n",
    "from tensorflow.keras.layers import Conv2D, Dense, Flatten, Dropout, Activation\n",
    "from tensorflow.keras.layers import BatchNormalization, Reshape, MaxPooling2D, GlobalAveragePooling2D\n",
    "from tensorflow.keras.callbacks import EarlyStopping, ModelCheckpoint, ReduceLROnPlateau\n",
    "\n",
    "from PIL import Image\n",
    "from PIL import UnidentifiedImageError\n",
    "\n",
    "from sklearn.preprocessing import OneHotEncoder\n",
    "\n",
    "from sklearn.model_selection import train_test_split\n",
    "\n",
    "from sklearn.metrics import classification_report, confusion_matrix\n",
    "import itertools\n",
    "from sklearn.preprocessing import StandardScaler\n",
    "\n",
    "import warnings\n",
    "warnings.filterwarnings('ignore')"
   ]
  },
  {
   "cell_type": "code",
   "execution_count": 2,
   "id": "b3d20aec",
   "metadata": {},
   "outputs": [],
   "source": [
    "#===============importing the dataset from the directory========================#\n",
    "Healthy = os.listdir(\"D:\\kaggle\\input\\diabetic-retinopathy-dataset\\Healthy\")\n",
    "Mild = os.listdir('D:\\kaggle\\input\\diabetic-retinopathy-dataset\\Mild DR')\n",
    "Moderate = os.listdir('D:\\kaggle\\input\\diabetic-retinopathy-dataset\\Moderate DR')\n",
    "Proliferate = os.listdir('D:\\kaggle\\input\\diabetic-retinopathy-dataset\\Proliferate DR')\n",
    "Severe = os.listdir('D:\\kaggle\\input\\diabetic-retinopathy-dataset\\Severe DR')"
   ]
  },
  {
   "cell_type": "code",
   "execution_count": 3,
   "id": "c8f2a534",
   "metadata": {},
   "outputs": [
    {
     "name": "stdout",
     "output_type": "stream",
     "text": [
      "(125, 225, 225, 3) (125,)\n"
     ]
    }
   ],
   "source": [
    "img_w, img_h = 225, 225 #setting the image width and height for easy processing\n",
    "X = []\n",
    "y = []\n",
    "\n",
    "for i in Healthy:\n",
    "    try:\n",
    "        img = Image.open(\"D:\\\\kaggle\\\\input\\\\diabetic-retinopathy-dataset\\\\Healthy\\\\\" + i).convert('RGB')\n",
    "        img = img.resize((img_w,img_h))\n",
    "        X.append(np.asarray(img))\n",
    "        y.append(0)\n",
    "    except UnidentifiedImageError: # it passes an image that wasn't correctly identified\n",
    "        pass\n",
    "    \n",
    "for i in Mild:\n",
    "    try:\n",
    "        img = Image.open(\"D:\\\\kaggle\\\\input\\\\diabetic-retinopathy-dataset\\\\Mild DR\\\\\" + i).convert('RGB')\n",
    "        img = img.resize((img_w,img_h))\n",
    "        X.append(np.asarray(img))\n",
    "        y.append(1)\n",
    "    except UnidentifiedImageError:\n",
    "        pass\n",
    "    \n",
    "for i in Moderate:\n",
    "    try:\n",
    "        img = Image.open(\"D:\\\\kaggle\\\\input\\\\diabetic-retinopathy-dataset\\\\Moderate DR\\\\\" + i).convert('RGB')\n",
    "        img = img.resize((img_w,img_h))\n",
    "        X.append(np.asarray(img))\n",
    "        y.append(1)\n",
    "    except UnidentifiedImageError:\n",
    "        pass\n",
    "    \n",
    "for i in Proliferate:\n",
    "    try:\n",
    "        img = Image.open(\"D:\\\\kaggle\\\\input\\\\diabetic-retinopathy-dataset\\\\Proliferate DR\\\\\" + i).convert('RGB')\n",
    "        img = img.resize((img_w,img_h))\n",
    "        X.append(np.asarray(img))\n",
    "        y.append(2)\n",
    "    except UnidentifiedImageError:\n",
    "        pass\n",
    "    \n",
    "for i in Severe:\n",
    "    try:\n",
    "        img = Image.open(\"D:\\\\kaggle\\\\input\\\\diabetic-retinopathy-dataset\\\\Severe DR\\\\\" + i).convert('RGB')\n",
    "        img = img.resize((img_w,img_h))\n",
    "        X.append(np.asarray(img))\n",
    "        y.append(2)\n",
    "    except UnidentifiedImageError:\n",
    "        pass\n",
    "    \n",
    "X = np.asarray(X)\n",
    "y = np.asarray(y)\n",
    "print(X.shape, y.shape)\n",
    "\n",
    "# I resized each image to our manually defined width and height(img_w, img_h)\n",
    "# I also changed the images to an array\n"
   ]
  },
  {
   "cell_type": "code",
   "execution_count": 5,
   "id": "8d2a9e80",
   "metadata": {},
   "outputs": [
    {
     "name": "stdout",
     "output_type": "stream",
     "text": [
      "[1. 0. 0.]\n"
     ]
    }
   ],
   "source": [
    "x = X.astype('float32')\n",
    "x /= 255\n",
    "\n",
    "num_classes = 3\n",
    "\n",
    "labels = keras.utils.to_categorical(y, num_classes)\n",
    "print(labels[0])"
   ]
  },
  {
   "cell_type": "code",
   "execution_count": 6,
   "id": "f44c2eee",
   "metadata": {},
   "outputs": [
    {
     "name": "stdout",
     "output_type": "stream",
     "text": [
      "Number of train: 100\n",
      "Number of validation: 12\n",
      "Number of test: 13\n"
     ]
    }
   ],
   "source": [
    "# splitting our dataset into train and test\n",
    "x_train1, x_test, y_train1, y_test = train_test_split(x, labels, test_size = 0.1, random_state=5)\n",
    "x_train,x_val,y_train,y_val=train_test_split(x_train1,y_train1,test_size=0.1,random_state=5)\n",
    "\n",
    "\n",
    "print('Number of train: {}'.format(len(x_train)))\n",
    "print('Number of validation: {}'.format(len(x_val)))\n",
    "print('Number of test: {}'.format(len(x_test)))"
   ]
  },
  {
   "cell_type": "code",
   "execution_count": 7,
   "id": "8efed8ee",
   "metadata": {},
   "outputs": [],
   "source": [
    "# An image data generator is a tool provided by keras to easily perform data augmentation on images\n",
    "# Data augmentation simply takes an image for instance and adds different ways the image can be presented\n",
    "# for example like rotating the image, flipping the image, changing the scale e.t.c\n",
    "# when training the images, data augmentation is done in real time while the image is undergoing training\n",
    "# which makes it very remarkable and awesome to use\n",
    "datagen = ImageDataGenerator(\n",
    "    featurewise_center=False,\n",
    "    samplewise_center=False,\n",
    "    featurewise_std_normalization=False,\n",
    "    samplewise_std_normalization=False,\n",
    "    zca_whitening=False,\n",
    "    rotation_range=20.,\n",
    "    width_shift_range=0.5,\n",
    "    height_shift_range=0.5,\n",
    "    shear_range=30.,\n",
    "    zoom_range=0.,\n",
    "    channel_shift_range=0.,\n",
    "    fill_mode='nearest',\n",
    "    cval=0.,\n",
    "    horizontal_flip=0.2,\n",
    "    vertical_flip=0.2,\n",
    "    rescale=None)\n",
    "\n",
    "datagen.fit(x_train)"
   ]
  },
  {
   "cell_type": "code",
   "execution_count": 8,
   "id": "31da0085",
   "metadata": {},
   "outputs": [],
   "source": [
    "base_model = tf.keras.applications.InceptionV3(input_shape=(225,225,3),include_top=False,weights=\"imagenet\")"
   ]
  },
  {
   "cell_type": "code",
   "execution_count": 9,
   "id": "621b7ab4",
   "metadata": {},
   "outputs": [],
   "source": [
    "for layer in base_model.layers[:-10]:\n",
    "    layer.trainable=False"
   ]
  },
  {
   "cell_type": "code",
   "execution_count": 10,
   "id": "3aa4dcfe",
   "metadata": {},
   "outputs": [
    {
     "name": "stdout",
     "output_type": "stream",
     "text": [
      "Model: \"sequential\"\n",
      "_________________________________________________________________\n",
      "Layer (type)                 Output Shape              Param #   \n",
      "=================================================================\n",
      "inception_v3 (Functional)    (None, 5, 5, 2048)        21802784  \n",
      "_________________________________________________________________\n",
      "dropout (Dropout)            (None, 5, 5, 2048)        0         \n",
      "_________________________________________________________________\n",
      "flatten (Flatten)            (None, 51200)             0         \n",
      "_________________________________________________________________\n",
      "dense (Dense)                (None, 128)               6553728   \n",
      "_________________________________________________________________\n",
      "dense_1 (Dense)              (None, 128)               16512     \n",
      "_________________________________________________________________\n",
      "dense_2 (Dense)              (None, 3)                 387       \n",
      "=================================================================\n",
      "Total params: 28,373,411\n",
      "Trainable params: 6,570,819\n",
      "Non-trainable params: 21,802,592\n",
      "_________________________________________________________________\n"
     ]
    }
   ],
   "source": [
    "# My neural network consists of 3 layers densely connected\n",
    "# dropout helps prevent over fitting of the model when testing it\n",
    "model=Sequential()\n",
    "model.add(base_model)\n",
    "model.add(Dropout(0.2))\n",
    "model.add(Flatten())\n",
    "model.add(Dense(128, activation='relu'))\n",
    "model.add(Dense(128, activation='relu'))\n",
    "model.add(Dense(3, activation='softmax'))\n",
    "model.summary() # printing out the summary of the model for better understanding for you"
   ]
  },
  {
   "cell_type": "code",
   "execution_count": 23,
   "id": "bf71d9ba",
   "metadata": {},
   "outputs": [],
   "source": [
    "\n",
    "#plot_model(model, to_file='convnet.png', show_shapes=True,show_layer_names=True)\n",
    "#Image(filename='convnet.png')"
   ]
  },
  {
   "cell_type": "code",
   "execution_count": 11,
   "id": "df5c7f71",
   "metadata": {},
   "outputs": [],
   "source": [
    "# here i am defining my performance metrics to check the performance of the model\n",
    "def f1_score(y_true, y_pred):\n",
    "    true_positives = K.sum(K.round(K.clip(y_true * y_pred, 0, 1)))\n",
    "    possible_positives = K.sum(K.round(K.clip(y_true, 0, 1)))\n",
    "    predicted_positives = K.sum(K.round(K.clip(y_pred, 0, 1)))\n",
    "    precision = true_positives / (predicted_positives + K.epsilon())\n",
    "    recall = true_positives / (possible_positives + K.epsilon())\n",
    "    f1_val = 3*(precision*recall)/(precision+recall+K.epsilon())\n",
    "    return f1_val\n",
    "\n",
    "METRICS = [\n",
    "      tf.keras.metrics.CategoricalAccuracy(name='accuracy'),\n",
    "      tf.keras.metrics.Precision(name='precision'),\n",
    "      tf.keras.metrics.Recall(name='recall'),  \n",
    "      tf.keras.metrics.AUC(name='auc'),\n",
    "        f1_score,\n",
    "]"
   ]
  },
  {
   "cell_type": "code",
   "execution_count": 12,
   "id": "93967f95",
   "metadata": {},
   "outputs": [],
   "source": [
    "lrd = ReduceLROnPlateau(monitor = 'recall',patience = 2,verbose = 1,factor = 0.50, min_lr = 1e-6)\n",
    "# the above line of code reduces the learning rate when there is no improvement to the metric\n",
    "# i added this line of code because i trained the model without it and the performance was stagnant\n",
    "# the performance was stuck on 0.96nnn as the accuracy so i added the line of code to reduce\n",
    "# the learing rate after two epochs\n",
    "mcp = ModelCheckpoint('model.h5')\n",
    "es = EarlyStopping(verbose=1, patience=5)\n",
    "\n",
    "model.compile(optimizer='Adam', loss = tf.keras.losses.CategoricalCrossentropy(),metrics=METRICS)"
   ]
  },
  {
   "cell_type": "code",
   "execution_count": 13,
   "id": "889d6071",
   "metadata": {},
   "outputs": [
    {
     "name": "stdout",
     "output_type": "stream",
     "text": [
      "Wall time: 0 ns\n",
      "Epoch 1/5\n",
      "4/4 [==============================] - 128s 15s/step - loss: 9.5497 - accuracy: 0.4900 - precision: 0.5125 - recall: 0.4100 - auc: 0.6294 - f1_score: 0.6818 - val_loss: 8.9442 - val_accuracy: 0.6667 - val_precision: 0.6667 - val_recall: 0.6667 - val_auc: 0.7500 - val_f1_score: 1.0000\n",
      "Epoch 2/5\n",
      "4/4 [==============================] - 44s 10s/step - loss: 2.2313 - accuracy: 0.7600 - precision: 0.7600 - recall: 0.7600 - auc: 0.8798 - f1_score: 1.1367 - val_loss: 1.0396 - val_accuracy: 0.5833 - val_precision: 0.5833 - val_recall: 0.5833 - val_auc: 0.8368 - val_f1_score: 0.8750\n",
      "Epoch 3/5\n",
      "4/4 [==============================] - 43s 10s/step - loss: 0.7537 - accuracy: 0.8400 - precision: 0.8400 - recall: 0.8400 - auc: 0.9370 - f1_score: 1.3125 - val_loss: 1.8423 - val_accuracy: 0.6667 - val_precision: 0.6667 - val_recall: 0.6667 - val_auc: 0.8472 - val_f1_score: 1.0000\n",
      "\n",
      "Epoch 00003: ReduceLROnPlateau reducing learning rate to 0.0005000000237487257.\n",
      "Epoch 4/5\n",
      "4/4 [==============================] - 44s 10s/step - loss: 0.7462 - accuracy: 0.7800 - precision: 0.7800 - recall: 0.7800 - auc: 0.9419 - f1_score: 1.2422 - val_loss: 0.4587 - val_accuracy: 0.8333 - val_precision: 0.8333 - val_recall: 0.8333 - val_auc: 0.9583 - val_f1_score: 1.2500\n",
      "Epoch 5/5\n",
      "4/4 [==============================] - 44s 10s/step - loss: 0.2563 - accuracy: 0.9500 - precision: 0.9592 - recall: 0.9400 - auc: 0.9775 - f1_score: 1.3582 - val_loss: 0.7349 - val_accuracy: 0.8333 - val_precision: 0.8333 - val_recall: 0.8333 - val_auc: 0.9184 - val_f1_score: 1.2500\n",
      "\n",
      "Epoch 00005: ReduceLROnPlateau reducing learning rate to 0.0002500000118743628.\n"
     ]
    }
   ],
   "source": [
    "# this is where i fit and trained my model\n",
    "%time\n",
    "history=model.fit(x_train,y_train,validation_data=(x_val,y_val),epochs = 5,verbose = 1,callbacks=[lrd,mcp,es])"
   ]
  },
  {
   "cell_type": "code",
   "execution_count": 14,
   "id": "59829d19",
   "metadata": {},
   "outputs": [
    {
     "data": {
      "image/png": "[encoded data removed]",
      "text/plain": [
       "<Figure size 1080x720 with 2 Axes>"
      ]
     },
     "metadata": {
      "needs_background": "light"
     },
     "output_type": "display_data"
    }
   ],
   "source": [
    "acc = history.history['recall']\n",
    "val_acc = history.history['val_recall']\n",
    "loss = history.history['loss']\n",
    "val_loss = history.history['val_loss']\n",
    "epochs_range = range(len(history.history['val_loss']))\n",
    "plt.figure(figsize=(15, 10))\n",
    "plt.subplot(1, 2, 1)\n",
    "plt.plot(epochs_range, acc, label='Training Recall')\n",
    "plt.plot(epochs_range, val_acc, label='Validation Recall')\n",
    "plt.legend(loc='lower right')\n",
    "plt.title('Training and Validation Recall')\n",
    "plt.subplot(1, 2, 2)\n",
    "plt.plot(epochs_range, loss, label='Training Loss')\n",
    "plt.plot(epochs_range, val_loss, label='Validation Loss')\n",
    "plt.legend(loc='upper right')\n",
    "plt.title('Training and Validation Loss')\n",
    "plt.show()"
   ]
  },
  {
   "cell_type": "code",
   "execution_count": null,
   "id": "e6bac5b6",
   "metadata": {},
   "outputs": [],
   "source": []
  },
  {
   "cell_type": "code",
   "execution_count": 16,
   "id": "810fde4e",
   "metadata": {},
   "outputs": [
    {
     "name": "stdout",
     "output_type": "stream",
     "text": [
      "Confusion Matrix\n",
      "Classification Report\n",
      "              precision    recall  f1-score   support\n",
      "\n",
      "      Healty       1.00      1.00      1.00         8\n",
      " not healthy       1.00      1.00      1.00         5\n",
      "\n",
      "    accuracy                           1.00        13\n",
      "   macro avg       1.00      1.00      1.00        13\n",
      "weighted avg       1.00      1.00      1.00        13\n",
      "\n"
     ]
    },
    {
     "data": {
      "image/png": "[encoded data removed]",
      "text/plain": [
       "<Figure size 720x720 with 2 Axes>"
      ]
     },
     "metadata": {
      "needs_background": "light"
     },
     "output_type": "display_data"
    }
   ],
   "source": [
    "# here i want to define and plot my confusion matrix\n",
    "# and also my classification report\n",
    "def plot_confusion_matrix(cm, classes, normalize=True, title='Confusion matrix', cmap=plt.cm.Blues):\n",
    "    \n",
    "    plt.figure(figsize=(10,10))\n",
    "    plt.imshow(cm, interpolation='nearest', cmap=cmap)\n",
    "    plt.title(title)\n",
    "    plt.colorbar()\n",
    "    tick_marks = np.arange(len(classes))\n",
    "    plt.xticks(tick_marks, classes, rotation=45)\n",
    "    plt.yticks(tick_marks, classes)\n",
    "    if normalize:\n",
    "        cm = cm.astype('float') / cm.sum(axis=1)[:, np.newaxis]\n",
    "        cm = np.around(cm, decimals=2)\n",
    "        cm[np.isnan(cm)] = 0.0\n",
    "    thresh = cm.max() / 2.\n",
    "    for i, j in itertools.product(range(cm.shape[0]), range(cm.shape[1])):\n",
    "        plt.text(j, i, cm[i, j],\n",
    "                 horizontalalignment=\"center\",\n",
    "                 color=\"white\" if cm[i, j] > thresh else \"black\")\n",
    "    plt.tight_layout()\n",
    "    plt.ylabel('True label')\n",
    "    plt.xlabel('Predicted label')\n",
    "    \n",
    "    \n",
    "y_pred = (model.predict(x_test) > 0.5).astype(\"int32\")\n",
    "\n",
    "y_test_c = np.argmax(y_test, axis=1)\n",
    "target_names = [\"Healty\", \"not healthy\"]\n",
    "\n",
    "Y_pred = np.argmax(model.predict(x_test),axis=1)\n",
    "print('Confusion Matrix')\n",
    "cm = confusion_matrix(y_test_c, Y_pred)\n",
    "plot_confusion_matrix(cm, target_names, normalize=False, title='Confusion Matrix')\n",
    "\n",
    "print('Classification Report')\n",
    "print(classification_report(y_test_c, Y_pred, target_names=target_names))\n",
    "\n",
    "\n",
    "#=====================important note==============================#\n",
    "# this model i created basically classifies different cases into 3 and they are\n",
    "# healthy(meaning the eye is healthy and free from any retinopathy)\n",
    "# caution(meaning the eye has some detected disfunctionalities and immediate treatemet has to commence\n",
    "# before it worsens)\n",
    "# and severe(meaning that the eye is under serious attack from by retinopathy and in severe condition)\n",
    "# so its either the eye is healthy severe or needs to be treated with caution"
   ]
  }
 ],
 "metadata": {
  "kernelspec": {
   "display_name": "Python 3",
   "language": "python",
   "name": "python3"
  },
  "language_info": {
   "codemirror_mode": {
    "name": "ipython",
    "version": 3
   },
   "file_extension": ".py",
   "mimetype": "text/x-python",
   "name": "python",
   "nbconvert_exporter": "python",
   "pygments_lexer": "ipython3",
   "version": "3.8.5"
  }
 },
 "nbformat": 4,
 "nbformat_minor": 5
}
