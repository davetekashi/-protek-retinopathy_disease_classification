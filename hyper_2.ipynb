{
 "cells": [
  {
   "cell_type": "code",
   "execution_count": 34,
   "id": "d21cbf24",
   "metadata": {},
   "outputs": [],
   "source": [
    "import os\n",
    "import random\n",
    "import pandas as pd \n",
    "import numpy as np \n",
    "import matplotlib.pyplot as plt\n",
    "import cv2\n",
    "from tensorflow import keras\n",
    "import tensorflow as tf\n",
    "import keras.backend as K\n",
    "from tensorflow.keras.preprocessing.image import ImageDataGenerator\n",
    "from tensorflow.keras.models import Sequential\n",
    "from tensorflow.keras.layers import InputLayer, BatchNormalization, Dropout, Flatten, Dense, Activation, MaxPool2D, Conv2D\n",
    "from tensorflow.keras.layers import Conv2D, Dense, Flatten, Dropout, Activation, SimpleRNN\n",
    "from tensorflow.keras.layers import BatchNormalization, Reshape, MaxPooling2D, GlobalAveragePooling2D\n",
    "from tensorflow.keras.callbacks import EarlyStopping, ModelCheckpoint, ReduceLROnPlateau\n",
    "\n",
    "from PIL import Image\n",
    "from PIL import UnidentifiedImageError\n",
    "\n",
    "from sklearn.preprocessing import OneHotEncoder\n",
    "\n",
    "from sklearn.model_selection import train_test_split\n",
    "\n",
    "from sklearn.metrics import classification_report, confusion_matrix, roc_curve, auc\n",
    "import itertools\n",
    "from sklearn.preprocessing import StandardScaler\n",
    "\n",
    "import warnings\n",
    "warnings.filterwarnings('ignore')\n",
    "from sklearn import metrics\n",
    "from sklearn.preprocessing import label_binarize\n",
    "from sklearn.discriminant_analysis import LinearDiscriminantAnalysis\n",
    "from sklearn.preprocessing import StandardScaler\n",
    "from sklearn.neighbors import KNeighborsClassifier\n",
    "from sklearn.preprocessing import MinMaxScaler\n",
    "from sklearn.decomposition import FastICA\n",
    "from sklearn.ensemble import RandomForestClassifier"
   ]
  },
  {
   "cell_type": "code",
   "execution_count": 35,
   "id": "b3d20aec",
   "metadata": {},
   "outputs": [],
   "source": [
    "#===============importing the dataset from the directory========================#\n",
    "Healthy = os.listdir(\"D:\\kaggle\\input\\diabetic-retinopathy-dataset\\Healthy\")\n",
    "Mild = os.listdir('D:\\kaggle\\input\\diabetic-retinopathy-dataset\\Mild DR')\n",
    "Moderate = os.listdir('D:\\kaggle\\input\\diabetic-retinopathy-dataset\\Moderate DR')\n",
    "Proliferate = os.listdir('D:\\kaggle\\input\\diabetic-retinopathy-dataset\\Proliferate DR')\n",
    "Severe = os.listdir('D:\\kaggle\\input\\diabetic-retinopathy-dataset\\Severe DR')"
   ]
  },
  {
   "cell_type": "code",
   "execution_count": 36,
   "id": "c8f2a534",
   "metadata": {},
   "outputs": [
    {
     "name": "stdout",
     "output_type": "stream",
     "text": [
      "(108, 225, 225, 3) (108,)\n"
     ]
    }
   ],
   "source": [
    "img_w, img_h = 225, 225 #setting the image width and height for easy processing\n",
    "X = []\n",
    "y = []\n",
    "\n",
    "for i in Healthy:\n",
    "    try:\n",
    "        img = Image.open(\"D:\\\\kaggle\\\\input\\\\diabetic-retinopathy-dataset\\\\Healthy\\\\\" + i).convert('RGB')\n",
    "        img = img.resize((img_w,img_h))\n",
    "        X.append(np.asarray(img))\n",
    "        y.append(0)\n",
    "    except UnidentifiedImageError: # it passes an image that wasn't correctly identified\n",
    "        pass\n",
    "    \n",
    "for i in Mild:\n",
    "    try:\n",
    "        img = Image.open(\"D:\\\\kaggle\\\\input\\\\diabetic-retinopathy-dataset\\\\Mild DR\\\\\" + i).convert('RGB')\n",
    "        img = img.resize((img_w,img_h))\n",
    "        X.append(np.asarray(img))\n",
    "        y.append(1)\n",
    "    except UnidentifiedImageError:\n",
    "        pass\n",
    "    \n",
    "for i in Moderate:\n",
    "    try:\n",
    "        img = Image.open(\"D:\\\\kaggle\\\\input\\\\diabetic-retinopathy-dataset\\\\Moderate DR\\\\\" + i).convert('RGB')\n",
    "        img = img.resize((img_w,img_h))\n",
    "        X.append(np.asarray(img))\n",
    "        y.append(1)\n",
    "    except UnidentifiedImageError:\n",
    "        pass\n",
    "    \n",
    "for i in Proliferate:\n",
    "    try:\n",
    "        img = Image.open(\"D:\\\\kaggle\\\\input\\\\diabetic-retinopathy-dataset\\\\Proliferate DR\\\\\" + i).convert('RGB')\n",
    "        img = img.resize((img_w,img_h))\n",
    "        X.append(np.asarray(img))\n",
    "        y.append(2)\n",
    "    except UnidentifiedImageError:\n",
    "        pass\n",
    "    \n",
    "for i in Severe:\n",
    "    try:\n",
    "        img = Image.open(\"D:\\\\kaggle\\\\input\\\\diabetic-retinopathy-dataset\\\\Severe DR\\\\\" + i).convert('RGB')\n",
    "        img = img.resize((img_w,img_h))\n",
    "        X.append(np.asarray(img))\n",
    "        y.append(2)\n",
    "    except UnidentifiedImageError:\n",
    "        pass\n",
    "    \n",
    "X = np.asarray(X)\n",
    "y = np.asarray(y)\n",
    "print(X.shape, y.shape)\n",
    "\n",
    "# I resized each image to our manually defined width and height(img_w, img_h)\n",
    "# I also changed the images to an array\n",
    "\n"
   ]
  },
  {
   "cell_type": "code",
   "execution_count": 37,
   "id": "8d2a9e80",
   "metadata": {},
   "outputs": [
    {
     "name": "stdout",
     "output_type": "stream",
     "text": [
      "[1. 0. 0.]\n"
     ]
    }
   ],
   "source": [
    "x = X.astype('float32')\n",
    "x /= 255\n",
    "\n",
    "#scaler = MinMaxScaler()\n",
    "#x = scaler.fit_transform(x)\n",
    "\n",
    "\n",
    "\n",
    "num_classes = 3\n",
    "\n",
    "labels = keras.utils.to_categorical(y, num_classes)\n",
    "print(labels[0])"
   ]
  },
  {
   "cell_type": "code",
   "execution_count": 38,
   "id": "f44c2eee",
   "metadata": {},
   "outputs": [
    {
     "name": "stdout",
     "output_type": "stream",
     "text": [
      "Number of train: 52\n",
      "Number of validation: 23\n",
      "Number of test: 33\n"
     ]
    }
   ],
   "source": [
    "# splitting our dataset into train and test\n",
    "x_train1, x_test, y_train1, y_test = train_test_split(x, labels, test_size = 0.3, random_state=5)\n",
    "x_train,x_val,y_train,y_val=train_test_split(x_train1,y_train1,test_size=0.3,random_state=5)\n",
    "\n",
    "print('Number of train: {}'.format(len(x_train)))\n",
    "print('Number of validation: {}'.format(len(x_val)))\n",
    "print('Number of test: {}'.format(len(x_test)))"
   ]
  },
  {
   "cell_type": "code",
   "execution_count": 21,
   "id": "09c54ba0",
   "metadata": {},
   "outputs": [],
   "source": []
  },
  {
   "cell_type": "code",
   "execution_count": 39,
   "id": "8efed8ee",
   "metadata": {},
   "outputs": [],
   "source": [
    "# An image data generator is a tool provided by keras to easily perform data augmentation on images\n",
    "# Data augmentation simply takes an image for instance and adds different ways the image can be presented\n",
    "# for example like rotating the image, flipping the image, changing the scale e.t.c\n",
    "# when training the images, data augmentation is done in real time while the image is undergoing training\n",
    "# which makes it very remarkable and awesome to use\n",
    "datagen = ImageDataGenerator(\n",
    "    featurewise_center=False,\n",
    "    samplewise_center=False,\n",
    "    featurewise_std_normalization=False,\n",
    "    samplewise_std_normalization=False,\n",
    "    zca_whitening=False,\n",
    "    rotation_range=20.,\n",
    "    width_shift_range=0.5,\n",
    "    height_shift_range=0.5,\n",
    "    shear_range=30.,\n",
    "    zoom_range=0.,\n",
    "    channel_shift_range=0.,\n",
    "    fill_mode='nearest',\n",
    "    cval=0.,\n",
    "    horizontal_flip=0.2,\n",
    "    vertical_flip=0.2,\n",
    "    rescale=None)\n",
    "\n",
    "datagen.fit(x_train)\n",
    "\n"
   ]
  },
  {
   "cell_type": "code",
   "execution_count": 40,
   "id": "31da0085",
   "metadata": {},
   "outputs": [],
   "source": [
    "base_model = tf.keras.applications.InceptionV3(input_shape=(225,225,3),include_top=False,weights=\"imagenet\")"
   ]
  },
  {
   "cell_type": "code",
   "execution_count": 41,
   "id": "621b7ab4",
   "metadata": {},
   "outputs": [],
   "source": [
    "for layer in base_model.layers[:-10]:\n",
    "    layer.trainable=False"
   ]
  },
  {
   "cell_type": "code",
   "execution_count": 42,
   "id": "3aa4dcfe",
   "metadata": {},
   "outputs": [
    {
     "name": "stdout",
     "output_type": "stream",
     "text": [
      "Model: \"sequential_3\"\n",
      "_________________________________________________________________\n",
      "Layer (type)                 Output Shape              Param #   \n",
      "=================================================================\n",
      "inception_v3 (Functional)    (None, 5, 5, 2048)        21802784  \n",
      "_________________________________________________________________\n",
      "dropout_2 (Dropout)          (None, 5, 5, 2048)        0         \n",
      "_________________________________________________________________\n",
      "flatten_3 (Flatten)          (None, 51200)             0         \n",
      "_________________________________________________________________\n",
      "dense_8 (Dense)              (None, 128)               6553728   \n",
      "_________________________________________________________________\n",
      "dense_9 (Dense)              (None, 128)               16512     \n",
      "_________________________________________________________________\n",
      "dense_10 (Dense)             (None, 3)                 387       \n",
      "=================================================================\n",
      "Total params: 28,373,411\n",
      "Trainable params: 6,570,819\n",
      "Non-trainable params: 21,802,592\n",
      "_________________________________________________________________\n"
     ]
    }
   ],
   "source": [
    "# My neural network consists of 3 layers densely connected\n",
    "# dropout helps prevent over fitting of the model when testing it\n",
    "model_ann=Sequential()\n",
    "model_ann.add(base_model)\n",
    "model_ann.add(Dropout(0.2))\n",
    "model_ann.add(Flatten())\n",
    "model_ann.add(Dense(128, activation='relu'))\n",
    "model_ann.add(Dense(128, activation='relu'))\n",
    "model_ann.add(Dense(3, activation='softmax'))\n",
    "model_ann.summary() # printing out the summary of the model for better understanding for you"
   ]
  },
  {
   "cell_type": "code",
   "execution_count": 23,
   "id": "bf71d9ba",
   "metadata": {},
   "outputs": [],
   "source": [
    "\n",
    "#plot_model(model, to_file='convnet.png', show_shapes=True,show_layer_names=True)\n",
    "#Image(filename='convnet.png')"
   ]
  },
  {
   "cell_type": "code",
   "execution_count": 43,
   "id": "df5c7f71",
   "metadata": {},
   "outputs": [],
   "source": [
    "# here i am defining my performance metrics to check the performance of the model\n",
    "def f1_score(y_true, y_pred):\n",
    "    true_positives = K.sum(K.round(K.clip(y_true * y_pred, 0, 1)))\n",
    "    possible_positives = K.sum(K.round(K.clip(y_true, 0, 1)))\n",
    "    predicted_positives = K.sum(K.round(K.clip(y_pred, 0, 1)))\n",
    "    precision = true_positives / (predicted_positives + K.epsilon())\n",
    "    recall = true_positives / (possible_positives + K.epsilon())\n",
    "    f1_val = 3*(precision*recall)/(precision+recall+K.epsilon())\n",
    "    return f1_val\n",
    "\n",
    "METRICS = [\n",
    "      tf.keras.metrics.CategoricalAccuracy(name='accuracy'),\n",
    "      tf.keras.metrics.Precision(name='precision'),\n",
    "      tf.keras.metrics.Recall(name='recall'),  \n",
    "      tf.keras.metrics.AUC(name='auc'),\n",
    "        f1_score,\n",
    "]"
   ]
  },
  {
   "cell_type": "code",
   "execution_count": 44,
   "id": "93967f95",
   "metadata": {},
   "outputs": [],
   "source": [
    "lrd = ReduceLROnPlateau(monitor = 'recall',patience = 30,verbose = 1,factor = 0.70, min_lr = 1e-5)\n",
    "# the above line of code reduces the learning rate when there is no improvement to the metric\n",
    "# i added this line of code because i trained the model without it and the performance was stagnant\n",
    "# the performance was stuck on 0.96nnn as the accuracy so i added the line of code to reduce\n",
    "# the learing rate after two epochs\n",
    "mcp = ModelCheckpoint('model.h5')\n",
    "es = EarlyStopping(verbose=1, patience=40)\n",
    "\n",
    "model_ann.compile(optimizer='Adam', loss = tf.keras.losses.CategoricalCrossentropy(),metrics=METRICS)"
   ]
  },
  {
   "cell_type": "code",
   "execution_count": 45,
   "id": "889d6071",
   "metadata": {},
   "outputs": [
    {
     "name": "stdout",
     "output_type": "stream",
     "text": [
      "Wall time: 0 ns\n",
      "Epoch 1/20\n",
      "3/3 [==============================] - 124s 20s/step - loss: 6.8456 - accuracy: 0.4533 - precision: 0.5660 - recall: 0.4000 - auc: 0.6694 - f1_score: 0.7483 - val_loss: 2.7911 - val_accuracy: 0.6522 - val_precision: 0.6522 - val_recall: 0.6522 - val_auc: 0.7226 - val_f1_score: 0.9783\n",
      "Epoch 2/20\n",
      "3/3 [==============================] - 35s 12s/step - loss: 1.2001 - accuracy: 0.7333 - precision: 0.7534 - recall: 0.7333 - auc: 0.8658 - f1_score: 1.0798 - val_loss: 0.2791 - val_accuracy: 0.9130 - val_precision: 0.9130 - val_recall: 0.9130 - val_auc: 0.9835 - val_f1_score: 1.3696\n",
      "Epoch 3/20\n",
      "3/3 [==============================] - 35s 12s/step - loss: 1.1036 - accuracy: 0.8000 - precision: 0.8000 - recall: 0.8000 - auc: 0.9082 - f1_score: 1.1463 - val_loss: 1.0544 - val_accuracy: 0.7826 - val_precision: 0.7826 - val_recall: 0.7826 - val_auc: 0.9112 - val_f1_score: 1.1739\n",
      "Epoch 4/20\n",
      "3/3 [==============================] - 35s 11s/step - loss: 0.4385 - accuracy: 0.9067 - precision: 0.9067 - recall: 0.9067 - auc: 0.9541 - f1_score: 1.3906 - val_loss: 0.0835 - val_accuracy: 0.9565 - val_precision: 0.9565 - val_recall: 0.9565 - val_auc: 0.9986 - val_f1_score: 1.4348\n",
      "Epoch 5/20\n",
      "3/3 [==============================] - 35s 11s/step - loss: 0.5658 - accuracy: 0.8667 - precision: 0.8611 - recall: 0.8267 - auc: 0.9483 - f1_score: 1.2683 - val_loss: 0.0036 - val_accuracy: 1.0000 - val_precision: 1.0000 - val_recall: 1.0000 - val_auc: 1.0000 - val_f1_score: 1.5000\n",
      "Epoch 6/20\n",
      "3/3 [==============================] - 34s 12s/step - loss: 0.0946 - accuracy: 0.9600 - precision: 0.9600 - recall: 0.9600 - auc: 0.9983 - f1_score: 1.4233 - val_loss: 0.2860 - val_accuracy: 0.8696 - val_precision: 0.8696 - val_recall: 0.8696 - val_auc: 0.9877 - val_f1_score: 1.3043\n",
      "Epoch 7/20\n",
      "3/3 [==============================] - 35s 11s/step - loss: 0.1680 - accuracy: 0.9333 - precision: 0.9333 - recall: 0.9333 - auc: 0.9970 - f1_score: 1.4219 - val_loss: 0.0064 - val_accuracy: 1.0000 - val_precision: 1.0000 - val_recall: 1.0000 - val_auc: 1.0000 - val_f1_score: 1.5000\n",
      "Epoch 8/20\n",
      "3/3 [==============================] - 35s 12s/step - loss: 2.7870e-04 - accuracy: 1.0000 - precision: 1.0000 - recall: 1.0000 - auc: 1.0000 - f1_score: 1.5000 - val_loss: 3.4474e-04 - val_accuracy: 1.0000 - val_precision: 1.0000 - val_recall: 1.0000 - val_auc: 1.0000 - val_f1_score: 1.5000\n",
      "Epoch 9/20\n",
      "3/3 [==============================] - 35s 12s/step - loss: 0.0065 - accuracy: 1.0000 - precision: 1.0000 - recall: 1.0000 - auc: 1.0000 - f1_score: 1.5000 - val_loss: 0.0016 - val_accuracy: 1.0000 - val_precision: 1.0000 - val_recall: 1.0000 - val_auc: 1.0000 - val_f1_score: 1.5000\n",
      "Epoch 10/20\n",
      "3/3 [==============================] - 35s 12s/step - loss: 0.0078 - accuracy: 1.0000 - precision: 1.0000 - recall: 1.0000 - auc: 1.0000 - f1_score: 1.5000 - val_loss: 0.0012 - val_accuracy: 1.0000 - val_precision: 1.0000 - val_recall: 1.0000 - val_auc: 1.0000 - val_f1_score: 1.5000\n",
      "Epoch 11/20\n",
      "3/3 [==============================] - 35s 12s/step - loss: 0.0015 - accuracy: 1.0000 - precision: 1.0000 - recall: 1.0000 - auc: 1.0000 - f1_score: 1.5000 - val_loss: 3.2725e-04 - val_accuracy: 1.0000 - val_precision: 1.0000 - val_recall: 1.0000 - val_auc: 1.0000 - val_f1_score: 1.5000\n",
      "Epoch 12/20\n",
      "3/3 [==============================] - 34s 11s/step - loss: 3.0246e-04 - accuracy: 1.0000 - precision: 1.0000 - recall: 1.0000 - auc: 1.0000 - f1_score: 1.5000 - val_loss: 6.0725e-05 - val_accuracy: 1.0000 - val_precision: 1.0000 - val_recall: 1.0000 - val_auc: 1.0000 - val_f1_score: 1.5000\n",
      "Epoch 13/20\n",
      "3/3 [==============================] - 35s 11s/step - loss: 4.0945e-05 - accuracy: 1.0000 - precision: 1.0000 - recall: 1.0000 - auc: 1.0000 - f1_score: 1.5000 - val_loss: 1.5045e-05 - val_accuracy: 1.0000 - val_precision: 1.0000 - val_recall: 1.0000 - val_auc: 1.0000 - val_f1_score: 1.5000\n",
      "Epoch 14/20\n",
      "3/3 [==============================] - 34s 12s/step - loss: 9.9799e-06 - accuracy: 1.0000 - precision: 1.0000 - recall: 1.0000 - auc: 1.0000 - f1_score: 1.5000 - val_loss: 1.4609e-05 - val_accuracy: 1.0000 - val_precision: 1.0000 - val_recall: 1.0000 - val_auc: 1.0000 - val_f1_score: 1.5000\n",
      "Epoch 15/20\n",
      "3/3 [==============================] - 36s 12s/step - loss: 5.4406e-06 - accuracy: 1.0000 - precision: 1.0000 - recall: 1.0000 - auc: 1.0000 - f1_score: 1.5000 - val_loss: 2.4701e-05 - val_accuracy: 1.0000 - val_precision: 1.0000 - val_recall: 1.0000 - val_auc: 1.0000 - val_f1_score: 1.5000\n",
      "Epoch 16/20\n",
      "3/3 [==============================] - 41s 14s/step - loss: 7.0519e-06 - accuracy: 1.0000 - precision: 1.0000 - recall: 1.0000 - auc: 1.0000 - f1_score: 1.5000 - val_loss: 2.9839e-05 - val_accuracy: 1.0000 - val_precision: 1.0000 - val_recall: 1.0000 - val_auc: 1.0000 - val_f1_score: 1.5000\n",
      "Epoch 17/20\n",
      "3/3 [==============================] - 41s 14s/step - loss: 7.9913e-06 - accuracy: 1.0000 - precision: 1.0000 - recall: 1.0000 - auc: 1.0000 - f1_score: 1.5000 - val_loss: 2.8534e-05 - val_accuracy: 1.0000 - val_precision: 1.0000 - val_recall: 1.0000 - val_auc: 1.0000 - val_f1_score: 1.5000\n",
      "Epoch 18/20\n",
      "3/3 [==============================] - 41s 14s/step - loss: 1.9753e-05 - accuracy: 1.0000 - precision: 1.0000 - recall: 1.0000 - auc: 1.0000 - f1_score: 1.5000 - val_loss: 1.9007e-05 - val_accuracy: 1.0000 - val_precision: 1.0000 - val_recall: 1.0000 - val_auc: 1.0000 - val_f1_score: 1.5000\n",
      "Epoch 19/20\n",
      "3/3 [==============================] - 41s 14s/step - loss: 1.1368e-05 - accuracy: 1.0000 - precision: 1.0000 - recall: 1.0000 - auc: 1.0000 - f1_score: 1.5000 - val_loss: 1.0966e-05 - val_accuracy: 1.0000 - val_precision: 1.0000 - val_recall: 1.0000 - val_auc: 1.0000 - val_f1_score: 1.5000\n",
      "Epoch 20/20\n",
      "3/3 [==============================] - 41s 14s/step - loss: 6.4005e-06 - accuracy: 1.0000 - precision: 1.0000 - recall: 1.0000 - auc: 1.0000 - f1_score: 1.5000 - val_loss: 6.5664e-06 - val_accuracy: 1.0000 - val_precision: 1.0000 - val_recall: 1.0000 - val_auc: 1.0000 - val_f1_score: 1.5000\n"
     ]
    }
   ],
   "source": [
    "# this is where i fit and trained my model\n",
    "%time\n",
    "history=model_ann.fit(x_train1,y_train1,validation_data=(x_val,y_val),epochs = 20,verbose = 1,callbacks=[lrd,mcp,es])"
   ]
  },
  {
   "cell_type": "code",
   "execution_count": 46,
   "id": "59829d19",
   "metadata": {},
   "outputs": [
    {
     "data": {
      "image/png": "[encoded data removed]",
      "text/plain": [
       "<Figure size 1080x720 with 2 Axes>"
      ]
     },
     "metadata": {
      "needs_background": "light"
     },
     "output_type": "display_data"
    }
   ],
   "source": [
    "acc = history.history['recall']\n",
    "val_acc = history.history['val_recall']\n",
    "loss = history.history['loss']\n",
    "val_loss = history.history['val_loss']\n",
    "epochs_range = range(len(history.history['val_loss']))\n",
    "plt.figure(figsize=(15, 10))\n",
    "plt.subplot(1, 2, 1)\n",
    "plt.scatter(epochs_range, acc, label='Training Recall')\n",
    "plt.scatter(epochs_range, val_acc, label='Validation Recall')\n",
    "plt.legend(loc='lower right')\n",
    "plt.title('Training and Validation Recall')\n",
    "plt.subplot(1, 2, 2)\n",
    "plt.scatter(epochs_range, loss, label='Training Loss')\n",
    "plt.scatter(epochs_range, val_loss, label='Validation Loss')\n",
    "plt.legend(loc='upper right')\n",
    "plt.title('Training and Validation Loss')\n",
    "plt.show()"
   ]
  },
  {
   "cell_type": "code",
   "execution_count": 17,
   "id": "e6bac5b6",
   "metadata": {},
   "outputs": [
    {
     "ename": "NameError",
     "evalue": "name 'model' is not defined",
     "output_type": "error",
     "traceback": [
      "\u001b[1;31m---------------------------------------------------------------------------\u001b[0m",
      "\u001b[1;31mNameError\u001b[0m                                 Traceback (most recent call last)",
      "\u001b[1;32m<ipython-input-17-70823e6480cd>\u001b[0m in \u001b[0;36m<module>\u001b[1;34m\u001b[0m\n\u001b[1;32m----> 1\u001b[1;33m \u001b[0my_pred\u001b[0m \u001b[1;33m=\u001b[0m \u001b[0mmodel\u001b[0m\u001b[1;33m.\u001b[0m\u001b[0mpredict\u001b[0m\u001b[1;33m(\u001b[0m\u001b[0mx_test\u001b[0m\u001b[1;33m)\u001b[0m\u001b[1;33m\u001b[0m\u001b[1;33m\u001b[0m\u001b[0m\n\u001b[0m\u001b[0;32m      2\u001b[0m \u001b[1;32mdef\u001b[0m \u001b[0mplot_roc_curve\u001b[0m\u001b[1;33m(\u001b[0m\u001b[0mytest\u001b[0m\u001b[1;33m,\u001b[0m \u001b[0mypred\u001b[0m\u001b[1;33m)\u001b[0m\u001b[1;33m:\u001b[0m\u001b[1;33m\u001b[0m\u001b[1;33m\u001b[0m\u001b[0m\n\u001b[0;32m      3\u001b[0m     \u001b[0mnum_classes\u001b[0m \u001b[1;33m=\u001b[0m \u001b[0mlen\u001b[0m\u001b[1;33m(\u001b[0m\u001b[0mnp\u001b[0m\u001b[1;33m.\u001b[0m\u001b[0munique\u001b[0m\u001b[1;33m(\u001b[0m\u001b[0mytest\u001b[0m\u001b[1;33m)\u001b[0m\u001b[1;33m)\u001b[0m\u001b[1;33m\u001b[0m\u001b[1;33m\u001b[0m\u001b[0m\n\u001b[0;32m      4\u001b[0m     \u001b[0mytest\u001b[0m \u001b[1;33m=\u001b[0m \u001b[0mlabel_binarize\u001b[0m\u001b[1;33m(\u001b[0m\u001b[0mytest\u001b[0m\u001b[1;33m,\u001b[0m \u001b[0mclasses\u001b[0m\u001b[1;33m=\u001b[0m\u001b[0mnp\u001b[0m\u001b[1;33m.\u001b[0m\u001b[0masarray\u001b[0m\u001b[1;33m(\u001b[0m\u001b[0mnum_classes\u001b[0m\u001b[1;33m)\u001b[0m\u001b[1;33m)\u001b[0m\u001b[1;33m\u001b[0m\u001b[1;33m\u001b[0m\u001b[0m\n\u001b[0;32m      5\u001b[0m     \u001b[0mypred\u001b[0m \u001b[1;33m=\u001b[0m \u001b[0mlabel_binarize\u001b[0m\u001b[1;33m(\u001b[0m\u001b[0mypred\u001b[0m\u001b[1;33m,\u001b[0m \u001b[0mclasses\u001b[0m\u001b[1;33m=\u001b[0m\u001b[0mnp\u001b[0m\u001b[1;33m.\u001b[0m\u001b[0masarray\u001b[0m\u001b[1;33m(\u001b[0m\u001b[0mnum_classes\u001b[0m\u001b[1;33m)\u001b[0m\u001b[1;33m)\u001b[0m\u001b[1;33m\u001b[0m\u001b[1;33m\u001b[0m\u001b[0m\n",
      "\u001b[1;31mNameError\u001b[0m: name 'model' is not defined"
     ]
    }
   ],
   "source": [
    "y_pred = model.predict(x_test)\n",
    "def plot_roc_curve(ytest, ypred):\n",
    "    num_classes = len(np.unique(ytest))\n",
    "    ytest = label_binarize(ytest, classes=np.asarray(num_classes))\n",
    "    ypred = label_binarize(ypred, classes=np.asarray(num_classes))\n",
    "\n",
    "  # Compute ROC curve and ROC area for each class\n",
    "    fpr = dict()\n",
    "    tpr = dict()\n",
    "    roc_auc = dict()\n",
    "    for i in range(num_classes):\n",
    "        fpr[i], tpr[i], _ = roc_curve(ytest[:, i], ypred[:, i])\n",
    "        roc_auc[i] = auc(fpr[i], tpr[i])\n",
    "    fpr[\"micro\"], tpr[\"micro\"], _ = roc_curve(y_test.ravel(), y_pred.ravel())\n",
    "    roc_auc[\"micro\"] = auc(fpr[\"micro\"], tpr[\"micro\"])\n",
    "\n",
    "  # First aggregate all false positive rates\n",
    "    all_fpr = np.unique(np.concatenate([fpr[i] for i in range(num_classes)]))\n",
    "\n",
    "  # Then interpolate all ROC curves at this points\n",
    "    mean_tpr = np.zeros_like(all_fpr)\n",
    "    for i in range(num_classes):\n",
    "        mean_tpr += np.interp(all_fpr, fpr[i], tpr[i])\n",
    "\n",
    "  # Finally average it and compute AUC\n",
    "    mean_tpr /= num_classes\n",
    "\n",
    "    fpr[\"macro\"] = all_fpr\n",
    "    tpr[\"macro\"] = mean_tpr\n",
    "    roc_auc[\"macro\"] = auc(fpr[\"macro\"], tpr[\"macro\"])\n",
    "\n",
    "  # Plot all ROC curves\n",
    "  #plt.figure(figsize=(10,5))\n",
    "    plt.figure(dpi=600)\n",
    "    lw = 2\n",
    "    plt.plot(fpr[\"micro\"], tpr[\"micro\"],\n",
    "    label=\"micro-average ROC curve (area = {0:0.2f})\".format(roc_auc[\"micro\"]),\n",
    "    color=\"deeppink\", linestyle=\":\", linewidth=4,)\n",
    "\n",
    "    plt.plot(fpr[\"macro\"], tpr[\"macro\"],\n",
    "    label=\"macro-average ROC curve (area = {0:0.2f})\".format(roc_auc[\"macro\"]),\n",
    "    color=\"navy\", linestyle=\":\", linewidth=4,)\n",
    "\n",
    "    colors = cycle([\"aqua\", \"darkorange\", \"darkgreen\", \"yellow\", \"blue\"])\n",
    "    for i, color in zip(range(num_classes), colors):\n",
    "        plt.plot(fpr[i], tpr[i], color=color, lw=lw,\n",
    "        label=\"ROC curve of class {0} (area = {1:0.2f})\".format(i, roc_auc[i]),)\n",
    "\n",
    "    plt.plot([0, 1], [0, 1], \"k--\", lw=lw)\n",
    "    plt.xlim([0.0, 1.0])\n",
    "    plt.ylim([0.0, 1.05])\n",
    "    plt.xlabel(\"False Positive Rate\")\n",
    "    plt.ylabel(\"True Positive Rate\")\n",
    "    plt.title(\"Receiver Operating Characteristic (ROC) curve\")\n",
    "    plt.legend()"
   ]
  },
  {
   "cell_type": "code",
   "execution_count": 47,
   "id": "810fde4e",
   "metadata": {},
   "outputs": [
    {
     "name": "stdout",
     "output_type": "stream",
     "text": [
      "Confusion Matrix\n",
      "Classification Report\n",
      "              precision    recall  f1-score   support\n",
      "\n",
      "      Healty       0.81      0.93      0.87        14\n",
      "     caution       0.82      0.82      0.82        17\n",
      "      severe       0.00      0.00      0.00         2\n",
      "\n",
      "    accuracy                           0.82        33\n",
      "   macro avg       0.55      0.58      0.56        33\n",
      "weighted avg       0.77      0.82      0.79        33\n",
      "\n"
     ]
    },
    {
     "data": {
      "image/png": "[encoded data removed]",
      "text/plain": [
       "<Figure size 720x720 with 2 Axes>"
      ]
     },
     "metadata": {
      "needs_background": "light"
     },
     "output_type": "display_data"
    }
   ],
   "source": [
    "# here i want to define and plot my confusion matrix\n",
    "# and also my classification report\n",
    "def plot_confusion_matrix(cm, classes, normalize=True, title='Confusion matrix', cmap=plt.cm.Blues):\n",
    "    \n",
    "    plt.figure(figsize=(10,10))\n",
    "    plt.imshow(cm, interpolation='nearest', cmap=cmap)\n",
    "    plt.title(title)\n",
    "    plt.colorbar()\n",
    "    tick_marks = np.arange(len(classes))\n",
    "    plt.xticks(tick_marks, classes, rotation=45)\n",
    "    plt.yticks(tick_marks, classes)\n",
    "    if normalize:\n",
    "        cm = cm.astype('float') / cm.sum(axis=1)[:, np.newaxis]\n",
    "        cm = np.around(cm, decimals=2)\n",
    "        cm[np.isnan(cm)] = 0.0\n",
    "    thresh = cm.max() / 2.\n",
    "    for i, j in itertools.product(range(cm.shape[0]), range(cm.shape[1])):\n",
    "        plt.text(j, i, cm[i, j],\n",
    "                 horizontalalignment=\"center\",\n",
    "                 color=\"white\" if cm[i, j] > thresh else \"black\")\n",
    "    plt.tight_layout()\n",
    "    plt.ylabel('True label')\n",
    "    plt.xlabel('Predicted label')\n",
    "    \n",
    "    \n",
    "y_pred = (model_ann.predict(x_test) > 0.5).astype(\"int32\")\n",
    "\n",
    "y_test_c = np.argmax(y_test, axis=1)\n",
    "target_names = [\"Healty\", \"caution\", \"severe\"]\n",
    "\n",
    "Y_pred = np.argmax(model_ann.predict(x_test),axis=1)\n",
    "print('Confusion Matrix')\n",
    "cm = confusion_matrix(y_test_c, Y_pred)\n",
    "plot_confusion_matrix(cm, target_names, normalize=False, title='Confusion Matrix')\n",
    "\n",
    "print('Classification Report')\n",
    "print(classification_report(y_test_c, Y_pred, target_names=target_names))\n",
    "\n",
    "\n",
    "#=====================important note==============================#\n",
    "# this model i created basically classifies different cases into 3 and they are\n",
    "# healthy(meaning the eye is healthy and free from any retinopathy)\n",
    "# caution(meaning the eye has some detected disfunctionalities and immediate treatemet has to commence\n",
    "# before it worsens)\n",
    "# and severe(meaning that the eye is under serious attack from by retinopathy and in severe condition)\n",
    "# so its either the eye is healthy severe or needs to be treated with caution"
   ]
  },
  {
   "cell_type": "code",
   "execution_count": 48,
   "id": "c57a0700",
   "metadata": {},
   "outputs": [
    {
     "name": "stdout",
     "output_type": "stream",
     "text": [
      "Model: \"sequential_4\"\n",
      "_________________________________________________________________\n",
      "Layer (type)                 Output Shape              Param #   \n",
      "=================================================================\n",
      "conv2d_378 (Conv2D)          (None, 224, 224, 32)      416       \n",
      "_________________________________________________________________\n",
      "max_pooling2d_18 (MaxPooling (None, 112, 112, 32)      0         \n",
      "_________________________________________________________________\n",
      "conv2d_379 (Conv2D)          (None, 111, 111, 64)      8256      \n",
      "_________________________________________________________________\n",
      "max_pooling2d_19 (MaxPooling (None, 55, 55, 64)        0         \n",
      "_________________________________________________________________\n",
      "flatten_4 (Flatten)          (None, 193600)            0         \n",
      "_________________________________________________________________\n",
      "dense_11 (Dense)             (None, 128)               24780928  \n",
      "_________________________________________________________________\n",
      "dense_12 (Dense)             (None, 3)                 387       \n",
      "=================================================================\n",
      "Total params: 24,789,987\n",
      "Trainable params: 24,789,987\n",
      "Non-trainable params: 0\n",
      "_________________________________________________________________\n"
     ]
    }
   ],
   "source": [
    "model_cnn = Sequential()\n",
    "#model_cnn.add = (base_model)\n",
    "model_cnn.add(Conv2D(filters = 32, kernel_size = 2, activation = 'relu', input_shape=(225, 225, 3)))\n",
    "model_cnn.add(MaxPooling2D((2, 2)))\n",
    "model_cnn.add(Conv2D(filters = 64, kernel_size = 2, activation = 'relu'))\n",
    "model_cnn.add(MaxPooling2D((2, 2)))\n",
    "model_cnn.add(Flatten())\n",
    "model_cnn.add(Dense(128, activation = 'relu'))\n",
    "model_cnn.add(Dense(3, activation = 'softmax'))\n",
    "model_cnn.summary()"
   ]
  },
  {
   "cell_type": "code",
   "execution_count": 49,
   "id": "a12a084b",
   "metadata": {},
   "outputs": [],
   "source": [
    "model_cnn.compile(optimizer='Adam', loss = tf.keras.losses.CategoricalCrossentropy(),metrics=METRICS)"
   ]
  },
  {
   "cell_type": "code",
   "execution_count": 50,
   "id": "585fd32a",
   "metadata": {},
   "outputs": [
    {
     "name": "stdout",
     "output_type": "stream",
     "text": [
      "Wall time: 0 ns\n",
      "Epoch 1/20\n",
      "2/2 [==============================] - 33s 14s/step - loss: 4.7127 - accuracy: 0.6133 - precision: 0.7442 - recall: 0.4267 - auc: 0.8135 - f1_score: 0.3375 - val_loss: 32.9902 - val_accuracy: 0.3913 - val_precision: 0.3913 - val_recall: 0.3913 - val_auc: 0.5435 - val_f1_score: 0.5870\n",
      "Epoch 2/20\n",
      "2/2 [==============================] - 8s 4s/step - loss: 24.6098 - accuracy: 0.4231 - precision: 0.4231 - recall: 0.4231 - auc: 0.5673 - f1_score: 0.6422 - val_loss: 8.8572 - val_accuracy: 0.3913 - val_precision: 0.3913 - val_recall: 0.3913 - val_auc: 0.5629 - val_f1_score: 0.5870\n",
      "Epoch 3/20\n",
      "2/2 [==============================] - 8s 4s/step - loss: 5.7378 - accuracy: 0.5192 - precision: 0.5192 - recall: 0.5192 - auc: 0.6786 - f1_score: 0.7734 - val_loss: 9.8875 - val_accuracy: 0.3913 - val_precision: 0.3913 - val_recall: 0.3913 - val_auc: 0.5435 - val_f1_score: 0.5870\n",
      "Epoch 4/20\n",
      "2/2 [==============================] - 9s 4s/step - loss: 8.5831 - accuracy: 0.4423 - precision: 0.4423 - recall: 0.4423 - auc: 0.5817 - f1_score: 0.6797 - val_loss: 4.0761 - val_accuracy: 0.3913 - val_precision: 0.3913 - val_recall: 0.3913 - val_auc: 0.6040 - val_f1_score: 0.5870\n",
      "Epoch 5/20\n",
      "2/2 [==============================] - 9s 4s/step - loss: 3.1085 - accuracy: 0.4615 - precision: 0.4510 - recall: 0.4423 - auc: 0.6241 - f1_score: 0.6893 - val_loss: 0.8148 - val_accuracy: 0.6957 - val_precision: 0.6154 - val_recall: 0.3478 - val_auc: 0.8388 - val_f1_score: 0.6667\n",
      "Epoch 6/20\n",
      "2/2 [==============================] - 9s 4s/step - loss: 1.2382 - accuracy: 0.6154 - precision: 0.6429 - recall: 0.5192 - auc: 0.6742 - f1_score: 0.8035 - val_loss: 1.0563 - val_accuracy: 0.4348 - val_precision: 0.4348 - val_recall: 0.4348 - val_auc: 0.7453 - val_f1_score: 0.6522\n",
      "Epoch 7/20\n",
      "2/2 [==============================] - 8s 4s/step - loss: 0.8100 - accuracy: 0.6538 - precision: 0.6977 - recall: 0.5769 - auc: 0.8144 - f1_score: 0.9821 - val_loss: 0.9185 - val_accuracy: 0.4348 - val_precision: 0.5294 - val_recall: 0.3913 - val_auc: 0.7453 - val_f1_score: 0.6750\n",
      "Epoch 8/20\n",
      "2/2 [==============================] - 9s 4s/step - loss: 0.7550 - accuracy: 0.5385 - precision: 0.6571 - recall: 0.4423 - auc: 0.8131 - f1_score: 0.8184 - val_loss: 0.6169 - val_accuracy: 0.6957 - val_precision: 0.8889 - val_recall: 0.6957 - val_auc: 0.9069 - val_f1_score: 1.1707\n",
      "Epoch 9/20\n",
      "2/2 [==============================] - 8s 4s/step - loss: 0.5230 - accuracy: 0.8269 - precision: 0.8372 - recall: 0.6923 - auc: 0.9405 - f1_score: 1.1511 - val_loss: 0.5573 - val_accuracy: 0.7826 - val_precision: 0.8000 - val_recall: 0.6957 - val_auc: 0.9178 - val_f1_score: 1.1163\n",
      "Epoch 10/20\n",
      "2/2 [==============================] - 9s 4s/step - loss: 0.4822 - accuracy: 0.8269 - precision: 0.8400 - recall: 0.8077 - auc: 0.9396 - f1_score: 1.2491 - val_loss: 0.6127 - val_accuracy: 0.6957 - val_precision: 0.7273 - val_recall: 0.6957 - val_auc: 0.9036 - val_f1_score: 1.0667\n",
      "Epoch 11/20\n",
      "2/2 [==============================] - 8s 4s/step - loss: 0.4623 - accuracy: 0.8269 - precision: 0.8750 - recall: 0.8077 - auc: 0.9437 - f1_score: 1.2759 - val_loss: 0.5680 - val_accuracy: 0.6957 - val_precision: 0.7619 - val_recall: 0.6957 - val_auc: 0.9197 - val_f1_score: 1.0909\n",
      "Epoch 12/20\n",
      "2/2 [==============================] - 8s 4s/step - loss: 0.4263 - accuracy: 0.8269 - precision: 0.8431 - recall: 0.8269 - auc: 0.9506 - f1_score: 1.2429 - val_loss: 0.5174 - val_accuracy: 0.7391 - val_precision: 0.8000 - val_recall: 0.6957 - val_auc: 0.9211 - val_f1_score: 1.1163\n",
      "Epoch 13/20\n",
      "2/2 [==============================] - 9s 4s/step - loss: 0.3617 - accuracy: 0.8462 - precision: 0.8571 - recall: 0.8077 - auc: 0.9708 - f1_score: 1.2393 - val_loss: 0.5132 - val_accuracy: 0.7391 - val_precision: 0.7273 - val_recall: 0.6957 - val_auc: 0.9282 - val_f1_score: 1.0667\n",
      "Epoch 14/20\n",
      "2/2 [==============================] - 9s 3s/step - loss: 0.3660 - accuracy: 0.8846 - precision: 0.9130 - recall: 0.8077 - auc: 0.9741 - f1_score: 1.2561 - val_loss: 0.5463 - val_accuracy: 0.6957 - val_precision: 0.7273 - val_recall: 0.6957 - val_auc: 0.9282 - val_f1_score: 1.0667\n",
      "Epoch 15/20\n",
      "2/2 [==============================] - 8s 4s/step - loss: 0.3100 - accuracy: 0.8654 - precision: 0.8958 - recall: 0.8269 - auc: 0.9800 - f1_score: 1.3125 - val_loss: 0.5633 - val_accuracy: 0.7391 - val_precision: 0.8000 - val_recall: 0.6957 - val_auc: 0.9249 - val_f1_score: 1.1163\n",
      "Epoch 16/20\n",
      "2/2 [==============================] - 9s 4s/step - loss: 0.2926 - accuracy: 0.8462 - precision: 0.8600 - recall: 0.8269 - auc: 0.9794 - f1_score: 1.2729 - val_loss: 0.5548 - val_accuracy: 0.6957 - val_precision: 0.7619 - val_recall: 0.6957 - val_auc: 0.9239 - val_f1_score: 1.0909\n",
      "Epoch 17/20\n",
      "2/2 [==============================] - 8s 3s/step - loss: 0.2459 - accuracy: 0.9423 - precision: 0.9600 - recall: 0.9231 - auc: 0.9919 - f1_score: 1.4141 - val_loss: 0.7417 - val_accuracy: 0.6957 - val_precision: 0.6957 - val_recall: 0.6957 - val_auc: 0.8946 - val_f1_score: 1.0435\n",
      "Epoch 18/20\n",
      "2/2 [==============================] - 8s 4s/step - loss: 0.2297 - accuracy: 0.9423 - precision: 0.9583 - recall: 0.8846 - auc: 0.9915 - f1_score: 1.3797 - val_loss: 0.5908 - val_accuracy: 0.7391 - val_precision: 0.7273 - val_recall: 0.6957 - val_auc: 0.9211 - val_f1_score: 1.0667\n",
      "Epoch 19/20\n",
      "2/2 [==============================] - 8s 4s/step - loss: 0.1946 - accuracy: 0.9423 - precision: 0.9796 - recall: 0.9231 - auc: 0.9934 - f1_score: 1.4091 - val_loss: 0.4992 - val_accuracy: 0.7826 - val_precision: 0.8095 - val_recall: 0.7391 - val_auc: 0.9310 - val_f1_score: 1.1591\n",
      "Epoch 20/20\n",
      "2/2 [==============================] - 8s 4s/step - loss: 0.1654 - accuracy: 0.9808 - precision: 0.9804 - recall: 0.9615 - auc: 0.9967 - f1_score: 1.4643 - val_loss: 0.6616 - val_accuracy: 0.6957 - val_precision: 0.7273 - val_recall: 0.6957 - val_auc: 0.9041 - val_f1_score: 1.0667\n"
     ]
    }
   ],
   "source": [
    "%time\n",
    "history1=model_cnn.fit(x_train,y_train,validation_data=(x_val,y_val),epochs = 20,verbose = 1,callbacks=[lrd,mcp,es])"
   ]
  },
  {
   "cell_type": "code",
   "execution_count": 51,
   "id": "f81a1c47",
   "metadata": {},
   "outputs": [
    {
     "data": {
      "image/png": "[encoded data removed]",
      "text/plain": [
       "<Figure size 1080x720 with 2 Axes>"
      ]
     },
     "metadata": {
      "needs_background": "light"
     },
     "output_type": "display_data"
    }
   ],
   "source": [
    "acc1 = history1.history['recall']\n",
    "val_acc1 = history1.history['val_recall']\n",
    "loss1 = history1.history['loss']\n",
    "val_loss1 = history1.history['val_loss']\n",
    "epochs_range1 = range(len(history1.history['val_loss']))\n",
    "plt.figure(figsize=(15, 10))\n",
    "plt.subplot(1, 2, 1)\n",
    "plt.scatter(epochs_range1, acc1, label='Training Recall')\n",
    "plt.scatter(epochs_range1, val_acc1, label='Validation Recall')\n",
    "plt.legend(loc='lower right')\n",
    "plt.title('Training and Validation Recall')\n",
    "plt.subplot(1, 2, 2)\n",
    "plt.scatter(epochs_range1, loss1, label='Training Loss')\n",
    "plt.scatter(epochs_range1, val_loss1, label='Validation Loss')\n",
    "plt.legend(loc='upper right')\n",
    "plt.title('Training and Validation Loss')\n",
    "plt.show()"
   ]
  },
  {
   "cell_type": "code",
   "execution_count": 52,
   "id": "59713f0b",
   "metadata": {},
   "outputs": [
    {
     "name": "stdout",
     "output_type": "stream",
     "text": [
      "Confusion Matrix\n",
      "Classification Report\n",
      "              precision    recall  f1-score   support\n",
      "\n",
      "      Healty       0.78      1.00      0.88        14\n",
      "     caution       0.93      0.82      0.87        17\n",
      "      severe       0.00      0.00      0.00         2\n",
      "\n",
      "    accuracy                           0.85        33\n",
      "   macro avg       0.57      0.61      0.58        33\n",
      "weighted avg       0.81      0.85      0.82        33\n",
      "\n"
     ]
    },
    {
     "data": {
      "image/png": "[encoded data removed]",
      "text/plain": [
       "<Figure size 720x720 with 2 Axes>"
      ]
     },
     "metadata": {
      "needs_background": "light"
     },
     "output_type": "display_data"
    }
   ],
   "source": [
    "def plot_confusion_matrix(cm, classes, normalize=True, title='Confusion matrix', cmap=plt.cm.Blues):\n",
    "    \n",
    "    plt.figure(figsize=(10,10))\n",
    "    plt.imshow(cm, interpolation='nearest', cmap=cmap)\n",
    "    plt.title(title)\n",
    "    plt.colorbar()\n",
    "    tick_marks = np.arange(len(classes))\n",
    "    plt.xticks(tick_marks, classes, rotation=45)\n",
    "    plt.yticks(tick_marks, classes)\n",
    "    if normalize:\n",
    "        cm = cm.astype('float') / cm.sum(axis=1)[:, np.newaxis]\n",
    "        cm = np.around(cm, decimals=2)\n",
    "        cm[np.isnan(cm)] = 0.0\n",
    "    thresh = cm.max() / 2.\n",
    "    for i, j in itertools.product(range(cm.shape[0]), range(cm.shape[1])):\n",
    "        plt.text(j, i, cm[i, j],\n",
    "                 horizontalalignment=\"center\",\n",
    "                 color=\"white\" if cm[i, j] > thresh else \"black\")\n",
    "    plt.tight_layout()\n",
    "    plt.ylabel('True label')\n",
    "    plt.xlabel('Predicted label')\n",
    "    \n",
    "    \n",
    "y_pred1 = (model_cnn.predict(x_test) > 0.5).astype(\"int32\")\n",
    "\n",
    "y_test_c1 = np.argmax(y_test, axis=1)\n",
    "target_names1 = [\"Healty\", \"caution\", \"severe\"]\n",
    "\n",
    "Y_pred1 = np.argmax(model_cnn.predict(x_test),axis=1)\n",
    "print('Confusion Matrix')\n",
    "cm = confusion_matrix(y_test_c1, Y_pred1)\n",
    "plot_confusion_matrix(cm, target_names1, normalize=False, title='Confusion Matrix')\n",
    "\n",
    "print('Classification Report')\n",
    "print(classification_report(y_test_c1, Y_pred1, target_names=target_names1))"
   ]
  },
  {
   "cell_type": "code",
   "execution_count": null,
   "id": "a968bed9",
   "metadata": {},
   "outputs": [],
   "source": [
    " import tensorflow.keras.layers as KL\n",
    "inputss = KL.Input(shape=(225, 225, 3))\n",
    "R = KL.SimpleRNN(128, activation=\"relu\")(inputss)\n",
    "outputss = KL.Dense(3, activation='softmax')(R)\n",
    "\n",
    "model_rnn = tf.keras.models.Model(inputss, outputss)\n",
    "model_rnn.summary()"
   ]
  }
 ],
 "metadata": {
  "kernelspec": {
   "display_name": "Python 3",
   "language": "python",
   "name": "python3"
  },
  "language_info": {
   "codemirror_mode": {
    "name": "ipython",
    "version": 3
   },
   "file_extension": ".py",
   "mimetype": "text/x-python",
   "name": "python",
   "nbconvert_exporter": "python",
   "pygments_lexer": "ipython3",
   "version": "3.8.5"
  }
 },
 "nbformat": 4,
 "nbformat_minor": 5
}
